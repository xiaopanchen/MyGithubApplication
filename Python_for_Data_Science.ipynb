{
  "nbformat": 4,
  "nbformat_minor": 0,
  "metadata": {
    "colab": {
      "name": "Python for Data Science.ipynb",
      "provenance": [],
      "collapsed_sections": [],
      "include_colab_link": true
    },
    "kernelspec": {
      "name": "python3",
      "display_name": "Python 3"
    }
  },
  "cells": [
    {
      "cell_type": "markdown",
      "metadata": {
        "id": "view-in-github",
        "colab_type": "text"
      },
      "source": [
        "<a href=\"https://colab.research.google.com/github/xiaopanchen/MyGithubApplication/blob/master/Python_for_Data_Science.ipynb\" target=\"_parent\"><img src=\"https://colab.research.google.com/assets/colab-badge.svg\" alt=\"Open In Colab\"/></a>"
      ]
    },
    {
      "cell_type": "code",
      "metadata": {
        "id": "xlWo7avYbCki"
      },
      "source": [
        ""
      ],
      "execution_count": null,
      "outputs": []
    },
    {
      "cell_type": "markdown",
      "metadata": {
        "id": "7FPBAw87HBeT"
      },
      "source": [
        "#PYTHON FOR DATA SCIENCE"
      ]
    },
    {
      "cell_type": "code",
      "metadata": {
        "id": "U6CgMLGIGhFV",
        "cellView": "form",
        "colab": {
          "base_uri": "https://localhost:8080/",
          "height": 499
        },
        "outputId": "f01167a4-aa87-4add-b737-110c571f567b"
      },
      "source": [
        "#@title Data Science:\n",
        "%%html\n",
        "<figure>\n",
        "<center>\n",
        "<img src='https://i.imgur.com/TcuCeak.png' height=450 width=500/>\n",
        "<figcaption></figcaption></center>\n",
        "</figure>"
      ],
      "execution_count": null,
      "outputs": [
        {
          "output_type": "display_data",
          "data": {
            "text/html": [
              "<figure>\n",
              "<center>\n",
              "<img src='https://i.imgur.com/TcuCeak.png' height=450 width=500/>\n",
              "<figcaption></figcaption></center>\n",
              "</figure>"
            ],
            "text/plain": [
              "<IPython.core.display.HTML object>"
            ]
          },
          "metadata": {
            "tags": []
          }
        }
      ]
    },
    {
      "cell_type": "code",
      "metadata": {
        "id": "lqQG42tpWWcK",
        "cellView": "form",
        "colab": {
          "base_uri": "https://localhost:8080/",
          "height": 399
        },
        "outputId": "1915599f-4333-4cf4-8dcf-cd18fe4c9a97"
      },
      "source": [
        "#@title But this lecture is \n",
        "%%html\n",
        "<figure>\n",
        "<center>\n",
        "<img src='https://i.imgur.com/KRR6EEI.jpg' height=350 width=400/>\n",
        "<figcaption></figcaption></center>\n",
        "</figure>"
      ],
      "execution_count": null,
      "outputs": [
        {
          "output_type": "display_data",
          "data": {
            "text/html": [
              "<figure>\n",
              "<center>\n",
              "<img src='https://i.imgur.com/KRR6EEI.jpg' height=350 width=400/>\n",
              "<figcaption></figcaption></center>\n",
              "</figure>"
            ],
            "text/plain": [
              "<IPython.core.display.HTML object>"
            ]
          },
          "metadata": {
            "tags": []
          }
        }
      ]
    },
    {
      "cell_type": "markdown",
      "metadata": {
        "id": "i_fKbXvGY705"
      },
      "source": [
        "# So why Python?"
      ]
    },
    {
      "cell_type": "code",
      "metadata": {
        "id": "YRe3g_I6XsSE",
        "cellView": "form",
        "colab": {
          "base_uri": "https://localhost:8080/",
          "height": 449
        },
        "outputId": "50ae405e-0e4f-42d8-ae98-0fc42b7d4140"
      },
      "source": [
        "#@title Java vs. Python\n",
        "%%html\n",
        "<figure>\n",
        "<center>\n",
        "<img src='https://i.redd.it/ry69u7oa1rsy.png' height=400 width=1000/>\n",
        "<figcaption></figcaption></center>\n",
        "</figure>"
      ],
      "execution_count": null,
      "outputs": [
        {
          "output_type": "display_data",
          "data": {
            "text/html": [
              "<figure>\n",
              "<center>\n",
              "<img src='https://i.redd.it/ry69u7oa1rsy.png' height=400 width=1000/>\n",
              "<figcaption></figcaption></center>\n",
              "</figure>"
            ],
            "text/plain": [
              "<IPython.core.display.HTML object>"
            ]
          },
          "metadata": {
            "tags": []
          }
        }
      ]
    },
    {
      "cell_type": "markdown",
      "metadata": {
        "id": "k0WSeKooZfUP"
      },
      "source": [
        "# The data science pipeline"
      ]
    },
    {
      "cell_type": "markdown",
      "metadata": {
        "id": "InalkPRQaDux"
      },
      "source": [
        "\n",
        "\n",
        "1.   Get or collect data\n",
        "2.   Manipulate and process data\n",
        "3.   Modeling and analysis\n",
        "4.   Visualize, evaluate, present, and communicate\n",
        "\n"
      ]
    },
    {
      "cell_type": "markdown",
      "metadata": {
        "id": "ZgOoRYHkaZN1"
      },
      "source": [
        "## Python's ABCs"
      ]
    },
    {
      "cell_type": "code",
      "metadata": {
        "id": "xdxrPbyiYs6K",
        "colab": {
          "base_uri": "https://localhost:8080/",
          "height": 35
        },
        "outputId": "db2e9b0c-e716-4d82-e870-5584e026e3a5"
      },
      "source": [
        "print(\"This is Python!\")"
      ],
      "execution_count": null,
      "outputs": [
        {
          "output_type": "stream",
          "text": [
            "This is Python!\n"
          ],
          "name": "stdout"
        }
      ]
    },
    {
      "cell_type": "markdown",
      "metadata": {
        "id": "Yu6hiIlOamDG"
      },
      "source": [
        "### Functions"
      ]
    },
    {
      "cell_type": "code",
      "metadata": {
        "id": "2I6jd8aYak3I",
        "colab": {
          "base_uri": "https://localhost:8080/",
          "height": 35
        },
        "outputId": "67966934-3ed2-4044-e666-f8305fc403d4"
      },
      "source": [
        "def repeatNtimes(string, n):\n",
        "  return string * n\n",
        "\n",
        "repeatNtimes(\"Spongebob\", 5)"
      ],
      "execution_count": null,
      "outputs": [
        {
          "output_type": "execute_result",
          "data": {
            "application/vnd.google.colaboratory.intrinsic+json": {
              "type": "string"
            },
            "text/plain": [
              "'SpongebobSpongebobSpongebobSpongebobSpongebob'"
            ]
          },
          "metadata": {
            "tags": []
          },
          "execution_count": 5
        }
      ]
    },
    {
      "cell_type": "code",
      "metadata": {
        "id": "A7iZyPdg6kU7",
        "colab": {
          "base_uri": "https://localhost:8080/",
          "height": 35
        },
        "outputId": "5b4a655e-20cc-48a0-e683-e4b157c128e1"
      },
      "source": [
        "repeatNtimes(5, 5)"
      ],
      "execution_count": null,
      "outputs": [
        {
          "output_type": "execute_result",
          "data": {
            "text/plain": [
              "25"
            ]
          },
          "metadata": {
            "tags": []
          },
          "execution_count": 6
        }
      ]
    },
    {
      "cell_type": "code",
      "metadata": {
        "id": "gw_s5Wek4g-Z",
        "colab": {
          "base_uri": "https://localhost:8080/",
          "height": 35
        },
        "outputId": "e7d1ee8b-5936-484a-f778-2acdfb528f05"
      },
      "source": [
        "repeatNtimes2 = lambda string, n: string * n\n",
        "repeatNtimes2('Squarepants', 5)"
      ],
      "execution_count": null,
      "outputs": [
        {
          "output_type": "execute_result",
          "data": {
            "application/vnd.google.colaboratory.intrinsic+json": {
              "type": "string"
            },
            "text/plain": [
              "'SquarepantsSquarepantsSquarepantsSquarepantsSquarepants'"
            ]
          },
          "metadata": {
            "tags": []
          },
          "execution_count": 7
        }
      ]
    },
    {
      "cell_type": "markdown",
      "metadata": {
        "id": "-iMssIVRa6hC"
      },
      "source": [
        "### Loops"
      ]
    },
    {
      "cell_type": "code",
      "metadata": {
        "id": "w4fMXyhMa7s8",
        "colab": {
          "base_uri": "https://localhost:8080/",
          "height": 242
        },
        "outputId": "2fec0752-59c5-4fa4-9f71-9011ecd74bec"
      },
      "source": [
        "list_sentence = [\"This\", \"is\", \"awesome\"]\n",
        "for idx in range(len(list_sentence)):\n",
        "  word = list_sentence[idx]\n",
        "  print(word + \"!\")\n",
        "\n",
        "print('---\\n')\n",
        "\n",
        "for idx, word in enumerate(list_sentence):\n",
        "  print(idx, word + '***')\n",
        "\n",
        "print('---\\n')\n",
        "\n",
        "for word in list_sentence:\n",
        "  print(word)"
      ],
      "execution_count": null,
      "outputs": [
        {
          "output_type": "stream",
          "text": [
            "This!\n",
            "is!\n",
            "awesome!\n",
            "---\n",
            "\n",
            "0 This***\n",
            "1 is***\n",
            "2 awesome***\n",
            "---\n",
            "\n",
            "This\n",
            "is\n",
            "awesome\n"
          ],
          "name": "stdout"
        }
      ]
    },
    {
      "cell_type": "markdown",
      "metadata": {
        "id": "UnKeIAx3a2vE"
      },
      "source": [
        "### List comprehension"
      ]
    },
    {
      "cell_type": "code",
      "metadata": {
        "id": "HGIVmCEoazVW"
      },
      "source": [
        "list_sentence = [\"This\", \"is\", \"awesome\", \"and\", \"amazing\"]\n",
        "list2 = [x + '!' for x in list_sentence if x.startswith(\"a\")]"
      ],
      "execution_count": null,
      "outputs": []
    },
    {
      "cell_type": "code",
      "metadata": {
        "id": "DTvO6-euRtj_",
        "colab": {
          "base_uri": "https://localhost:8080/",
          "height": 35
        },
        "outputId": "ab69dcda-287a-47aa-a6f9-2df3b8923933"
      },
      "source": [
        "list2"
      ],
      "execution_count": null,
      "outputs": [
        {
          "output_type": "execute_result",
          "data": {
            "text/plain": [
              "['awesome!', 'and!', 'amazing!']"
            ]
          },
          "metadata": {
            "tags": []
          },
          "execution_count": 10
        }
      ]
    },
    {
      "cell_type": "markdown",
      "metadata": {
        "id": "Le_0MyEW2bNy"
      },
      "source": [
        "##### This is the equivalent of:"
      ]
    },
    {
      "cell_type": "code",
      "metadata": {
        "id": "9zi1ebUo2eq6",
        "colab": {
          "base_uri": "https://localhost:8080/",
          "height": 35
        },
        "outputId": "0c89e649-e691-400d-f220-5b3161d9c86e"
      },
      "source": [
        "list_sentence = [\"This\", \"is\", \"awesome\", \"and\", \"amazing\"]\n",
        "list2 = []\n",
        "for x in list_sentence:\n",
        "  if x.startswith(\"a\"):\n",
        "    list2.append(x)\n",
        "list2"
      ],
      "execution_count": null,
      "outputs": [
        {
          "output_type": "execute_result",
          "data": {
            "text/plain": [
              "['awesome', 'and', 'amazing']"
            ]
          },
          "metadata": {
            "tags": []
          },
          "execution_count": 11
        }
      ]
    },
    {
      "cell_type": "code",
      "metadata": {
        "id": "YCVqB9G1Q57v"
      },
      "source": [
        "x = 'string'"
      ],
      "execution_count": null,
      "outputs": []
    },
    {
      "cell_type": "code",
      "metadata": {
        "id": "l-xrgq3yQ9R0",
        "colab": {
          "base_uri": "https://localhost:8080/",
          "height": 35
        },
        "outputId": "90701e0f-693e-4b34-88a4-7c7fe09dd59c"
      },
      "source": [
        "'string'\n",
        "\"string\"\n",
        "\n",
        "'str\"ing'\n",
        "'str\\'ing'"
      ],
      "execution_count": null,
      "outputs": [
        {
          "output_type": "execute_result",
          "data": {
            "application/vnd.google.colaboratory.intrinsic+json": {
              "type": "string"
            },
            "text/plain": [
              "\"str'ing\""
            ]
          },
          "metadata": {
            "tags": []
          },
          "execution_count": 13
        }
      ]
    },
    {
      "cell_type": "code",
      "metadata": {
        "id": "tA4BK9OSz5U0",
        "colab": {
          "base_uri": "https://localhost:8080/",
          "height": 35
        },
        "outputId": "077fd69f-77a0-4004-ede4-df05b40e4f7b"
      },
      "source": [
        "d = {'a': 0, 'b': 1, 'c': 2, 'd':3}\n",
        "[(key, value) for key, value in d.items() if value % 2 == 1]"
      ],
      "execution_count": null,
      "outputs": [
        {
          "output_type": "execute_result",
          "data": {
            "text/plain": [
              "[('b', 1), ('d', 3)]"
            ]
          },
          "metadata": {
            "tags": []
          },
          "execution_count": 14
        }
      ]
    },
    {
      "cell_type": "code",
      "metadata": {
        "id": "m9hJ2JOf0ah5",
        "colab": {
          "base_uri": "https://localhost:8080/",
          "height": 35
        },
        "outputId": "dfb281ed-1489-440f-c7f5-2661fea38d6b"
      },
      "source": [
        "[[letter + '!' for letter in string if letter != 'a'] for string in ['Data', 'Science']]"
      ],
      "execution_count": null,
      "outputs": [
        {
          "output_type": "execute_result",
          "data": {
            "text/plain": [
              "[['D!', 't!'], ['S!', 'c!', 'i!', 'e!', 'n!', 'c!', 'e!']]"
            ]
          },
          "metadata": {
            "tags": []
          },
          "execution_count": 15
        }
      ]
    },
    {
      "cell_type": "code",
      "metadata": {
        "id": "XfmeZAXFSh7X",
        "colab": {
          "base_uri": "https://localhost:8080/",
          "height": 52
        },
        "outputId": "f64d6dbc-7b33-4a09-bcd6-d04b95f716d2"
      },
      "source": [
        "print(list2)\n",
        "[[letter + '!' if letter == 'a' else letter + '?' for letter in string ] for string in ['Data', 'Science']]"
      ],
      "execution_count": null,
      "outputs": [
        {
          "output_type": "stream",
          "text": [
            "['awesome', 'and', 'amazing']\n"
          ],
          "name": "stdout"
        },
        {
          "output_type": "execute_result",
          "data": {
            "text/plain": [
              "[['D?', 'a!', 't?', 'a!'], ['S?', 'c?', 'i?', 'e?', 'n?', 'c?', 'e?']]"
            ]
          },
          "metadata": {
            "tags": []
          },
          "execution_count": 16
        }
      ]
    },
    {
      "cell_type": "markdown",
      "metadata": {
        "id": "JU7DQLnsdkQ7"
      },
      "source": [
        "# The Python ecosystem"
      ]
    },
    {
      "cell_type": "code",
      "metadata": {
        "id": "vKsJmeJ3fH1P",
        "cellView": "form",
        "colab": {
          "base_uri": "https://localhost:8080/",
          "height": 299
        },
        "outputId": "4dbaefea-39d4-4c80-b8f0-d49a61a02472"
      },
      "source": [
        "#@title .\n",
        "%%html\n",
        "<figure>\n",
        "<center>\n",
        "<img src='https://i.imgur.com/x6edHHj.png' width=400 height=250/>\n",
        "<figcaption></figcaption></center>\n",
        "</figure>"
      ],
      "execution_count": null,
      "outputs": [
        {
          "output_type": "display_data",
          "data": {
            "text/html": [
              "<figure>\n",
              "<center>\n",
              "<img src='https://i.imgur.com/x6edHHj.png' width=400 height=250/>\n",
              "<figcaption></figcaption></center>\n",
              "</figure>"
            ],
            "text/plain": [
              "<IPython.core.display.HTML object>"
            ]
          },
          "metadata": {
            "tags": []
          }
        }
      ]
    },
    {
      "cell_type": "code",
      "metadata": {
        "id": "oYZc927XcHL7",
        "cellView": "form",
        "colab": {
          "base_uri": "https://localhost:8080/",
          "height": 449
        },
        "outputId": "bc137d9c-f2bf-4ab4-f174-531eb7e96296"
      },
      "source": [
        "#@title .\n",
        "%%html\n",
        "<figure>\n",
        "<center>\n",
        "<img src='http://chris35wills.github.io/courses/pydata_stack.png' height=400 width=800/>\n",
        "<figcaption></figcaption></center>\n",
        "</figure>"
      ],
      "execution_count": null,
      "outputs": [
        {
          "output_type": "display_data",
          "data": {
            "text/html": [
              "<figure>\n",
              "<center>\n",
              "<img src='http://chris35wills.github.io/courses/pydata_stack.png' height=400 width=800/>\n",
              "<figcaption></figcaption></center>\n",
              "</figure>"
            ],
            "text/plain": [
              "<IPython.core.display.HTML object>"
            ]
          },
          "metadata": {
            "tags": []
          }
        }
      ]
    },
    {
      "cell_type": "markdown",
      "metadata": {
        "id": "jb402K3F23RQ"
      },
      "source": [
        "\n",
        "* **Numpy**: N-dimensional arrays, Matrices and Linear Algebra\n",
        "* **Scipy**: Algorithms from linear algebra, optimization, statistics and signal processing\n",
        "* **Pandas**: Data Manipulation and Analysis\n",
        "* **Matplotlib**: Data Visualization\n",
        "* **IPython**: Interactive shell for Python\n",
        "* **Scikit-learn**: Machine Learning\n",
        "\n"
      ]
    },
    {
      "cell_type": "markdown",
      "metadata": {
        "id": "hKrk3NsiqtDE"
      },
      "source": [
        "# Anaconda\n",
        "\n",
        "* A bundle of data science, machine learning and visualization libraries. \n",
        "\n",
        "* Contains every library you'd need in this course.\n",
        "\n",
        "* Easiest way to avoid inter-dependency issues. \n",
        "\n",
        "## Installation\n",
        "\n",
        "1. Go to: https://www.anaconda.com/distribution/\n",
        "\n",
        "2. Download the installer for your OS and Python version of choice and follow instructions\n",
        "\n",
        "3. ???? \n",
        "\n",
        "4. PROFIT!!\n",
        "\n",
        "# Jupyter Notebook\n",
        "\n",
        "* A browser-based notebook with support for code, text, mathematical expressions, inline plots and other rich media\n",
        "\n",
        "* This presentation is a Jupyter notebook. \n",
        "\n",
        "# Colab\n",
        "\n",
        "* Colaboratory is a free Jupyter notebook environment that requires no setup and runs entirely in the cloud.\n",
        "\n",
        "* With Colaboratory you can write and execute code, save and share your analyses, and access powerful computing resources, all for free from your browser.\n",
        "\n",
        "* This presentation is a Jupyter notebook, on Colab!"
      ]
    },
    {
      "cell_type": "markdown",
      "metadata": {
        "id": "bCnNj78hzKC-"
      },
      "source": [
        "# Pandas"
      ]
    },
    {
      "cell_type": "markdown",
      "metadata": {
        "id": "CFEpHGkdz3gs"
      },
      "source": [
        "* Pandas is a library for data manipulation and analysis\n",
        "\n",
        "* Data structures: Series and DataFrame (tabular data)\n",
        "\n",
        "* Data is loaded in-memory, hence super fast (but not ideal for datasets of scale > memory size)"
      ]
    },
    {
      "cell_type": "code",
      "metadata": {
        "id": "h-200A41ffPy",
        "cellView": "form",
        "colab": {
          "base_uri": "https://localhost:8080/",
          "height": 349
        },
        "outputId": "8f704f6d-28b7-4f20-f66e-23c327d8cbb4"
      },
      "source": [
        "#@title .\n",
        "%%html\n",
        "<figure>\n",
        "<center>\n",
        "<img src='https://i.imgur.com/JnxMvrq.png' width=300 height=300/>\n",
        "<figcaption></figcaption></center>\n",
        "</figure>"
      ],
      "execution_count": null,
      "outputs": [
        {
          "output_type": "display_data",
          "data": {
            "text/html": [
              "<figure>\n",
              "<center>\n",
              "<img src='https://i.imgur.com/JnxMvrq.png' width=300 height=300/>\n",
              "<figcaption></figcaption></center>\n",
              "</figure>"
            ],
            "text/plain": [
              "<IPython.core.display.HTML object>"
            ]
          },
          "metadata": {
            "tags": []
          }
        }
      ]
    },
    {
      "cell_type": "code",
      "metadata": {
        "id": "OXfluQjOzd9_"
      },
      "source": [
        "import pandas as pd"
      ],
      "execution_count": null,
      "outputs": []
    },
    {
      "cell_type": "markdown",
      "metadata": {
        "id": "j33m3T4r_mna"
      },
      "source": [
        "# Read file"
      ]
    },
    {
      "cell_type": "code",
      "metadata": {
        "id": "eO0voBpHTl6C"
      },
      "source": [
        "ted_main = pd.read_csv('https://raw.githubusercontent.com/cpethe/TED_Talks/master/ted_main.csv')"
      ],
      "execution_count": null,
      "outputs": []
    },
    {
      "cell_type": "code",
      "metadata": {
        "id": "-UjcnxJrVEuf"
      },
      "source": [
        "transcripts = pd.read_csv('https://raw.githubusercontent.com/cpethe/TED_Talks/master/transcripts.csv')"
      ],
      "execution_count": null,
      "outputs": []
    },
    {
      "cell_type": "markdown",
      "metadata": {
        "id": "mSpgd0t-_sxs"
      },
      "source": [
        "## What does the data look like?"
      ]
    },
    {
      "cell_type": "code",
      "metadata": {
        "id": "bSqRf5vnA3Lf",
        "colab": {
          "base_uri": "https://localhost:8080/",
          "height": 35
        },
        "outputId": "0c91abba-3b44-4f67-a14b-adfdd756775c"
      },
      "source": [
        "# Print the number of rows and columns in the data\n",
        "\n",
        "ted_main.shape"
      ],
      "execution_count": null,
      "outputs": [
        {
          "output_type": "execute_result",
          "data": {
            "text/plain": [
              "(2550, 17)"
            ]
          },
          "metadata": {
            "tags": []
          },
          "execution_count": 23
        }
      ]
    },
    {
      "cell_type": "code",
      "metadata": {
        "id": "wK9VzLW0_sTV",
        "colab": {
          "base_uri": "https://localhost:8080/",
          "height": 284
        },
        "outputId": "b3b01acb-3be0-47a1-cfc2-4ea77f4b299c"
      },
      "source": [
        "# Peek at the first two rows\n",
        "\n",
        "ted_main.head(2)"
      ],
      "execution_count": null,
      "outputs": [
        {
          "output_type": "execute_result",
          "data": {
            "text/html": [
              "<div>\n",
              "<style scoped>\n",
              "    .dataframe tbody tr th:only-of-type {\n",
              "        vertical-align: middle;\n",
              "    }\n",
              "\n",
              "    .dataframe tbody tr th {\n",
              "        vertical-align: top;\n",
              "    }\n",
              "\n",
              "    .dataframe thead th {\n",
              "        text-align: right;\n",
              "    }\n",
              "</style>\n",
              "<table border=\"1\" class=\"dataframe\">\n",
              "  <thead>\n",
              "    <tr style=\"text-align: right;\">\n",
              "      <th></th>\n",
              "      <th>comments</th>\n",
              "      <th>description</th>\n",
              "      <th>duration</th>\n",
              "      <th>event</th>\n",
              "      <th>film_date</th>\n",
              "      <th>languages</th>\n",
              "      <th>main_speaker</th>\n",
              "      <th>name</th>\n",
              "      <th>num_speaker</th>\n",
              "      <th>published_date</th>\n",
              "      <th>ratings</th>\n",
              "      <th>related_talks</th>\n",
              "      <th>speaker_occupation</th>\n",
              "      <th>tags</th>\n",
              "      <th>title</th>\n",
              "      <th>url</th>\n",
              "      <th>views</th>\n",
              "    </tr>\n",
              "  </thead>\n",
              "  <tbody>\n",
              "    <tr>\n",
              "      <th>0</th>\n",
              "      <td>4553</td>\n",
              "      <td>Sir Ken Robinson makes an entertaining and pro...</td>\n",
              "      <td>1164</td>\n",
              "      <td>TED2006</td>\n",
              "      <td>1140825600</td>\n",
              "      <td>60</td>\n",
              "      <td>Ken Robinson</td>\n",
              "      <td>Ken Robinson: Do schools kill creativity?</td>\n",
              "      <td>1</td>\n",
              "      <td>1151367060</td>\n",
              "      <td>[{'id': 7, 'name': 'Funny', 'count': 19645}, {...</td>\n",
              "      <td>[{'id': 865, 'hero': 'https://pe.tedcdn.com/im...</td>\n",
              "      <td>Author/educator</td>\n",
              "      <td>['children', 'creativity', 'culture', 'dance',...</td>\n",
              "      <td>Do schools kill creativity?</td>\n",
              "      <td>https://www.ted.com/talks/ken_robinson_says_sc...</td>\n",
              "      <td>47227110</td>\n",
              "    </tr>\n",
              "    <tr>\n",
              "      <th>1</th>\n",
              "      <td>265</td>\n",
              "      <td>With the same humor and humanity he exuded in ...</td>\n",
              "      <td>977</td>\n",
              "      <td>TED2006</td>\n",
              "      <td>1140825600</td>\n",
              "      <td>43</td>\n",
              "      <td>Al Gore</td>\n",
              "      <td>Al Gore: Averting the climate crisis</td>\n",
              "      <td>1</td>\n",
              "      <td>1151367060</td>\n",
              "      <td>[{'id': 7, 'name': 'Funny', 'count': 544}, {'i...</td>\n",
              "      <td>[{'id': 243, 'hero': 'https://pe.tedcdn.com/im...</td>\n",
              "      <td>Climate advocate</td>\n",
              "      <td>['alternative energy', 'cars', 'climate change...</td>\n",
              "      <td>Averting the climate crisis</td>\n",
              "      <td>https://www.ted.com/talks/al_gore_on_averting_...</td>\n",
              "      <td>3200520</td>\n",
              "    </tr>\n",
              "  </tbody>\n",
              "</table>\n",
              "</div>"
            ],
            "text/plain": [
              "   comments  ...     views\n",
              "0      4553  ...  47227110\n",
              "1       265  ...   3200520\n",
              "\n",
              "[2 rows x 17 columns]"
            ]
          },
          "metadata": {
            "tags": []
          },
          "execution_count": 24
        }
      ]
    },
    {
      "cell_type": "code",
      "metadata": {
        "id": "n9oG6yxL95_G",
        "colab": {
          "base_uri": "https://localhost:8080/",
          "height": 225
        },
        "outputId": "ab537802-2b3b-4f58-b026-ca638c00e23e"
      },
      "source": [
        "ted_main['name']"
      ],
      "execution_count": null,
      "outputs": [
        {
          "output_type": "execute_result",
          "data": {
            "text/plain": [
              "0               Ken Robinson: Do schools kill creativity?\n",
              "1                    Al Gore: Averting the climate crisis\n",
              "2                           David Pogue: Simplicity sells\n",
              "3                      Majora Carter: Greening the ghetto\n",
              "4           Hans Rosling: The best stats you've ever seen\n",
              "                              ...                        \n",
              "2545    Duarte Geraldino: What we're missing in the de...\n",
              "2546    Armando Azua-Bustos: The most Martian place on...\n",
              "2547    Radhika Nagpal: What intelligent machines can ...\n",
              "2548    Theo E.J. Wilson: A black man goes undercover ...\n",
              "2549    Karoliina Korppoo: How a video game might help...\n",
              "Name: name, Length: 2550, dtype: object"
            ]
          },
          "metadata": {
            "tags": []
          },
          "execution_count": 25
        }
      ]
    },
    {
      "cell_type": "code",
      "metadata": {
        "id": "RqP5zlZvgt5Y",
        "colab": {
          "base_uri": "https://localhost:8080/",
          "height": 225
        },
        "outputId": "47119ecd-deeb-4f21-d1f5-9a358b4f98b5"
      },
      "source": [
        "ted_main.url"
      ],
      "execution_count": null,
      "outputs": [
        {
          "output_type": "execute_result",
          "data": {
            "text/plain": [
              "0       https://www.ted.com/talks/ken_robinson_says_sc...\n",
              "1       https://www.ted.com/talks/al_gore_on_averting_...\n",
              "2       https://www.ted.com/talks/david_pogue_says_sim...\n",
              "3       https://www.ted.com/talks/majora_carter_s_tale...\n",
              "4       https://www.ted.com/talks/hans_rosling_shows_t...\n",
              "                              ...                        \n",
              "2545    https://www.ted.com/talks/duarte_geraldino_wha...\n",
              "2546    https://www.ted.com/talks/armando_azua_bustos_...\n",
              "2547    https://www.ted.com/talks/radhika_nagpal_what_...\n",
              "2548    https://www.ted.com/talks/theo_e_j_wilson_a_bl...\n",
              "2549    https://www.ted.com/talks/karoliina_korppoo_ho...\n",
              "Name: url, Length: 2550, dtype: object"
            ]
          },
          "metadata": {
            "tags": []
          },
          "execution_count": 26
        }
      ]
    },
    {
      "cell_type": "code",
      "metadata": {
        "id": "zsSQwpNRVdsx",
        "colab": {
          "base_uri": "https://localhost:8080/",
          "height": 35
        },
        "outputId": "2ea11ee6-972b-43f3-c75d-db2bb585a97f"
      },
      "source": [
        "ted_main.iloc[42]['comments']"
      ],
      "execution_count": null,
      "outputs": [
        {
          "output_type": "execute_result",
          "data": {
            "text/plain": [
              "105"
            ]
          },
          "metadata": {
            "tags": []
          },
          "execution_count": 27
        }
      ]
    },
    {
      "cell_type": "code",
      "metadata": {
        "id": "mT2HN7vrRf_r",
        "colab": {
          "base_uri": "https://localhost:8080/",
          "height": 190
        },
        "outputId": "a6d9b56d-1aa8-40bf-b97a-fcacbd89ef80"
      },
      "source": [
        "#Get row no. 42\n",
        "\n",
        "ted_main.iloc[42]\n",
        "\n",
        "for idx, row in ted_main.iterrows():\n",
        "  if idx > 4:\n",
        "    break\n",
        "  print(row['url'], row['duration'])"
      ],
      "execution_count": null,
      "outputs": [
        {
          "output_type": "stream",
          "text": [
            "https://www.ted.com/talks/ken_robinson_says_schools_kill_creativity\n",
            " 1164\n",
            "https://www.ted.com/talks/al_gore_on_averting_climate_crisis\n",
            " 977\n",
            "https://www.ted.com/talks/david_pogue_says_simplicity_sells\n",
            " 1286\n",
            "https://www.ted.com/talks/majora_carter_s_tale_of_urban_renewal\n",
            " 1116\n",
            "https://www.ted.com/talks/hans_rosling_shows_the_best_stats_you_ve_ever_seen\n",
            " 1190\n"
          ],
          "name": "stdout"
        }
      ]
    },
    {
      "cell_type": "code",
      "metadata": {
        "id": "xsH4VLbV3K0O",
        "colab": {
          "base_uri": "https://localhost:8080/",
          "height": 328
        },
        "outputId": "d1d126f9-e575-4bf4-da28-f47fba80b4b5"
      },
      "source": [
        "# Get row with index==6\n",
        "# happens to also be 6th row\n",
        "# since our index is 0 to len(data)\n",
        "\n",
        "ted_main.loc[6]"
      ],
      "execution_count": null,
      "outputs": [
        {
          "output_type": "execute_result",
          "data": {
            "text/plain": [
              "comments                                                            919\n",
              "description           When two young Mormon missionaries knock on Ju...\n",
              "duration                                                            992\n",
              "event                                                           TED2006\n",
              "film_date                                                    1140739200\n",
              "languages                                                            31\n",
              "main_speaker                                              Julia Sweeney\n",
              "name                                   Julia Sweeney: Letting go of God\n",
              "num_speaker                                                           1\n",
              "published_date                                               1152490260\n",
              "ratings               [{'id': 3, 'name': 'Courageous', 'count': 477}...\n",
              "related_talks         [{'id': 22, 'hero': 'https://pe.tedcdn.com/ima...\n",
              "speaker_occupation                          Actor, comedian, playwright\n",
              "tags                  ['Christianity', 'God', 'atheism', 'comedy', '...\n",
              "title                                                 Letting go of God\n",
              "url                   https://www.ted.com/talks/julia_sweeney_on_let...\n",
              "views                                                           3769987\n",
              "Name: 6, dtype: object"
            ]
          },
          "metadata": {
            "tags": []
          },
          "execution_count": 29
        }
      ]
    },
    {
      "cell_type": "code",
      "metadata": {
        "id": "8YzxOP6J0txr",
        "colab": {
          "base_uri": "https://localhost:8080/",
          "height": 628
        },
        "outputId": "1877d9a5-269f-4871-aeb8-c5836cf080a7"
      },
      "source": [
        "ted_main.set_index('url').head(5)"
      ],
      "execution_count": null,
      "outputs": [
        {
          "output_type": "execute_result",
          "data": {
            "text/html": [
              "<div>\n",
              "<style scoped>\n",
              "    .dataframe tbody tr th:only-of-type {\n",
              "        vertical-align: middle;\n",
              "    }\n",
              "\n",
              "    .dataframe tbody tr th {\n",
              "        vertical-align: top;\n",
              "    }\n",
              "\n",
              "    .dataframe thead th {\n",
              "        text-align: right;\n",
              "    }\n",
              "</style>\n",
              "<table border=\"1\" class=\"dataframe\">\n",
              "  <thead>\n",
              "    <tr style=\"text-align: right;\">\n",
              "      <th></th>\n",
              "      <th>comments</th>\n",
              "      <th>description</th>\n",
              "      <th>duration</th>\n",
              "      <th>event</th>\n",
              "      <th>film_date</th>\n",
              "      <th>languages</th>\n",
              "      <th>main_speaker</th>\n",
              "      <th>name</th>\n",
              "      <th>num_speaker</th>\n",
              "      <th>published_date</th>\n",
              "      <th>ratings</th>\n",
              "      <th>related_talks</th>\n",
              "      <th>speaker_occupation</th>\n",
              "      <th>tags</th>\n",
              "      <th>title</th>\n",
              "      <th>views</th>\n",
              "    </tr>\n",
              "    <tr>\n",
              "      <th>url</th>\n",
              "      <th></th>\n",
              "      <th></th>\n",
              "      <th></th>\n",
              "      <th></th>\n",
              "      <th></th>\n",
              "      <th></th>\n",
              "      <th></th>\n",
              "      <th></th>\n",
              "      <th></th>\n",
              "      <th></th>\n",
              "      <th></th>\n",
              "      <th></th>\n",
              "      <th></th>\n",
              "      <th></th>\n",
              "      <th></th>\n",
              "      <th></th>\n",
              "    </tr>\n",
              "  </thead>\n",
              "  <tbody>\n",
              "    <tr>\n",
              "      <th>https://www.ted.com/talks/ken_robinson_says_schools_kill_creativity\\n</th>\n",
              "      <td>4553</td>\n",
              "      <td>Sir Ken Robinson makes an entertaining and pro...</td>\n",
              "      <td>1164</td>\n",
              "      <td>TED2006</td>\n",
              "      <td>1140825600</td>\n",
              "      <td>60</td>\n",
              "      <td>Ken Robinson</td>\n",
              "      <td>Ken Robinson: Do schools kill creativity?</td>\n",
              "      <td>1</td>\n",
              "      <td>1151367060</td>\n",
              "      <td>[{'id': 7, 'name': 'Funny', 'count': 19645}, {...</td>\n",
              "      <td>[{'id': 865, 'hero': 'https://pe.tedcdn.com/im...</td>\n",
              "      <td>Author/educator</td>\n",
              "      <td>['children', 'creativity', 'culture', 'dance',...</td>\n",
              "      <td>Do schools kill creativity?</td>\n",
              "      <td>47227110</td>\n",
              "    </tr>\n",
              "    <tr>\n",
              "      <th>https://www.ted.com/talks/al_gore_on_averting_climate_crisis\\n</th>\n",
              "      <td>265</td>\n",
              "      <td>With the same humor and humanity he exuded in ...</td>\n",
              "      <td>977</td>\n",
              "      <td>TED2006</td>\n",
              "      <td>1140825600</td>\n",
              "      <td>43</td>\n",
              "      <td>Al Gore</td>\n",
              "      <td>Al Gore: Averting the climate crisis</td>\n",
              "      <td>1</td>\n",
              "      <td>1151367060</td>\n",
              "      <td>[{'id': 7, 'name': 'Funny', 'count': 544}, {'i...</td>\n",
              "      <td>[{'id': 243, 'hero': 'https://pe.tedcdn.com/im...</td>\n",
              "      <td>Climate advocate</td>\n",
              "      <td>['alternative energy', 'cars', 'climate change...</td>\n",
              "      <td>Averting the climate crisis</td>\n",
              "      <td>3200520</td>\n",
              "    </tr>\n",
              "    <tr>\n",
              "      <th>https://www.ted.com/talks/david_pogue_says_simplicity_sells\\n</th>\n",
              "      <td>124</td>\n",
              "      <td>New York Times columnist David Pogue takes aim...</td>\n",
              "      <td>1286</td>\n",
              "      <td>TED2006</td>\n",
              "      <td>1140739200</td>\n",
              "      <td>26</td>\n",
              "      <td>David Pogue</td>\n",
              "      <td>David Pogue: Simplicity sells</td>\n",
              "      <td>1</td>\n",
              "      <td>1151367060</td>\n",
              "      <td>[{'id': 7, 'name': 'Funny', 'count': 964}, {'i...</td>\n",
              "      <td>[{'id': 1725, 'hero': 'https://pe.tedcdn.com/i...</td>\n",
              "      <td>Technology columnist</td>\n",
              "      <td>['computers', 'entertainment', 'interface desi...</td>\n",
              "      <td>Simplicity sells</td>\n",
              "      <td>1636292</td>\n",
              "    </tr>\n",
              "    <tr>\n",
              "      <th>https://www.ted.com/talks/majora_carter_s_tale_of_urban_renewal\\n</th>\n",
              "      <td>200</td>\n",
              "      <td>In an emotionally charged talk, MacArthur-winn...</td>\n",
              "      <td>1116</td>\n",
              "      <td>TED2006</td>\n",
              "      <td>1140912000</td>\n",
              "      <td>35</td>\n",
              "      <td>Majora Carter</td>\n",
              "      <td>Majora Carter: Greening the ghetto</td>\n",
              "      <td>1</td>\n",
              "      <td>1151367060</td>\n",
              "      <td>[{'id': 3, 'name': 'Courageous', 'count': 760}...</td>\n",
              "      <td>[{'id': 1041, 'hero': 'https://pe.tedcdn.com/i...</td>\n",
              "      <td>Activist for environmental justice</td>\n",
              "      <td>['MacArthur grant', 'activism', 'business', 'c...</td>\n",
              "      <td>Greening the ghetto</td>\n",
              "      <td>1697550</td>\n",
              "    </tr>\n",
              "    <tr>\n",
              "      <th>https://www.ted.com/talks/hans_rosling_shows_the_best_stats_you_ve_ever_seen\\n</th>\n",
              "      <td>593</td>\n",
              "      <td>You've never seen data presented like this. Wi...</td>\n",
              "      <td>1190</td>\n",
              "      <td>TED2006</td>\n",
              "      <td>1140566400</td>\n",
              "      <td>48</td>\n",
              "      <td>Hans Rosling</td>\n",
              "      <td>Hans Rosling: The best stats you've ever seen</td>\n",
              "      <td>1</td>\n",
              "      <td>1151440680</td>\n",
              "      <td>[{'id': 9, 'name': 'Ingenious', 'count': 3202}...</td>\n",
              "      <td>[{'id': 2056, 'hero': 'https://pe.tedcdn.com/i...</td>\n",
              "      <td>Global health expert; data visionary</td>\n",
              "      <td>['Africa', 'Asia', 'Google', 'demo', 'economic...</td>\n",
              "      <td>The best stats you've ever seen</td>\n",
              "      <td>12005869</td>\n",
              "    </tr>\n",
              "  </tbody>\n",
              "</table>\n",
              "</div>"
            ],
            "text/plain": [
              "                                                    comments  ...     views\n",
              "url                                                           ...          \n",
              "https://www.ted.com/talks/ken_robinson_says_sch...      4553  ...  47227110\n",
              "https://www.ted.com/talks/al_gore_on_averting_c...       265  ...   3200520\n",
              "https://www.ted.com/talks/david_pogue_says_simp...       124  ...   1636292\n",
              "https://www.ted.com/talks/majora_carter_s_tale_...       200  ...   1697550\n",
              "https://www.ted.com/talks/hans_rosling_shows_th...       593  ...  12005869\n",
              "\n",
              "[5 rows x 16 columns]"
            ]
          },
          "metadata": {
            "tags": []
          },
          "execution_count": 30
        }
      ]
    },
    {
      "cell_type": "code",
      "metadata": {
        "id": "BAbWmI_t053V",
        "colab": {
          "base_uri": "https://localhost:8080/",
          "height": 311
        },
        "outputId": "7b98a67f-703c-45cf-af66-fbb6028eab91"
      },
      "source": [
        "ted_main.set_index('url').iloc[0]"
      ],
      "execution_count": null,
      "outputs": [
        {
          "output_type": "execute_result",
          "data": {
            "text/plain": [
              "comments                                                           4553\n",
              "description           Sir Ken Robinson makes an entertaining and pro...\n",
              "duration                                                           1164\n",
              "event                                                           TED2006\n",
              "film_date                                                    1140825600\n",
              "languages                                                            60\n",
              "main_speaker                                               Ken Robinson\n",
              "name                          Ken Robinson: Do schools kill creativity?\n",
              "num_speaker                                                           1\n",
              "published_date                                               1151367060\n",
              "ratings               [{'id': 7, 'name': 'Funny', 'count': 19645}, {...\n",
              "related_talks         [{'id': 865, 'hero': 'https://pe.tedcdn.com/im...\n",
              "speaker_occupation                                      Author/educator\n",
              "tags                  ['children', 'creativity', 'culture', 'dance',...\n",
              "title                                       Do schools kill creativity?\n",
              "views                                                          47227110\n",
              "Name: https://www.ted.com/talks/ken_robinson_says_schools_kill_creativity\\n, dtype: object"
            ]
          },
          "metadata": {
            "tags": []
          },
          "execution_count": 31
        }
      ]
    },
    {
      "cell_type": "code",
      "metadata": {
        "id": "UiPSWaAVWS-n",
        "colab": {
          "base_uri": "https://localhost:8080/",
          "height": 310
        },
        "outputId": "ec59af50-8c7c-4a69-da94-991f3525679f"
      },
      "source": [
        "ted_main.set_index('url').loc[0]"
      ],
      "execution_count": null,
      "outputs": [
        {
          "output_type": "error",
          "ename": "TypeError",
          "evalue": "ignored",
          "traceback": [
            "\u001b[0;31m---------------------------------------------------------------------------\u001b[0m",
            "\u001b[0;31mTypeError\u001b[0m                                 Traceback (most recent call last)",
            "\u001b[0;32m<ipython-input-32-c6dde4c55e4c>\u001b[0m in \u001b[0;36m<module>\u001b[0;34m()\u001b[0m\n\u001b[0;32m----> 1\u001b[0;31m \u001b[0mted_main\u001b[0m\u001b[0;34m.\u001b[0m\u001b[0mset_index\u001b[0m\u001b[0;34m(\u001b[0m\u001b[0;34m'url'\u001b[0m\u001b[0;34m)\u001b[0m\u001b[0;34m.\u001b[0m\u001b[0mloc\u001b[0m\u001b[0;34m[\u001b[0m\u001b[0;36m0\u001b[0m\u001b[0;34m]\u001b[0m\u001b[0;34m\u001b[0m\u001b[0;34m\u001b[0m\u001b[0m\n\u001b[0m",
            "\u001b[0;32m/usr/local/lib/python3.6/dist-packages/pandas/core/indexing.py\u001b[0m in \u001b[0;36m__getitem__\u001b[0;34m(self, key)\u001b[0m\n\u001b[1;32m   1766\u001b[0m \u001b[0;34m\u001b[0m\u001b[0m\n\u001b[1;32m   1767\u001b[0m             \u001b[0mmaybe_callable\u001b[0m \u001b[0;34m=\u001b[0m \u001b[0mcom\u001b[0m\u001b[0;34m.\u001b[0m\u001b[0mapply_if_callable\u001b[0m\u001b[0;34m(\u001b[0m\u001b[0mkey\u001b[0m\u001b[0;34m,\u001b[0m \u001b[0mself\u001b[0m\u001b[0;34m.\u001b[0m\u001b[0mobj\u001b[0m\u001b[0;34m)\u001b[0m\u001b[0;34m\u001b[0m\u001b[0;34m\u001b[0m\u001b[0m\n\u001b[0;32m-> 1768\u001b[0;31m             \u001b[0;32mreturn\u001b[0m \u001b[0mself\u001b[0m\u001b[0;34m.\u001b[0m\u001b[0m_getitem_axis\u001b[0m\u001b[0;34m(\u001b[0m\u001b[0mmaybe_callable\u001b[0m\u001b[0;34m,\u001b[0m \u001b[0maxis\u001b[0m\u001b[0;34m=\u001b[0m\u001b[0maxis\u001b[0m\u001b[0;34m)\u001b[0m\u001b[0;34m\u001b[0m\u001b[0;34m\u001b[0m\u001b[0m\n\u001b[0m\u001b[1;32m   1769\u001b[0m \u001b[0;34m\u001b[0m\u001b[0m\n\u001b[1;32m   1770\u001b[0m     \u001b[0;32mdef\u001b[0m \u001b[0m_is_scalar_access\u001b[0m\u001b[0;34m(\u001b[0m\u001b[0mself\u001b[0m\u001b[0;34m,\u001b[0m \u001b[0mkey\u001b[0m\u001b[0;34m:\u001b[0m \u001b[0mTuple\u001b[0m\u001b[0;34m)\u001b[0m\u001b[0;34m:\u001b[0m\u001b[0;34m\u001b[0m\u001b[0;34m\u001b[0m\u001b[0m\n",
            "\u001b[0;32m/usr/local/lib/python3.6/dist-packages/pandas/core/indexing.py\u001b[0m in \u001b[0;36m_getitem_axis\u001b[0;34m(self, key, axis)\u001b[0m\n\u001b[1;32m   1962\u001b[0m \u001b[0;34m\u001b[0m\u001b[0m\n\u001b[1;32m   1963\u001b[0m         \u001b[0;31m# fall thru to straight lookup\u001b[0m\u001b[0;34m\u001b[0m\u001b[0;34m\u001b[0m\u001b[0;34m\u001b[0m\u001b[0m\n\u001b[0;32m-> 1964\u001b[0;31m         \u001b[0mself\u001b[0m\u001b[0;34m.\u001b[0m\u001b[0m_validate_key\u001b[0m\u001b[0;34m(\u001b[0m\u001b[0mkey\u001b[0m\u001b[0;34m,\u001b[0m \u001b[0maxis\u001b[0m\u001b[0;34m)\u001b[0m\u001b[0;34m\u001b[0m\u001b[0;34m\u001b[0m\u001b[0m\n\u001b[0m\u001b[1;32m   1965\u001b[0m         \u001b[0;32mreturn\u001b[0m \u001b[0mself\u001b[0m\u001b[0;34m.\u001b[0m\u001b[0m_get_label\u001b[0m\u001b[0;34m(\u001b[0m\u001b[0mkey\u001b[0m\u001b[0;34m,\u001b[0m \u001b[0maxis\u001b[0m\u001b[0;34m=\u001b[0m\u001b[0maxis\u001b[0m\u001b[0;34m)\u001b[0m\u001b[0;34m\u001b[0m\u001b[0;34m\u001b[0m\u001b[0m\n\u001b[1;32m   1966\u001b[0m \u001b[0;34m\u001b[0m\u001b[0m\n",
            "\u001b[0;32m/usr/local/lib/python3.6/dist-packages/pandas/core/indexing.py\u001b[0m in \u001b[0;36m_validate_key\u001b[0;34m(self, key, axis)\u001b[0m\n\u001b[1;32m   1829\u001b[0m \u001b[0;34m\u001b[0m\u001b[0m\n\u001b[1;32m   1830\u001b[0m         \u001b[0;32mif\u001b[0m \u001b[0;32mnot\u001b[0m \u001b[0mis_list_like_indexer\u001b[0m\u001b[0;34m(\u001b[0m\u001b[0mkey\u001b[0m\u001b[0;34m)\u001b[0m\u001b[0;34m:\u001b[0m\u001b[0;34m\u001b[0m\u001b[0;34m\u001b[0m\u001b[0m\n\u001b[0;32m-> 1831\u001b[0;31m             \u001b[0mself\u001b[0m\u001b[0;34m.\u001b[0m\u001b[0m_convert_scalar_indexer\u001b[0m\u001b[0;34m(\u001b[0m\u001b[0mkey\u001b[0m\u001b[0;34m,\u001b[0m \u001b[0maxis\u001b[0m\u001b[0;34m)\u001b[0m\u001b[0;34m\u001b[0m\u001b[0;34m\u001b[0m\u001b[0m\n\u001b[0m\u001b[1;32m   1832\u001b[0m \u001b[0;34m\u001b[0m\u001b[0m\n\u001b[1;32m   1833\u001b[0m     \u001b[0;32mdef\u001b[0m \u001b[0m_is_scalar_access\u001b[0m\u001b[0;34m(\u001b[0m\u001b[0mself\u001b[0m\u001b[0;34m,\u001b[0m \u001b[0mkey\u001b[0m\u001b[0;34m:\u001b[0m \u001b[0mTuple\u001b[0m\u001b[0;34m)\u001b[0m \u001b[0;34m->\u001b[0m \u001b[0mbool\u001b[0m\u001b[0;34m:\u001b[0m\u001b[0;34m\u001b[0m\u001b[0;34m\u001b[0m\u001b[0m\n",
            "\u001b[0;32m/usr/local/lib/python3.6/dist-packages/pandas/core/indexing.py\u001b[0m in \u001b[0;36m_convert_scalar_indexer\u001b[0;34m(self, key, axis)\u001b[0m\n\u001b[1;32m    739\u001b[0m         \u001b[0max\u001b[0m \u001b[0;34m=\u001b[0m \u001b[0mself\u001b[0m\u001b[0;34m.\u001b[0m\u001b[0mobj\u001b[0m\u001b[0;34m.\u001b[0m\u001b[0m_get_axis\u001b[0m\u001b[0;34m(\u001b[0m\u001b[0mmin\u001b[0m\u001b[0;34m(\u001b[0m\u001b[0maxis\u001b[0m\u001b[0;34m,\u001b[0m \u001b[0mself\u001b[0m\u001b[0;34m.\u001b[0m\u001b[0mndim\u001b[0m \u001b[0;34m-\u001b[0m \u001b[0;36m1\u001b[0m\u001b[0;34m)\u001b[0m\u001b[0;34m)\u001b[0m\u001b[0;34m\u001b[0m\u001b[0;34m\u001b[0m\u001b[0m\n\u001b[1;32m    740\u001b[0m         \u001b[0;31m# a scalar\u001b[0m\u001b[0;34m\u001b[0m\u001b[0;34m\u001b[0m\u001b[0;34m\u001b[0m\u001b[0m\n\u001b[0;32m--> 741\u001b[0;31m         \u001b[0;32mreturn\u001b[0m \u001b[0max\u001b[0m\u001b[0;34m.\u001b[0m\u001b[0m_convert_scalar_indexer\u001b[0m\u001b[0;34m(\u001b[0m\u001b[0mkey\u001b[0m\u001b[0;34m,\u001b[0m \u001b[0mkind\u001b[0m\u001b[0;34m=\u001b[0m\u001b[0mself\u001b[0m\u001b[0;34m.\u001b[0m\u001b[0mname\u001b[0m\u001b[0;34m)\u001b[0m\u001b[0;34m\u001b[0m\u001b[0;34m\u001b[0m\u001b[0m\n\u001b[0m\u001b[1;32m    742\u001b[0m \u001b[0;34m\u001b[0m\u001b[0m\n\u001b[1;32m    743\u001b[0m     \u001b[0;32mdef\u001b[0m \u001b[0m_convert_slice_indexer\u001b[0m\u001b[0;34m(\u001b[0m\u001b[0mself\u001b[0m\u001b[0;34m,\u001b[0m \u001b[0mkey\u001b[0m\u001b[0;34m:\u001b[0m \u001b[0mslice\u001b[0m\u001b[0;34m,\u001b[0m \u001b[0maxis\u001b[0m\u001b[0;34m:\u001b[0m \u001b[0mint\u001b[0m\u001b[0;34m)\u001b[0m\u001b[0;34m:\u001b[0m\u001b[0;34m\u001b[0m\u001b[0;34m\u001b[0m\u001b[0m\n",
            "\u001b[0;32m/usr/local/lib/python3.6/dist-packages/pandas/core/indexes/base.py\u001b[0m in \u001b[0;36m_convert_scalar_indexer\u001b[0;34m(self, key, kind)\u001b[0m\n\u001b[1;32m   2886\u001b[0m             \u001b[0;32melif\u001b[0m \u001b[0mkind\u001b[0m \u001b[0;32min\u001b[0m \u001b[0;34m[\u001b[0m\u001b[0;34m\"loc\"\u001b[0m\u001b[0;34m]\u001b[0m \u001b[0;32mand\u001b[0m \u001b[0mis_integer\u001b[0m\u001b[0;34m(\u001b[0m\u001b[0mkey\u001b[0m\u001b[0;34m)\u001b[0m\u001b[0;34m:\u001b[0m\u001b[0;34m\u001b[0m\u001b[0;34m\u001b[0m\u001b[0m\n\u001b[1;32m   2887\u001b[0m                 \u001b[0;32mif\u001b[0m \u001b[0;32mnot\u001b[0m \u001b[0mself\u001b[0m\u001b[0;34m.\u001b[0m\u001b[0mholds_integer\u001b[0m\u001b[0;34m(\u001b[0m\u001b[0;34m)\u001b[0m\u001b[0;34m:\u001b[0m\u001b[0;34m\u001b[0m\u001b[0;34m\u001b[0m\u001b[0m\n\u001b[0;32m-> 2888\u001b[0;31m                     \u001b[0mself\u001b[0m\u001b[0;34m.\u001b[0m\u001b[0m_invalid_indexer\u001b[0m\u001b[0;34m(\u001b[0m\u001b[0;34m\"label\"\u001b[0m\u001b[0;34m,\u001b[0m \u001b[0mkey\u001b[0m\u001b[0;34m)\u001b[0m\u001b[0;34m\u001b[0m\u001b[0;34m\u001b[0m\u001b[0m\n\u001b[0m\u001b[1;32m   2889\u001b[0m \u001b[0;34m\u001b[0m\u001b[0m\n\u001b[1;32m   2890\u001b[0m         \u001b[0;32mreturn\u001b[0m \u001b[0mkey\u001b[0m\u001b[0;34m\u001b[0m\u001b[0;34m\u001b[0m\u001b[0m\n",
            "\u001b[0;32m/usr/local/lib/python3.6/dist-packages/pandas/core/indexes/base.py\u001b[0m in \u001b[0;36m_invalid_indexer\u001b[0;34m(self, form, key)\u001b[0m\n\u001b[1;32m   3075\u001b[0m         \"\"\"\n\u001b[1;32m   3076\u001b[0m         raise TypeError(\n\u001b[0;32m-> 3077\u001b[0;31m             \u001b[0;34mf\"cannot do {form} indexing on {type(self)} with these \"\u001b[0m\u001b[0;34m\u001b[0m\u001b[0;34m\u001b[0m\u001b[0m\n\u001b[0m\u001b[1;32m   3078\u001b[0m             \u001b[0;34mf\"indexers [{key}] of {type(key)}\"\u001b[0m\u001b[0;34m\u001b[0m\u001b[0;34m\u001b[0m\u001b[0m\n\u001b[1;32m   3079\u001b[0m         )\n",
            "\u001b[0;31mTypeError\u001b[0m: cannot do label indexing on <class 'pandas.core.indexes.base.Index'> with these indexers [0] of <class 'int'>"
          ]
        }
      ]
    },
    {
      "cell_type": "code",
      "metadata": {
        "id": "VhykZaeq09gK",
        "colab": {
          "base_uri": "https://localhost:8080/",
          "height": 311
        },
        "outputId": "88ec78bd-c1a4-4006-bf2b-7b3d84cd74eb"
      },
      "source": [
        "ted_main.set_index('url').loc['https://www.ted.com/talks/ken_robinson_says_schools_kill_creativity\\n']"
      ],
      "execution_count": null,
      "outputs": [
        {
          "output_type": "execute_result",
          "data": {
            "text/plain": [
              "comments                                                           4553\n",
              "description           Sir Ken Robinson makes an entertaining and pro...\n",
              "duration                                                           1164\n",
              "event                                                           TED2006\n",
              "film_date                                                    1140825600\n",
              "languages                                                            60\n",
              "main_speaker                                               Ken Robinson\n",
              "name                          Ken Robinson: Do schools kill creativity?\n",
              "num_speaker                                                           1\n",
              "published_date                                               1151367060\n",
              "ratings               [{'id': 7, 'name': 'Funny', 'count': 19645}, {...\n",
              "related_talks         [{'id': 865, 'hero': 'https://pe.tedcdn.com/im...\n",
              "speaker_occupation                                      Author/educator\n",
              "tags                  ['children', 'creativity', 'culture', 'dance',...\n",
              "title                                       Do schools kill creativity?\n",
              "views                                                          47227110\n",
              "Name: https://www.ted.com/talks/ken_robinson_says_schools_kill_creativity\\n, dtype: object"
            ]
          },
          "metadata": {
            "tags": []
          },
          "execution_count": 33
        }
      ]
    },
    {
      "cell_type": "code",
      "metadata": {
        "id": "dNyP9Qnh6TF9",
        "colab": {
          "base_uri": "https://localhost:8080/",
          "height": 328
        },
        "outputId": "b5c65b1c-546c-4480-e561-d8de171c26a2"
      },
      "source": [
        "# Check datatype of each column\n",
        "\n",
        "ted_main.dtypes"
      ],
      "execution_count": null,
      "outputs": [
        {
          "output_type": "execute_result",
          "data": {
            "text/plain": [
              "comments               int64\n",
              "description           object\n",
              "duration               int64\n",
              "event                 object\n",
              "film_date              int64\n",
              "languages              int64\n",
              "main_speaker          object\n",
              "name                  object\n",
              "num_speaker            int64\n",
              "published_date         int64\n",
              "ratings               object\n",
              "related_talks         object\n",
              "speaker_occupation    object\n",
              "tags                  object\n",
              "title                 object\n",
              "url                   object\n",
              "views                  int64\n",
              "dtype: object"
            ]
          },
          "metadata": {
            "tags": []
          },
          "execution_count": 34
        }
      ]
    },
    {
      "cell_type": "code",
      "metadata": {
        "id": "5ShIu0KSzu1D",
        "colab": {
          "base_uri": "https://localhost:8080/",
          "height": 288
        },
        "outputId": "49cf13ab-72c5-4ed9-d1a3-388e095a9eab"
      },
      "source": [
        "# Print summary statistics for *numerical* columns\n",
        "\n",
        "ted_main.describe()"
      ],
      "execution_count": null,
      "outputs": [
        {
          "output_type": "execute_result",
          "data": {
            "text/html": [
              "<div>\n",
              "<style scoped>\n",
              "    .dataframe tbody tr th:only-of-type {\n",
              "        vertical-align: middle;\n",
              "    }\n",
              "\n",
              "    .dataframe tbody tr th {\n",
              "        vertical-align: top;\n",
              "    }\n",
              "\n",
              "    .dataframe thead th {\n",
              "        text-align: right;\n",
              "    }\n",
              "</style>\n",
              "<table border=\"1\" class=\"dataframe\">\n",
              "  <thead>\n",
              "    <tr style=\"text-align: right;\">\n",
              "      <th></th>\n",
              "      <th>comments</th>\n",
              "      <th>duration</th>\n",
              "      <th>film_date</th>\n",
              "      <th>languages</th>\n",
              "      <th>num_speaker</th>\n",
              "      <th>published_date</th>\n",
              "      <th>views</th>\n",
              "    </tr>\n",
              "  </thead>\n",
              "  <tbody>\n",
              "    <tr>\n",
              "      <th>count</th>\n",
              "      <td>2550.000000</td>\n",
              "      <td>2550.000000</td>\n",
              "      <td>2.550000e+03</td>\n",
              "      <td>2550.000000</td>\n",
              "      <td>2550.000000</td>\n",
              "      <td>2.550000e+03</td>\n",
              "      <td>2.550000e+03</td>\n",
              "    </tr>\n",
              "    <tr>\n",
              "      <th>mean</th>\n",
              "      <td>191.562353</td>\n",
              "      <td>826.510196</td>\n",
              "      <td>1.321928e+09</td>\n",
              "      <td>27.326275</td>\n",
              "      <td>1.028235</td>\n",
              "      <td>1.343525e+09</td>\n",
              "      <td>1.698297e+06</td>\n",
              "    </tr>\n",
              "    <tr>\n",
              "      <th>std</th>\n",
              "      <td>282.315223</td>\n",
              "      <td>374.009138</td>\n",
              "      <td>1.197391e+08</td>\n",
              "      <td>9.563452</td>\n",
              "      <td>0.207705</td>\n",
              "      <td>9.464009e+07</td>\n",
              "      <td>2.498479e+06</td>\n",
              "    </tr>\n",
              "    <tr>\n",
              "      <th>min</th>\n",
              "      <td>2.000000</td>\n",
              "      <td>135.000000</td>\n",
              "      <td>7.464960e+07</td>\n",
              "      <td>0.000000</td>\n",
              "      <td>1.000000</td>\n",
              "      <td>1.151367e+09</td>\n",
              "      <td>5.044300e+04</td>\n",
              "    </tr>\n",
              "    <tr>\n",
              "      <th>25%</th>\n",
              "      <td>63.000000</td>\n",
              "      <td>577.000000</td>\n",
              "      <td>1.257466e+09</td>\n",
              "      <td>23.000000</td>\n",
              "      <td>1.000000</td>\n",
              "      <td>1.268463e+09</td>\n",
              "      <td>7.557928e+05</td>\n",
              "    </tr>\n",
              "    <tr>\n",
              "      <th>50%</th>\n",
              "      <td>118.000000</td>\n",
              "      <td>848.000000</td>\n",
              "      <td>1.333238e+09</td>\n",
              "      <td>28.000000</td>\n",
              "      <td>1.000000</td>\n",
              "      <td>1.340935e+09</td>\n",
              "      <td>1.124524e+06</td>\n",
              "    </tr>\n",
              "    <tr>\n",
              "      <th>75%</th>\n",
              "      <td>221.750000</td>\n",
              "      <td>1046.750000</td>\n",
              "      <td>1.412964e+09</td>\n",
              "      <td>33.000000</td>\n",
              "      <td>1.000000</td>\n",
              "      <td>1.423432e+09</td>\n",
              "      <td>1.700760e+06</td>\n",
              "    </tr>\n",
              "    <tr>\n",
              "      <th>max</th>\n",
              "      <td>6404.000000</td>\n",
              "      <td>5256.000000</td>\n",
              "      <td>1.503792e+09</td>\n",
              "      <td>72.000000</td>\n",
              "      <td>5.000000</td>\n",
              "      <td>1.506092e+09</td>\n",
              "      <td>4.722711e+07</td>\n",
              "    </tr>\n",
              "  </tbody>\n",
              "</table>\n",
              "</div>"
            ],
            "text/plain": [
              "          comments     duration  ...  published_date         views\n",
              "count  2550.000000  2550.000000  ...    2.550000e+03  2.550000e+03\n",
              "mean    191.562353   826.510196  ...    1.343525e+09  1.698297e+06\n",
              "std     282.315223   374.009138  ...    9.464009e+07  2.498479e+06\n",
              "min       2.000000   135.000000  ...    1.151367e+09  5.044300e+04\n",
              "25%      63.000000   577.000000  ...    1.268463e+09  7.557928e+05\n",
              "50%     118.000000   848.000000  ...    1.340935e+09  1.124524e+06\n",
              "75%     221.750000  1046.750000  ...    1.423432e+09  1.700760e+06\n",
              "max    6404.000000  5256.000000  ...    1.506092e+09  4.722711e+07\n",
              "\n",
              "[8 rows x 7 columns]"
            ]
          },
          "metadata": {
            "tags": []
          },
          "execution_count": 35
        }
      ]
    },
    {
      "cell_type": "code",
      "metadata": {
        "id": "JdRPzmyw2MLh",
        "colab": {
          "base_uri": "https://localhost:8080/",
          "height": 121
        },
        "outputId": "9d6efadc-abe0-4d8f-ed0d-8f1f85c07a6e"
      },
      "source": [
        "# Count number of rows, for every value of `num_speaker`\n",
        "\n",
        "ted_main['num_speaker'].value_counts()"
      ],
      "execution_count": null,
      "outputs": [
        {
          "output_type": "execute_result",
          "data": {
            "text/plain": [
              "1    2492\n",
              "2      49\n",
              "3       5\n",
              "4       3\n",
              "5       1\n",
              "Name: num_speaker, dtype: int64"
            ]
          },
          "metadata": {
            "tags": []
          },
          "execution_count": 36
        }
      ]
    },
    {
      "cell_type": "code",
      "metadata": {
        "id": "rSthVX2D2Awd",
        "colab": {
          "base_uri": "https://localhost:8080/",
          "height": 225
        },
        "outputId": "0cf3554a-0d53-4d5a-8c87-d6f9c5be2a41"
      },
      "source": [
        "ted_main['event'].value_counts()"
      ],
      "execution_count": null,
      "outputs": [
        {
          "output_type": "execute_result",
          "data": {
            "text/plain": [
              "TED2014                84\n",
              "TED2009                83\n",
              "TED2013                77\n",
              "TED2016                77\n",
              "TED2015                75\n",
              "                       ..\n",
              "TEDxEuston              1\n",
              "Bowery Poetry Club      1\n",
              "TEDxMiamiUniversity     1\n",
              "TEDxNatick              1\n",
              "TEDxSBU                 1\n",
              "Name: event, Length: 355, dtype: int64"
            ]
          },
          "metadata": {
            "tags": []
          },
          "execution_count": 37
        }
      ]
    },
    {
      "cell_type": "code",
      "metadata": {
        "id": "aIHTbXdO0ZKn",
        "colab": {
          "base_uri": "https://localhost:8080/",
          "height": 407
        },
        "outputId": "0b459df7-1d70-4cb6-90ba-6f09cb1e180b"
      },
      "source": [
        "# Get two specific columns, for the first five rows\n",
        "# aka projection in db query speak, SELECT <..> FROM ..\n",
        "\n",
        "l = ['main_speaker', 'speaker_occupation']\n",
        "ted_main[l]"
      ],
      "execution_count": null,
      "outputs": [
        {
          "output_type": "execute_result",
          "data": {
            "text/html": [
              "<div>\n",
              "<style scoped>\n",
              "    .dataframe tbody tr th:only-of-type {\n",
              "        vertical-align: middle;\n",
              "    }\n",
              "\n",
              "    .dataframe tbody tr th {\n",
              "        vertical-align: top;\n",
              "    }\n",
              "\n",
              "    .dataframe thead th {\n",
              "        text-align: right;\n",
              "    }\n",
              "</style>\n",
              "<table border=\"1\" class=\"dataframe\">\n",
              "  <thead>\n",
              "    <tr style=\"text-align: right;\">\n",
              "      <th></th>\n",
              "      <th>main_speaker</th>\n",
              "      <th>speaker_occupation</th>\n",
              "    </tr>\n",
              "  </thead>\n",
              "  <tbody>\n",
              "    <tr>\n",
              "      <th>0</th>\n",
              "      <td>Ken Robinson</td>\n",
              "      <td>Author/educator</td>\n",
              "    </tr>\n",
              "    <tr>\n",
              "      <th>1</th>\n",
              "      <td>Al Gore</td>\n",
              "      <td>Climate advocate</td>\n",
              "    </tr>\n",
              "    <tr>\n",
              "      <th>2</th>\n",
              "      <td>David Pogue</td>\n",
              "      <td>Technology columnist</td>\n",
              "    </tr>\n",
              "    <tr>\n",
              "      <th>3</th>\n",
              "      <td>Majora Carter</td>\n",
              "      <td>Activist for environmental justice</td>\n",
              "    </tr>\n",
              "    <tr>\n",
              "      <th>4</th>\n",
              "      <td>Hans Rosling</td>\n",
              "      <td>Global health expert; data visionary</td>\n",
              "    </tr>\n",
              "    <tr>\n",
              "      <th>...</th>\n",
              "      <td>...</td>\n",
              "      <td>...</td>\n",
              "    </tr>\n",
              "    <tr>\n",
              "      <th>2545</th>\n",
              "      <td>Duarte Geraldino</td>\n",
              "      <td>Journalist</td>\n",
              "    </tr>\n",
              "    <tr>\n",
              "      <th>2546</th>\n",
              "      <td>Armando Azua-Bustos</td>\n",
              "      <td>Astrobiologist</td>\n",
              "    </tr>\n",
              "    <tr>\n",
              "      <th>2547</th>\n",
              "      <td>Radhika Nagpal</td>\n",
              "      <td>Robotics engineer</td>\n",
              "    </tr>\n",
              "    <tr>\n",
              "      <th>2548</th>\n",
              "      <td>Theo E.J. Wilson</td>\n",
              "      <td>Public intellectual</td>\n",
              "    </tr>\n",
              "    <tr>\n",
              "      <th>2549</th>\n",
              "      <td>Karoliina Korppoo</td>\n",
              "      <td>Game designer</td>\n",
              "    </tr>\n",
              "  </tbody>\n",
              "</table>\n",
              "<p>2550 rows × 2 columns</p>\n",
              "</div>"
            ],
            "text/plain": [
              "             main_speaker                    speaker_occupation\n",
              "0            Ken Robinson                       Author/educator\n",
              "1                 Al Gore                      Climate advocate\n",
              "2             David Pogue                  Technology columnist\n",
              "3           Majora Carter    Activist for environmental justice\n",
              "4            Hans Rosling  Global health expert; data visionary\n",
              "...                   ...                                   ...\n",
              "2545     Duarte Geraldino                            Journalist\n",
              "2546  Armando Azua-Bustos                        Astrobiologist\n",
              "2547       Radhika Nagpal                     Robotics engineer\n",
              "2548     Theo E.J. Wilson                   Public intellectual\n",
              "2549    Karoliina Korppoo                         Game designer\n",
              "\n",
              "[2550 rows x 2 columns]"
            ]
          },
          "metadata": {
            "tags": []
          },
          "execution_count": 38
        }
      ]
    },
    {
      "cell_type": "code",
      "metadata": {
        "id": "QpqBrrgrXCXo",
        "colab": {
          "base_uri": "https://localhost:8080/",
          "height": 407
        },
        "outputId": "aa91ad58-3bda-47fb-e147-52d38847bd42"
      },
      "source": [
        "ted_main[['main_speaker', 'speaker_occupation']]"
      ],
      "execution_count": null,
      "outputs": [
        {
          "output_type": "execute_result",
          "data": {
            "text/html": [
              "<div>\n",
              "<style scoped>\n",
              "    .dataframe tbody tr th:only-of-type {\n",
              "        vertical-align: middle;\n",
              "    }\n",
              "\n",
              "    .dataframe tbody tr th {\n",
              "        vertical-align: top;\n",
              "    }\n",
              "\n",
              "    .dataframe thead th {\n",
              "        text-align: right;\n",
              "    }\n",
              "</style>\n",
              "<table border=\"1\" class=\"dataframe\">\n",
              "  <thead>\n",
              "    <tr style=\"text-align: right;\">\n",
              "      <th></th>\n",
              "      <th>main_speaker</th>\n",
              "      <th>speaker_occupation</th>\n",
              "    </tr>\n",
              "  </thead>\n",
              "  <tbody>\n",
              "    <tr>\n",
              "      <th>0</th>\n",
              "      <td>Ken Robinson</td>\n",
              "      <td>Author/educator</td>\n",
              "    </tr>\n",
              "    <tr>\n",
              "      <th>1</th>\n",
              "      <td>Al Gore</td>\n",
              "      <td>Climate advocate</td>\n",
              "    </tr>\n",
              "    <tr>\n",
              "      <th>2</th>\n",
              "      <td>David Pogue</td>\n",
              "      <td>Technology columnist</td>\n",
              "    </tr>\n",
              "    <tr>\n",
              "      <th>3</th>\n",
              "      <td>Majora Carter</td>\n",
              "      <td>Activist for environmental justice</td>\n",
              "    </tr>\n",
              "    <tr>\n",
              "      <th>4</th>\n",
              "      <td>Hans Rosling</td>\n",
              "      <td>Global health expert; data visionary</td>\n",
              "    </tr>\n",
              "    <tr>\n",
              "      <th>...</th>\n",
              "      <td>...</td>\n",
              "      <td>...</td>\n",
              "    </tr>\n",
              "    <tr>\n",
              "      <th>2545</th>\n",
              "      <td>Duarte Geraldino</td>\n",
              "      <td>Journalist</td>\n",
              "    </tr>\n",
              "    <tr>\n",
              "      <th>2546</th>\n",
              "      <td>Armando Azua-Bustos</td>\n",
              "      <td>Astrobiologist</td>\n",
              "    </tr>\n",
              "    <tr>\n",
              "      <th>2547</th>\n",
              "      <td>Radhika Nagpal</td>\n",
              "      <td>Robotics engineer</td>\n",
              "    </tr>\n",
              "    <tr>\n",
              "      <th>2548</th>\n",
              "      <td>Theo E.J. Wilson</td>\n",
              "      <td>Public intellectual</td>\n",
              "    </tr>\n",
              "    <tr>\n",
              "      <th>2549</th>\n",
              "      <td>Karoliina Korppoo</td>\n",
              "      <td>Game designer</td>\n",
              "    </tr>\n",
              "  </tbody>\n",
              "</table>\n",
              "<p>2550 rows × 2 columns</p>\n",
              "</div>"
            ],
            "text/plain": [
              "             main_speaker                    speaker_occupation\n",
              "0            Ken Robinson                       Author/educator\n",
              "1                 Al Gore                      Climate advocate\n",
              "2             David Pogue                  Technology columnist\n",
              "3           Majora Carter    Activist for environmental justice\n",
              "4            Hans Rosling  Global health expert; data visionary\n",
              "...                   ...                                   ...\n",
              "2545     Duarte Geraldino                            Journalist\n",
              "2546  Armando Azua-Bustos                        Astrobiologist\n",
              "2547       Radhika Nagpal                     Robotics engineer\n",
              "2548     Theo E.J. Wilson                   Public intellectual\n",
              "2549    Karoliina Korppoo                         Game designer\n",
              "\n",
              "[2550 rows x 2 columns]"
            ]
          },
          "metadata": {
            "tags": []
          },
          "execution_count": 39
        }
      ]
    },
    {
      "cell_type": "code",
      "metadata": {
        "id": "FfUGB5O9_l46",
        "colab": {
          "base_uri": "https://localhost:8080/",
          "height": 407
        },
        "outputId": "6e706fcb-34a3-41d7-ecd2-e78cc3573d7b"
      },
      "source": [
        "ted_main[l].drop_duplicates('main_speaker')"
      ],
      "execution_count": null,
      "outputs": [
        {
          "output_type": "execute_result",
          "data": {
            "text/html": [
              "<div>\n",
              "<style scoped>\n",
              "    .dataframe tbody tr th:only-of-type {\n",
              "        vertical-align: middle;\n",
              "    }\n",
              "\n",
              "    .dataframe tbody tr th {\n",
              "        vertical-align: top;\n",
              "    }\n",
              "\n",
              "    .dataframe thead th {\n",
              "        text-align: right;\n",
              "    }\n",
              "</style>\n",
              "<table border=\"1\" class=\"dataframe\">\n",
              "  <thead>\n",
              "    <tr style=\"text-align: right;\">\n",
              "      <th></th>\n",
              "      <th>main_speaker</th>\n",
              "      <th>speaker_occupation</th>\n",
              "    </tr>\n",
              "  </thead>\n",
              "  <tbody>\n",
              "    <tr>\n",
              "      <th>0</th>\n",
              "      <td>Ken Robinson</td>\n",
              "      <td>Author/educator</td>\n",
              "    </tr>\n",
              "    <tr>\n",
              "      <th>1</th>\n",
              "      <td>Al Gore</td>\n",
              "      <td>Climate advocate</td>\n",
              "    </tr>\n",
              "    <tr>\n",
              "      <th>2</th>\n",
              "      <td>David Pogue</td>\n",
              "      <td>Technology columnist</td>\n",
              "    </tr>\n",
              "    <tr>\n",
              "      <th>3</th>\n",
              "      <td>Majora Carter</td>\n",
              "      <td>Activist for environmental justice</td>\n",
              "    </tr>\n",
              "    <tr>\n",
              "      <th>4</th>\n",
              "      <td>Hans Rosling</td>\n",
              "      <td>Global health expert; data visionary</td>\n",
              "    </tr>\n",
              "    <tr>\n",
              "      <th>...</th>\n",
              "      <td>...</td>\n",
              "      <td>...</td>\n",
              "    </tr>\n",
              "    <tr>\n",
              "      <th>2545</th>\n",
              "      <td>Duarte Geraldino</td>\n",
              "      <td>Journalist</td>\n",
              "    </tr>\n",
              "    <tr>\n",
              "      <th>2546</th>\n",
              "      <td>Armando Azua-Bustos</td>\n",
              "      <td>Astrobiologist</td>\n",
              "    </tr>\n",
              "    <tr>\n",
              "      <th>2547</th>\n",
              "      <td>Radhika Nagpal</td>\n",
              "      <td>Robotics engineer</td>\n",
              "    </tr>\n",
              "    <tr>\n",
              "      <th>2548</th>\n",
              "      <td>Theo E.J. Wilson</td>\n",
              "      <td>Public intellectual</td>\n",
              "    </tr>\n",
              "    <tr>\n",
              "      <th>2549</th>\n",
              "      <td>Karoliina Korppoo</td>\n",
              "      <td>Game designer</td>\n",
              "    </tr>\n",
              "  </tbody>\n",
              "</table>\n",
              "<p>2156 rows × 2 columns</p>\n",
              "</div>"
            ],
            "text/plain": [
              "             main_speaker                    speaker_occupation\n",
              "0            Ken Robinson                       Author/educator\n",
              "1                 Al Gore                      Climate advocate\n",
              "2             David Pogue                  Technology columnist\n",
              "3           Majora Carter    Activist for environmental justice\n",
              "4            Hans Rosling  Global health expert; data visionary\n",
              "...                   ...                                   ...\n",
              "2545     Duarte Geraldino                            Journalist\n",
              "2546  Armando Azua-Bustos                        Astrobiologist\n",
              "2547       Radhika Nagpal                     Robotics engineer\n",
              "2548     Theo E.J. Wilson                   Public intellectual\n",
              "2549    Karoliina Korppoo                         Game designer\n",
              "\n",
              "[2156 rows x 2 columns]"
            ]
          },
          "metadata": {
            "tags": []
          },
          "execution_count": 40
        }
      ]
    },
    {
      "cell_type": "code",
      "metadata": {
        "id": "JcFsVU-a1PZB",
        "colab": {
          "base_uri": "https://localhost:8080/",
          "height": 452
        },
        "outputId": "c2718f02-4020-4aa5-e2d9-38363f41a27f"
      },
      "source": [
        "# Get a subset of rows, that satisfy a constraint\n",
        "# aka selecton in db query speak, SELECT * WHERE...\n",
        "mapp = ted_main['views'] > 31415926\n",
        "ted_main[mapp]"
      ],
      "execution_count": null,
      "outputs": [
        {
          "output_type": "execute_result",
          "data": {
            "text/html": [
              "<div>\n",
              "<style scoped>\n",
              "    .dataframe tbody tr th:only-of-type {\n",
              "        vertical-align: middle;\n",
              "    }\n",
              "\n",
              "    .dataframe tbody tr th {\n",
              "        vertical-align: top;\n",
              "    }\n",
              "\n",
              "    .dataframe thead th {\n",
              "        text-align: right;\n",
              "    }\n",
              "</style>\n",
              "<table border=\"1\" class=\"dataframe\">\n",
              "  <thead>\n",
              "    <tr style=\"text-align: right;\">\n",
              "      <th></th>\n",
              "      <th>comments</th>\n",
              "      <th>description</th>\n",
              "      <th>duration</th>\n",
              "      <th>event</th>\n",
              "      <th>film_date</th>\n",
              "      <th>languages</th>\n",
              "      <th>main_speaker</th>\n",
              "      <th>name</th>\n",
              "      <th>num_speaker</th>\n",
              "      <th>published_date</th>\n",
              "      <th>ratings</th>\n",
              "      <th>related_talks</th>\n",
              "      <th>speaker_occupation</th>\n",
              "      <th>tags</th>\n",
              "      <th>title</th>\n",
              "      <th>url</th>\n",
              "      <th>views</th>\n",
              "    </tr>\n",
              "  </thead>\n",
              "  <tbody>\n",
              "    <tr>\n",
              "      <th>0</th>\n",
              "      <td>4553</td>\n",
              "      <td>Sir Ken Robinson makes an entertaining and pro...</td>\n",
              "      <td>1164</td>\n",
              "      <td>TED2006</td>\n",
              "      <td>1140825600</td>\n",
              "      <td>60</td>\n",
              "      <td>Ken Robinson</td>\n",
              "      <td>Ken Robinson: Do schools kill creativity?</td>\n",
              "      <td>1</td>\n",
              "      <td>1151367060</td>\n",
              "      <td>[{'id': 7, 'name': 'Funny', 'count': 19645}, {...</td>\n",
              "      <td>[{'id': 865, 'hero': 'https://pe.tedcdn.com/im...</td>\n",
              "      <td>Author/educator</td>\n",
              "      <td>['children', 'creativity', 'culture', 'dance',...</td>\n",
              "      <td>Do schools kill creativity?</td>\n",
              "      <td>https://www.ted.com/talks/ken_robinson_says_sc...</td>\n",
              "      <td>47227110</td>\n",
              "    </tr>\n",
              "    <tr>\n",
              "      <th>677</th>\n",
              "      <td>1930</td>\n",
              "      <td>Simon Sinek has a simple but powerful model fo...</td>\n",
              "      <td>1084</td>\n",
              "      <td>TEDxPuget Sound</td>\n",
              "      <td>1253145600</td>\n",
              "      <td>45</td>\n",
              "      <td>Simon Sinek</td>\n",
              "      <td>Simon Sinek: How great leaders inspire action</td>\n",
              "      <td>1</td>\n",
              "      <td>1272965460</td>\n",
              "      <td>[{'id': 21, 'name': 'Unconvincing', 'count': 9...</td>\n",
              "      <td>[{'id': 814, 'hero': 'https://pe.tedcdn.com/im...</td>\n",
              "      <td>Leadership expert</td>\n",
              "      <td>['TEDx', 'business', 'entrepreneur', 'leadersh...</td>\n",
              "      <td>How great leaders inspire action</td>\n",
              "      <td>https://www.ted.com/talks/simon_sinek_how_grea...</td>\n",
              "      <td>34309432</td>\n",
              "    </tr>\n",
              "    <tr>\n",
              "      <th>1346</th>\n",
              "      <td>2290</td>\n",
              "      <td>Body language affects how others see us, but i...</td>\n",
              "      <td>1262</td>\n",
              "      <td>TEDGlobal 2012</td>\n",
              "      <td>1340668800</td>\n",
              "      <td>51</td>\n",
              "      <td>Amy Cuddy</td>\n",
              "      <td>Amy Cuddy: Your body language may shape who yo...</td>\n",
              "      <td>1</td>\n",
              "      <td>1349103608</td>\n",
              "      <td>[{'id': 23, 'name': 'Jaw-dropping', 'count': 3...</td>\n",
              "      <td>[{'id': 605, 'hero': 'https://pe.tedcdn.com/im...</td>\n",
              "      <td>Social psychologist</td>\n",
              "      <td>['body language', 'brain', 'business', 'psycho...</td>\n",
              "      <td>Your body language may shape who you are</td>\n",
              "      <td>https://www.ted.com/talks/amy_cuddy_your_body_...</td>\n",
              "      <td>43155405</td>\n",
              "    </tr>\n",
              "  </tbody>\n",
              "</table>\n",
              "</div>"
            ],
            "text/plain": [
              "      comments  ...     views\n",
              "0         4553  ...  47227110\n",
              "677       1930  ...  34309432\n",
              "1346      2290  ...  43155405\n",
              "\n",
              "[3 rows x 17 columns]"
            ]
          },
          "metadata": {
            "tags": []
          },
          "execution_count": 41
        }
      ]
    },
    {
      "cell_type": "code",
      "metadata": {
        "id": "wdAadUf5XVms",
        "colab": {
          "base_uri": "https://localhost:8080/",
          "height": 225
        },
        "outputId": "8a4471bc-8500-4a14-91a6-2ab78fda022c"
      },
      "source": [
        "mapp"
      ],
      "execution_count": null,
      "outputs": [
        {
          "output_type": "execute_result",
          "data": {
            "text/plain": [
              "0        True\n",
              "1       False\n",
              "2       False\n",
              "3       False\n",
              "4       False\n",
              "        ...  \n",
              "2545    False\n",
              "2546    False\n",
              "2547    False\n",
              "2548    False\n",
              "2549    False\n",
              "Name: views, Length: 2550, dtype: bool"
            ]
          },
          "metadata": {
            "tags": []
          },
          "execution_count": 42
        }
      ]
    },
    {
      "cell_type": "markdown",
      "metadata": {
        "id": "RdyHPSlS3l2j"
      },
      "source": [
        "## What if my filtering function is more complicated?\n",
        "For example, I want to get all the TEDx talks in the dataset."
      ]
    },
    {
      "cell_type": "code",
      "metadata": {
        "id": "8-M9yLH13lGo",
        "colab": {
          "base_uri": "https://localhost:8080/",
          "height": 225
        },
        "outputId": "f4eb0f6a-5e60-4cae-aa40-13ff9271aaea"
      },
      "source": [
        "# Lambda functions help keep your code clean and compact.\n",
        "ted_main['event'].apply(lambda string: 'TEDx' in string)"
      ],
      "execution_count": null,
      "outputs": [
        {
          "output_type": "execute_result",
          "data": {
            "text/plain": [
              "0       False\n",
              "1       False\n",
              "2       False\n",
              "3       False\n",
              "4       False\n",
              "        ...  \n",
              "2545    False\n",
              "2546    False\n",
              "2547    False\n",
              "2548     True\n",
              "2549    False\n",
              "Name: event, Length: 2550, dtype: bool"
            ]
          },
          "metadata": {
            "tags": []
          },
          "execution_count": 43
        }
      ]
    },
    {
      "cell_type": "code",
      "metadata": {
        "id": "NjNWy8Hn4Dik",
        "colab": {
          "base_uri": "https://localhost:8080/",
          "height": 1000
        },
        "outputId": "d65e49a5-f9d1-4565-94e4-bec4311a9fd6"
      },
      "source": [
        "ted_main[ted_main['event'].apply(lambda string: 'TEDx' in string)]"
      ],
      "execution_count": null,
      "outputs": [
        {
          "output_type": "execute_result",
          "data": {
            "text/html": [
              "<div>\n",
              "<style scoped>\n",
              "    .dataframe tbody tr th:only-of-type {\n",
              "        vertical-align: middle;\n",
              "    }\n",
              "\n",
              "    .dataframe tbody tr th {\n",
              "        vertical-align: top;\n",
              "    }\n",
              "\n",
              "    .dataframe thead th {\n",
              "        text-align: right;\n",
              "    }\n",
              "</style>\n",
              "<table border=\"1\" class=\"dataframe\">\n",
              "  <thead>\n",
              "    <tr style=\"text-align: right;\">\n",
              "      <th></th>\n",
              "      <th>comments</th>\n",
              "      <th>description</th>\n",
              "      <th>duration</th>\n",
              "      <th>event</th>\n",
              "      <th>film_date</th>\n",
              "      <th>languages</th>\n",
              "      <th>main_speaker</th>\n",
              "      <th>name</th>\n",
              "      <th>num_speaker</th>\n",
              "      <th>published_date</th>\n",
              "      <th>ratings</th>\n",
              "      <th>related_talks</th>\n",
              "      <th>speaker_occupation</th>\n",
              "      <th>tags</th>\n",
              "      <th>title</th>\n",
              "      <th>url</th>\n",
              "      <th>views</th>\n",
              "    </tr>\n",
              "  </thead>\n",
              "  <tbody>\n",
              "    <tr>\n",
              "      <th>470</th>\n",
              "      <td>103</td>\n",
              "      <td>Jane Poynter tells her story of living two yea...</td>\n",
              "      <td>953</td>\n",
              "      <td>TEDxUSC</td>\n",
              "      <td>1237766400</td>\n",
              "      <td>27</td>\n",
              "      <td>Jane Poynter</td>\n",
              "      <td>Jane Poynter: Life in Biosphere 2</td>\n",
              "      <td>1</td>\n",
              "      <td>1245027600</td>\n",
              "      <td>[{'id': 10, 'name': 'Inspiring', 'count': 407}...</td>\n",
              "      <td>[{'id': 490, 'hero': 'https://pe.tedcdn.com/im...</td>\n",
              "      <td>Biospherian</td>\n",
              "      <td>['TEDx', 'adventure', 'biotech', 'climate chan...</td>\n",
              "      <td>Life in Biosphere 2</td>\n",
              "      <td>https://www.ted.com/talks/jane_poynter_life_in...</td>\n",
              "      <td>843719</td>\n",
              "    </tr>\n",
              "    <tr>\n",
              "      <th>474</th>\n",
              "      <td>135</td>\n",
              "      <td>Organ virtuoso Qi Zhang plays her electric ren...</td>\n",
              "      <td>185</td>\n",
              "      <td>TEDxUSC</td>\n",
              "      <td>1237766400</td>\n",
              "      <td>0</td>\n",
              "      <td>Qi Zhang</td>\n",
              "      <td>Qi Zhang: An electrifying organ performance</td>\n",
              "      <td>1</td>\n",
              "      <td>1245401400</td>\n",
              "      <td>[{'id': 23, 'name': 'Jaw-dropping', 'count': 3...</td>\n",
              "      <td>[{'id': 46, 'hero': 'https://pe.tedcdn.com/ima...</td>\n",
              "      <td>Organist</td>\n",
              "      <td>['TEDx', 'china', 'music', 'performance', 'pia...</td>\n",
              "      <td>An electrifying organ performance</td>\n",
              "      <td>https://www.ted.com/talks/qi_zhang_s_electrify...</td>\n",
              "      <td>803691</td>\n",
              "    </tr>\n",
              "    <tr>\n",
              "      <th>529</th>\n",
              "      <td>248</td>\n",
              "      <td>David Logan talks about the five kinds of trib...</td>\n",
              "      <td>999</td>\n",
              "      <td>TEDxUSC</td>\n",
              "      <td>1237766400</td>\n",
              "      <td>25</td>\n",
              "      <td>David Logan</td>\n",
              "      <td>David Logan: Tribal leadership</td>\n",
              "      <td>1</td>\n",
              "      <td>1254790800</td>\n",
              "      <td>[{'id': 22, 'name': 'Fascinating', 'count': 33...</td>\n",
              "      <td>[{'id': 538, 'hero': 'https://pe.tedcdn.com/im...</td>\n",
              "      <td>Professor of management</td>\n",
              "      <td>['TEDx', 'business', 'communication', 'culture...</td>\n",
              "      <td>Tribal leadership</td>\n",
              "      <td>https://www.ted.com/talks/david_logan_on_triba...</td>\n",
              "      <td>1404586</td>\n",
              "    </tr>\n",
              "    <tr>\n",
              "      <th>538</th>\n",
              "      <td>133</td>\n",
              "      <td>John Gerzema says there's an upside to the rec...</td>\n",
              "      <td>994</td>\n",
              "      <td>TEDxKC</td>\n",
              "      <td>1250726400</td>\n",
              "      <td>21</td>\n",
              "      <td>John Gerzema</td>\n",
              "      <td>John Gerzema: The post-crisis consumer</td>\n",
              "      <td>1</td>\n",
              "      <td>1255914000</td>\n",
              "      <td>[{'id': 25, 'name': 'OK', 'count': 94}, {'id':...</td>\n",
              "      <td>[{'id': 658, 'hero': 'https://pe.tedcdn.com/im...</td>\n",
              "      <td>Marketing whiz</td>\n",
              "      <td>['TEDx', 'advertising', 'business', 'consumeri...</td>\n",
              "      <td>The post-crisis consumer</td>\n",
              "      <td>https://www.ted.com/talks/john_gerzema_the_pos...</td>\n",
              "      <td>760493</td>\n",
              "    </tr>\n",
              "    <tr>\n",
              "      <th>539</th>\n",
              "      <td>89</td>\n",
              "      <td>Computer graphics trailblazer Paul Debevec exp...</td>\n",
              "      <td>366</td>\n",
              "      <td>TEDxUSC</td>\n",
              "      <td>1237766400</td>\n",
              "      <td>24</td>\n",
              "      <td>Paul Debevec</td>\n",
              "      <td>Paul Debevec: Animating a photo-real digital face</td>\n",
              "      <td>1</td>\n",
              "      <td>1256029020</td>\n",
              "      <td>[{'id': 23, 'name': 'Jaw-dropping', 'count': 1...</td>\n",
              "      <td>[{'id': 469, 'hero': 'https://pe.tedcdn.com/im...</td>\n",
              "      <td>Computer graphics pioneer</td>\n",
              "      <td>['TEDx', 'animation', 'art', 'computers', 'des...</td>\n",
              "      <td>Animating a photo-real digital face</td>\n",
              "      <td>https://www.ted.com/talks/paul_debevec_animate...</td>\n",
              "      <td>748862</td>\n",
              "    </tr>\n",
              "    <tr>\n",
              "      <th>...</th>\n",
              "      <td>...</td>\n",
              "      <td>...</td>\n",
              "      <td>...</td>\n",
              "      <td>...</td>\n",
              "      <td>...</td>\n",
              "      <td>...</td>\n",
              "      <td>...</td>\n",
              "      <td>...</td>\n",
              "      <td>...</td>\n",
              "      <td>...</td>\n",
              "      <td>...</td>\n",
              "      <td>...</td>\n",
              "      <td>...</td>\n",
              "      <td>...</td>\n",
              "      <td>...</td>\n",
              "      <td>...</td>\n",
              "      <td>...</td>\n",
              "    </tr>\n",
              "    <tr>\n",
              "      <th>2534</th>\n",
              "      <td>2</td>\n",
              "      <td>What the astronauts felt when they saw Earth f...</td>\n",
              "      <td>725</td>\n",
              "      <td>TEDxSkoll</td>\n",
              "      <td>1491523200</td>\n",
              "      <td>1</td>\n",
              "      <td>Benjamin Grant</td>\n",
              "      <td>Benjamin Grant: What it feels like to see Eart...</td>\n",
              "      <td>1</td>\n",
              "      <td>1504814438</td>\n",
              "      <td>[{'id': 10, 'name': 'Inspiring', 'count': 46},...</td>\n",
              "      <td>[{'id': 2511, 'hero': 'https://pe.tedcdn.com/i...</td>\n",
              "      <td>Author</td>\n",
              "      <td>['TEDx', 'art', 'climate change', 'environment...</td>\n",
              "      <td>What it feels like to see Earth from space</td>\n",
              "      <td>https://www.ted.com/talks/benjamin_grant_what_...</td>\n",
              "      <td>646174</td>\n",
              "    </tr>\n",
              "    <tr>\n",
              "      <th>2536</th>\n",
              "      <td>21</td>\n",
              "      <td>Can you still be friends with someone who does...</td>\n",
              "      <td>865</td>\n",
              "      <td>TEDxMileHigh</td>\n",
              "      <td>1499472000</td>\n",
              "      <td>5</td>\n",
              "      <td>Caitlin Quattromani and Lauran Arledge</td>\n",
              "      <td>Caitlin Quattromani and Lauran Arledge: How ou...</td>\n",
              "      <td>2</td>\n",
              "      <td>1505142060</td>\n",
              "      <td>[{'id': 3, 'name': 'Courageous', 'count': 45},...</td>\n",
              "      <td>[{'id': 2625, 'hero': 'https://pe.tedcdn.com/i...</td>\n",
              "      <td>Marketing leader</td>\n",
              "      <td>['TEDx', 'communication', 'friendship', 'polit...</td>\n",
              "      <td>How our friendship survives our opposing politics</td>\n",
              "      <td>https://www.ted.com/talks/caitlin_quattromani_...</td>\n",
              "      <td>566101</td>\n",
              "    </tr>\n",
              "    <tr>\n",
              "      <th>2538</th>\n",
              "      <td>7</td>\n",
              "      <td>Each year, one in seven large corporations com...</td>\n",
              "      <td>808</td>\n",
              "      <td>TEDxZurich</td>\n",
              "      <td>1478822400</td>\n",
              "      <td>1</td>\n",
              "      <td>Alexander Wagner</td>\n",
              "      <td>Alexander Wagner: What really motivates people...</td>\n",
              "      <td>1</td>\n",
              "      <td>1505246451</td>\n",
              "      <td>[{'id': 10, 'name': 'Inspiring', 'count': 50},...</td>\n",
              "      <td>[{'id': 1246, 'hero': 'https://pe.tedcdn.com/i...</td>\n",
              "      <td>Economist</td>\n",
              "      <td>['TEDx', 'business', 'corruption', 'economics'...</td>\n",
              "      <td>What really motivates people to be honest in b...</td>\n",
              "      <td>https://www.ted.com/talks/alexander_wagner_wha...</td>\n",
              "      <td>621431</td>\n",
              "    </tr>\n",
              "    <tr>\n",
              "      <th>2541</th>\n",
              "      <td>12</td>\n",
              "      <td>Physics doesn't just happen in a fancy lab -- ...</td>\n",
              "      <td>957</td>\n",
              "      <td>TEDxManchester</td>\n",
              "      <td>1487462400</td>\n",
              "      <td>2</td>\n",
              "      <td>Helen Czerski</td>\n",
              "      <td>Helen Czerski: The fascinating physics of ever...</td>\n",
              "      <td>1</td>\n",
              "      <td>1505419202</td>\n",
              "      <td>[{'id': 11, 'name': 'Longwinded', 'count': 29}...</td>\n",
              "      <td>[{'id': 2491, 'hero': 'https://pe.tedcdn.com/i...</td>\n",
              "      <td>Physicist</td>\n",
              "      <td>['TEDx', 'physics', 'play', 'science']</td>\n",
              "      <td>The fascinating physics of everyday life</td>\n",
              "      <td>https://www.ted.com/talks/helen_czerski_fun_ho...</td>\n",
              "      <td>656791</td>\n",
              "    </tr>\n",
              "    <tr>\n",
              "      <th>2548</th>\n",
              "      <td>32</td>\n",
              "      <td>In an unmissable talk about race and politics ...</td>\n",
              "      <td>1100</td>\n",
              "      <td>TEDxMileHigh</td>\n",
              "      <td>1499472000</td>\n",
              "      <td>1</td>\n",
              "      <td>Theo E.J. Wilson</td>\n",
              "      <td>Theo E.J. Wilson: A black man goes undercover ...</td>\n",
              "      <td>1</td>\n",
              "      <td>1506024042</td>\n",
              "      <td>[{'id': 11, 'name': 'Longwinded', 'count': 3},...</td>\n",
              "      <td>[{'id': 2512, 'hero': 'https://pe.tedcdn.com/i...</td>\n",
              "      <td>Public intellectual</td>\n",
              "      <td>['Internet', 'TEDx', 'United States', 'communi...</td>\n",
              "      <td>A black man goes undercover in the alt-right</td>\n",
              "      <td>https://www.ted.com/talks/theo_e_j_wilson_a_bl...</td>\n",
              "      <td>419309</td>\n",
              "    </tr>\n",
              "  </tbody>\n",
              "</table>\n",
              "<p>471 rows × 17 columns</p>\n",
              "</div>"
            ],
            "text/plain": [
              "      comments  ...    views\n",
              "470        103  ...   843719\n",
              "474        135  ...   803691\n",
              "529        248  ...  1404586\n",
              "538        133  ...   760493\n",
              "539         89  ...   748862\n",
              "...        ...  ...      ...\n",
              "2534         2  ...   646174\n",
              "2536        21  ...   566101\n",
              "2538         7  ...   621431\n",
              "2541        12  ...   656791\n",
              "2548        32  ...   419309\n",
              "\n",
              "[471 rows x 17 columns]"
            ]
          },
          "metadata": {
            "tags": []
          },
          "execution_count": 44
        }
      ]
    },
    {
      "cell_type": "markdown",
      "metadata": {
        "id": "h7BWFZbj4LaY"
      },
      "source": [
        "#### This is equivalent to:"
      ]
    },
    {
      "cell_type": "code",
      "metadata": {
        "id": "hRhzk7zj4K4Y",
        "colab": {
          "base_uri": "https://localhost:8080/",
          "height": 225
        },
        "outputId": "70f668d0-ca71-4122-9ecd-7e8aaca62b63"
      },
      "source": [
        "def is_TEDx(string):\n",
        "  return 'TEDx' in string\n",
        "ted_main['event'].apply(is_TEDx)"
      ],
      "execution_count": null,
      "outputs": [
        {
          "output_type": "execute_result",
          "data": {
            "text/plain": [
              "0       False\n",
              "1       False\n",
              "2       False\n",
              "3       False\n",
              "4       False\n",
              "        ...  \n",
              "2545    False\n",
              "2546    False\n",
              "2547    False\n",
              "2548     True\n",
              "2549    False\n",
              "Name: event, Length: 2550, dtype: bool"
            ]
          },
          "metadata": {
            "tags": []
          },
          "execution_count": 45
        }
      ]
    },
    {
      "cell_type": "markdown",
      "metadata": {
        "id": "enOgQ5pB2M0S"
      },
      "source": [
        "# Sorting"
      ]
    },
    {
      "cell_type": "code",
      "metadata": {
        "id": "LAh7iD4N2LEm",
        "colab": {
          "base_uri": "https://localhost:8080/",
          "height": 1000
        },
        "outputId": "c0c1cd2e-3311-4383-f55a-faec572b5f14"
      },
      "source": [
        "ted_main.sort_values(by=['duration', 'event'], ascending=[True, False])"
      ],
      "execution_count": null,
      "outputs": [
        {
          "output_type": "execute_result",
          "data": {
            "text/html": [
              "<div>\n",
              "<style scoped>\n",
              "    .dataframe tbody tr th:only-of-type {\n",
              "        vertical-align: middle;\n",
              "    }\n",
              "\n",
              "    .dataframe tbody tr th {\n",
              "        vertical-align: top;\n",
              "    }\n",
              "\n",
              "    .dataframe thead th {\n",
              "        text-align: right;\n",
              "    }\n",
              "</style>\n",
              "<table border=\"1\" class=\"dataframe\">\n",
              "  <thead>\n",
              "    <tr style=\"text-align: right;\">\n",
              "      <th></th>\n",
              "      <th>comments</th>\n",
              "      <th>description</th>\n",
              "      <th>duration</th>\n",
              "      <th>event</th>\n",
              "      <th>film_date</th>\n",
              "      <th>languages</th>\n",
              "      <th>main_speaker</th>\n",
              "      <th>name</th>\n",
              "      <th>num_speaker</th>\n",
              "      <th>published_date</th>\n",
              "      <th>ratings</th>\n",
              "      <th>related_talks</th>\n",
              "      <th>speaker_occupation</th>\n",
              "      <th>tags</th>\n",
              "      <th>title</th>\n",
              "      <th>url</th>\n",
              "      <th>views</th>\n",
              "    </tr>\n",
              "  </thead>\n",
              "  <tbody>\n",
              "    <tr>\n",
              "      <th>239</th>\n",
              "      <td>76</td>\n",
              "      <td>After speaking at TED2007 on elegance in physi...</td>\n",
              "      <td>135</td>\n",
              "      <td>TED2007</td>\n",
              "      <td>1172880000</td>\n",
              "      <td>61</td>\n",
              "      <td>Murray Gell-Mann</td>\n",
              "      <td>Murray Gell-Mann: The ancestor of language</td>\n",
              "      <td>1</td>\n",
              "      <td>1213146000</td>\n",
              "      <td>[{'id': 22, 'name': 'Fascinating', 'count': 78...</td>\n",
              "      <td>[{'id': 161, 'hero': 'https://pe.tedcdn.com/im...</td>\n",
              "      <td>Physicist</td>\n",
              "      <td>['culture', 'global issues', 'history', 'langu...</td>\n",
              "      <td>The ancestor of language</td>\n",
              "      <td>https://www.ted.com/talks/murray_gell_mann_on_...</td>\n",
              "      <td>785293</td>\n",
              "    </tr>\n",
              "    <tr>\n",
              "      <th>248</th>\n",
              "      <td>42</td>\n",
              "      <td>Singer-songwriter Nellie McKay performs the se...</td>\n",
              "      <td>140</td>\n",
              "      <td>TED2008</td>\n",
              "      <td>1204243200</td>\n",
              "      <td>39</td>\n",
              "      <td>Nellie McKay</td>\n",
              "      <td>Nellie McKay: \"Clonie\"</td>\n",
              "      <td>1</td>\n",
              "      <td>1214528400</td>\n",
              "      <td>[{'id': 25, 'name': 'OK', 'count': 104}, {'id'...</td>\n",
              "      <td>[{'id': 325, 'hero': 'https://pe.tedcdn.com/im...</td>\n",
              "      <td>Singer/songwriter</td>\n",
              "      <td>['culture', 'entertainment', 'genetics', 'live...</td>\n",
              "      <td>\"Clonie\"</td>\n",
              "      <td>https://www.ted.com/talks/nellie_mckay_sings_c...</td>\n",
              "      <td>680591</td>\n",
              "    </tr>\n",
              "    <tr>\n",
              "      <th>547</th>\n",
              "      <td>46</td>\n",
              "      <td>The euphonium, with its sweet brass sound, is ...</td>\n",
              "      <td>141</td>\n",
              "      <td>TEDGlobal 2009</td>\n",
              "      <td>1248307200</td>\n",
              "      <td>0</td>\n",
              "      <td>Matthew White</td>\n",
              "      <td>Matthew White: The modern euphonium</td>\n",
              "      <td>1</td>\n",
              "      <td>1256864400</td>\n",
              "      <td>[{'id': 9, 'name': 'Ingenious', 'count': 43}, ...</td>\n",
              "      <td>[{'id': 478, 'hero': 'https://pe.tedcdn.com/im...</td>\n",
              "      <td>Brass virtuoso</td>\n",
              "      <td>['creativity', 'live music', 'music', 'perform...</td>\n",
              "      <td>The modern euphonium</td>\n",
              "      <td>https://www.ted.com/talks/matthew_white_gives_...</td>\n",
              "      <td>771962</td>\n",
              "    </tr>\n",
              "    <tr>\n",
              "      <th>454</th>\n",
              "      <td>62</td>\n",
              "      <td>Yves Behar and Forrest North unveil Mission On...</td>\n",
              "      <td>143</td>\n",
              "      <td>TED2009</td>\n",
              "      <td>1233878400</td>\n",
              "      <td>45</td>\n",
              "      <td>Yves Behar</td>\n",
              "      <td>Yves Behar: A supercharged motorcycle design</td>\n",
              "      <td>1</td>\n",
              "      <td>1242982440</td>\n",
              "      <td>[{'id': 7, 'name': 'Funny', 'count': 30}, {'id...</td>\n",
              "      <td>[{'id': 266, 'hero': 'https://pe.tedcdn.com/im...</td>\n",
              "      <td>Designer</td>\n",
              "      <td>['cars', 'design', 'engineering', 'green', 'tr...</td>\n",
              "      <td>A supercharged motorcycle design</td>\n",
              "      <td>https://www.ted.com/talks/yves_behar_s_superch...</td>\n",
              "      <td>556657</td>\n",
              "    </tr>\n",
              "    <tr>\n",
              "      <th>264</th>\n",
              "      <td>15</td>\n",
              "      <td>In this short, image-packed talk, Marisa Fick-...</td>\n",
              "      <td>153</td>\n",
              "      <td>TEDGlobal 2007</td>\n",
              "      <td>1181088000</td>\n",
              "      <td>43</td>\n",
              "      <td>Marisa Fick-Jordan</td>\n",
              "      <td>Marisa Fick-Jordan: The wonder of Zulu wire art</td>\n",
              "      <td>1</td>\n",
              "      <td>1216666500</td>\n",
              "      <td>[{'id': 1, 'name': 'Beautiful', 'count': 81}, ...</td>\n",
              "      <td>[{'id': 127, 'hero': 'https://pe.tedcdn.com/im...</td>\n",
              "      <td>Craft artist, product designer</td>\n",
              "      <td>['Africa', 'art', 'business', 'design']</td>\n",
              "      <td>The wonder of Zulu wire art</td>\n",
              "      <td>https://www.ted.com/talks/marisa_fick_jordan_s...</td>\n",
              "      <td>294961</td>\n",
              "    </tr>\n",
              "    <tr>\n",
              "      <th>...</th>\n",
              "      <td>...</td>\n",
              "      <td>...</td>\n",
              "      <td>...</td>\n",
              "      <td>...</td>\n",
              "      <td>...</td>\n",
              "      <td>...</td>\n",
              "      <td>...</td>\n",
              "      <td>...</td>\n",
              "      <td>...</td>\n",
              "      <td>...</td>\n",
              "      <td>...</td>\n",
              "      <td>...</td>\n",
              "      <td>...</td>\n",
              "      <td>...</td>\n",
              "      <td>...</td>\n",
              "      <td>...</td>\n",
              "      <td>...</td>\n",
              "    </tr>\n",
              "    <tr>\n",
              "      <th>594</th>\n",
              "      <td>20</td>\n",
              "      <td>In the midst of an earlier crisis, Haitian aut...</td>\n",
              "      <td>3573</td>\n",
              "      <td>University of California</td>\n",
              "      <td>1097625600</td>\n",
              "      <td>0</td>\n",
              "      <td>Edwidge Danticat</td>\n",
              "      <td>Edwidge Danticat: Stories of Haiti</td>\n",
              "      <td>1</td>\n",
              "      <td>1263481440</td>\n",
              "      <td>[{'id': 1, 'name': 'Beautiful', 'count': 25}, ...</td>\n",
              "      <td>[{'id': 652, 'hero': 'https://pe.tedcdn.com/im...</td>\n",
              "      <td>Author</td>\n",
              "      <td>['books', 'disaster relief', 'novel', 'poetry'...</td>\n",
              "      <td>Stories of Haiti</td>\n",
              "      <td>https://www.ted.com/talks/edwidge_danticat_sto...</td>\n",
              "      <td>50443</td>\n",
              "    </tr>\n",
              "    <tr>\n",
              "      <th>2387</th>\n",
              "      <td>345</td>\n",
              "      <td>How do we make sense of today's political divi...</td>\n",
              "      <td>3608</td>\n",
              "      <td>TED Dialogues</td>\n",
              "      <td>1487116800</td>\n",
              "      <td>19</td>\n",
              "      <td>Yuval Noah Harari</td>\n",
              "      <td>Yuval Noah Harari: Nationalism vs. globalism: ...</td>\n",
              "      <td>2</td>\n",
              "      <td>1487604924</td>\n",
              "      <td>[{'id': 8, 'name': 'Informative', 'count': 583...</td>\n",
              "      <td>[{'id': 2625, 'hero': 'https://pe.tedcdn.com/i...</td>\n",
              "      <td>Historian</td>\n",
              "      <td>['big problems', 'climate change', 'collaborat...</td>\n",
              "      <td>Nationalism vs. globalism: the new political d...</td>\n",
              "      <td>https://www.ted.com/talks/yuval_noah_harari_na...</td>\n",
              "      <td>1514291</td>\n",
              "    </tr>\n",
              "    <tr>\n",
              "      <th>629</th>\n",
              "      <td>146</td>\n",
              "      <td>In this archival footage from BBC TV, celebrat...</td>\n",
              "      <td>3955</td>\n",
              "      <td>BBC TV</td>\n",
              "      <td>426531600</td>\n",
              "      <td>0</td>\n",
              "      <td>Richard Feynman</td>\n",
              "      <td>Richard Feynman: Physics is fun to imagine</td>\n",
              "      <td>1</td>\n",
              "      <td>1267631820</td>\n",
              "      <td>[{'id': 8, 'name': 'Informative', 'count': 324...</td>\n",
              "      <td>[{'id': 194, 'hero': 'https://pe.tedcdn.com/im...</td>\n",
              "      <td>Physicist</td>\n",
              "      <td>['astronomy', 'physics', 'science']</td>\n",
              "      <td>Physics is fun to imagine</td>\n",
              "      <td>https://www.ted.com/talks/richard_feynman\\n</td>\n",
              "      <td>521974</td>\n",
              "    </tr>\n",
              "    <tr>\n",
              "      <th>588</th>\n",
              "      <td>124</td>\n",
              "      <td>In 2007, Carnegie Mellon professor Randy Pausc...</td>\n",
              "      <td>4587</td>\n",
              "      <td>Carnegie Mellon University</td>\n",
              "      <td>1190073600</td>\n",
              "      <td>0</td>\n",
              "      <td>Randy Pausch</td>\n",
              "      <td>Randy Pausch: Really achieving your childhood ...</td>\n",
              "      <td>1</td>\n",
              "      <td>1262950320</td>\n",
              "      <td>[{'id': 3, 'name': 'Courageous', 'count': 299}...</td>\n",
              "      <td>[{'id': 229, 'hero': 'https://pe.tedcdn.com/im...</td>\n",
              "      <td>Professor</td>\n",
              "      <td>['culture', 'disease', 'education', 'life', 's...</td>\n",
              "      <td>Really achieving your childhood dreams</td>\n",
              "      <td>https://www.ted.com/talks/randy_pausch_really_...</td>\n",
              "      <td>564781</td>\n",
              "    </tr>\n",
              "    <tr>\n",
              "      <th>640</th>\n",
              "      <td>101</td>\n",
              "      <td>Blind river dolphins, reclusive lemurs, a parr...</td>\n",
              "      <td>5256</td>\n",
              "      <td>University of California</td>\n",
              "      <td>989971200</td>\n",
              "      <td>0</td>\n",
              "      <td>Douglas Adams</td>\n",
              "      <td>Douglas Adams: Parrots, the universe and every...</td>\n",
              "      <td>1</td>\n",
              "      <td>1268762040</td>\n",
              "      <td>[{'id': 22, 'name': 'Fascinating', 'count': 29...</td>\n",
              "      <td>[{'id': 635, 'hero': 'https://pe.tedcdn.com/im...</td>\n",
              "      <td>Author, satirist</td>\n",
              "      <td>['biodiversity', 'biology', 'comedy', 'humor',...</td>\n",
              "      <td>Parrots, the universe and everything</td>\n",
              "      <td>https://www.ted.com/talks/douglas_adams_parrot...</td>\n",
              "      <td>473220</td>\n",
              "    </tr>\n",
              "  </tbody>\n",
              "</table>\n",
              "<p>2550 rows × 17 columns</p>\n",
              "</div>"
            ],
            "text/plain": [
              "      comments  ...    views\n",
              "239         76  ...   785293\n",
              "248         42  ...   680591\n",
              "547         46  ...   771962\n",
              "454         62  ...   556657\n",
              "264         15  ...   294961\n",
              "...        ...  ...      ...\n",
              "594         20  ...    50443\n",
              "2387       345  ...  1514291\n",
              "629        146  ...   521974\n",
              "588        124  ...   564781\n",
              "640        101  ...   473220\n",
              "\n",
              "[2550 rows x 17 columns]"
            ]
          },
          "metadata": {
            "tags": []
          },
          "execution_count": 46
        }
      ]
    },
    {
      "cell_type": "markdown",
      "metadata": {
        "id": "sQWiGawW51Qi"
      },
      "source": [
        "# Preprocessing "
      ]
    },
    {
      "cell_type": "code",
      "metadata": {
        "id": "MjYmeIzrYjLR",
        "colab": {
          "base_uri": "https://localhost:8080/",
          "height": 427
        },
        "outputId": "28771f94-01b1-485d-c4d4-08ceca77cc18"
      },
      "source": [
        "~ted_main.isnull()"
      ],
      "execution_count": null,
      "outputs": [
        {
          "output_type": "execute_result",
          "data": {
            "text/html": [
              "<div>\n",
              "<style scoped>\n",
              "    .dataframe tbody tr th:only-of-type {\n",
              "        vertical-align: middle;\n",
              "    }\n",
              "\n",
              "    .dataframe tbody tr th {\n",
              "        vertical-align: top;\n",
              "    }\n",
              "\n",
              "    .dataframe thead th {\n",
              "        text-align: right;\n",
              "    }\n",
              "</style>\n",
              "<table border=\"1\" class=\"dataframe\">\n",
              "  <thead>\n",
              "    <tr style=\"text-align: right;\">\n",
              "      <th></th>\n",
              "      <th>comments</th>\n",
              "      <th>description</th>\n",
              "      <th>duration</th>\n",
              "      <th>event</th>\n",
              "      <th>film_date</th>\n",
              "      <th>languages</th>\n",
              "      <th>main_speaker</th>\n",
              "      <th>name</th>\n",
              "      <th>num_speaker</th>\n",
              "      <th>published_date</th>\n",
              "      <th>ratings</th>\n",
              "      <th>related_talks</th>\n",
              "      <th>speaker_occupation</th>\n",
              "      <th>tags</th>\n",
              "      <th>title</th>\n",
              "      <th>url</th>\n",
              "      <th>views</th>\n",
              "    </tr>\n",
              "  </thead>\n",
              "  <tbody>\n",
              "    <tr>\n",
              "      <th>0</th>\n",
              "      <td>True</td>\n",
              "      <td>True</td>\n",
              "      <td>True</td>\n",
              "      <td>True</td>\n",
              "      <td>True</td>\n",
              "      <td>True</td>\n",
              "      <td>True</td>\n",
              "      <td>True</td>\n",
              "      <td>True</td>\n",
              "      <td>True</td>\n",
              "      <td>True</td>\n",
              "      <td>True</td>\n",
              "      <td>True</td>\n",
              "      <td>True</td>\n",
              "      <td>True</td>\n",
              "      <td>True</td>\n",
              "      <td>True</td>\n",
              "    </tr>\n",
              "    <tr>\n",
              "      <th>1</th>\n",
              "      <td>True</td>\n",
              "      <td>True</td>\n",
              "      <td>True</td>\n",
              "      <td>True</td>\n",
              "      <td>True</td>\n",
              "      <td>True</td>\n",
              "      <td>True</td>\n",
              "      <td>True</td>\n",
              "      <td>True</td>\n",
              "      <td>True</td>\n",
              "      <td>True</td>\n",
              "      <td>True</td>\n",
              "      <td>True</td>\n",
              "      <td>True</td>\n",
              "      <td>True</td>\n",
              "      <td>True</td>\n",
              "      <td>True</td>\n",
              "    </tr>\n",
              "    <tr>\n",
              "      <th>2</th>\n",
              "      <td>True</td>\n",
              "      <td>True</td>\n",
              "      <td>True</td>\n",
              "      <td>True</td>\n",
              "      <td>True</td>\n",
              "      <td>True</td>\n",
              "      <td>True</td>\n",
              "      <td>True</td>\n",
              "      <td>True</td>\n",
              "      <td>True</td>\n",
              "      <td>True</td>\n",
              "      <td>True</td>\n",
              "      <td>True</td>\n",
              "      <td>True</td>\n",
              "      <td>True</td>\n",
              "      <td>True</td>\n",
              "      <td>True</td>\n",
              "    </tr>\n",
              "    <tr>\n",
              "      <th>3</th>\n",
              "      <td>True</td>\n",
              "      <td>True</td>\n",
              "      <td>True</td>\n",
              "      <td>True</td>\n",
              "      <td>True</td>\n",
              "      <td>True</td>\n",
              "      <td>True</td>\n",
              "      <td>True</td>\n",
              "      <td>True</td>\n",
              "      <td>True</td>\n",
              "      <td>True</td>\n",
              "      <td>True</td>\n",
              "      <td>True</td>\n",
              "      <td>True</td>\n",
              "      <td>True</td>\n",
              "      <td>True</td>\n",
              "      <td>True</td>\n",
              "    </tr>\n",
              "    <tr>\n",
              "      <th>4</th>\n",
              "      <td>True</td>\n",
              "      <td>True</td>\n",
              "      <td>True</td>\n",
              "      <td>True</td>\n",
              "      <td>True</td>\n",
              "      <td>True</td>\n",
              "      <td>True</td>\n",
              "      <td>True</td>\n",
              "      <td>True</td>\n",
              "      <td>True</td>\n",
              "      <td>True</td>\n",
              "      <td>True</td>\n",
              "      <td>True</td>\n",
              "      <td>True</td>\n",
              "      <td>True</td>\n",
              "      <td>True</td>\n",
              "      <td>True</td>\n",
              "    </tr>\n",
              "    <tr>\n",
              "      <th>...</th>\n",
              "      <td>...</td>\n",
              "      <td>...</td>\n",
              "      <td>...</td>\n",
              "      <td>...</td>\n",
              "      <td>...</td>\n",
              "      <td>...</td>\n",
              "      <td>...</td>\n",
              "      <td>...</td>\n",
              "      <td>...</td>\n",
              "      <td>...</td>\n",
              "      <td>...</td>\n",
              "      <td>...</td>\n",
              "      <td>...</td>\n",
              "      <td>...</td>\n",
              "      <td>...</td>\n",
              "      <td>...</td>\n",
              "      <td>...</td>\n",
              "    </tr>\n",
              "    <tr>\n",
              "      <th>2545</th>\n",
              "      <td>True</td>\n",
              "      <td>True</td>\n",
              "      <td>True</td>\n",
              "      <td>True</td>\n",
              "      <td>True</td>\n",
              "      <td>True</td>\n",
              "      <td>True</td>\n",
              "      <td>True</td>\n",
              "      <td>True</td>\n",
              "      <td>True</td>\n",
              "      <td>True</td>\n",
              "      <td>True</td>\n",
              "      <td>True</td>\n",
              "      <td>True</td>\n",
              "      <td>True</td>\n",
              "      <td>True</td>\n",
              "      <td>True</td>\n",
              "    </tr>\n",
              "    <tr>\n",
              "      <th>2546</th>\n",
              "      <td>True</td>\n",
              "      <td>True</td>\n",
              "      <td>True</td>\n",
              "      <td>True</td>\n",
              "      <td>True</td>\n",
              "      <td>True</td>\n",
              "      <td>True</td>\n",
              "      <td>True</td>\n",
              "      <td>True</td>\n",
              "      <td>True</td>\n",
              "      <td>True</td>\n",
              "      <td>True</td>\n",
              "      <td>True</td>\n",
              "      <td>True</td>\n",
              "      <td>True</td>\n",
              "      <td>True</td>\n",
              "      <td>True</td>\n",
              "    </tr>\n",
              "    <tr>\n",
              "      <th>2547</th>\n",
              "      <td>True</td>\n",
              "      <td>True</td>\n",
              "      <td>True</td>\n",
              "      <td>True</td>\n",
              "      <td>True</td>\n",
              "      <td>True</td>\n",
              "      <td>True</td>\n",
              "      <td>True</td>\n",
              "      <td>True</td>\n",
              "      <td>True</td>\n",
              "      <td>True</td>\n",
              "      <td>True</td>\n",
              "      <td>True</td>\n",
              "      <td>True</td>\n",
              "      <td>True</td>\n",
              "      <td>True</td>\n",
              "      <td>True</td>\n",
              "    </tr>\n",
              "    <tr>\n",
              "      <th>2548</th>\n",
              "      <td>True</td>\n",
              "      <td>True</td>\n",
              "      <td>True</td>\n",
              "      <td>True</td>\n",
              "      <td>True</td>\n",
              "      <td>True</td>\n",
              "      <td>True</td>\n",
              "      <td>True</td>\n",
              "      <td>True</td>\n",
              "      <td>True</td>\n",
              "      <td>True</td>\n",
              "      <td>True</td>\n",
              "      <td>True</td>\n",
              "      <td>True</td>\n",
              "      <td>True</td>\n",
              "      <td>True</td>\n",
              "      <td>True</td>\n",
              "    </tr>\n",
              "    <tr>\n",
              "      <th>2549</th>\n",
              "      <td>True</td>\n",
              "      <td>True</td>\n",
              "      <td>True</td>\n",
              "      <td>True</td>\n",
              "      <td>True</td>\n",
              "      <td>True</td>\n",
              "      <td>True</td>\n",
              "      <td>True</td>\n",
              "      <td>True</td>\n",
              "      <td>True</td>\n",
              "      <td>True</td>\n",
              "      <td>True</td>\n",
              "      <td>True</td>\n",
              "      <td>True</td>\n",
              "      <td>True</td>\n",
              "      <td>True</td>\n",
              "      <td>True</td>\n",
              "    </tr>\n",
              "  </tbody>\n",
              "</table>\n",
              "<p>2550 rows × 17 columns</p>\n",
              "</div>"
            ],
            "text/plain": [
              "      comments  description  duration  event  ...  tags  title   url  views\n",
              "0         True         True      True   True  ...  True   True  True   True\n",
              "1         True         True      True   True  ...  True   True  True   True\n",
              "2         True         True      True   True  ...  True   True  True   True\n",
              "3         True         True      True   True  ...  True   True  True   True\n",
              "4         True         True      True   True  ...  True   True  True   True\n",
              "...        ...          ...       ...    ...  ...   ...    ...   ...    ...\n",
              "2545      True         True      True   True  ...  True   True  True   True\n",
              "2546      True         True      True   True  ...  True   True  True   True\n",
              "2547      True         True      True   True  ...  True   True  True   True\n",
              "2548      True         True      True   True  ...  True   True  True   True\n",
              "2549      True         True      True   True  ...  True   True  True   True\n",
              "\n",
              "[2550 rows x 17 columns]"
            ]
          },
          "metadata": {
            "tags": []
          },
          "execution_count": 47
        }
      ]
    },
    {
      "cell_type": "code",
      "metadata": {
        "id": "JbWUmVyaYrJh",
        "colab": {
          "base_uri": "https://localhost:8080/",
          "height": 35
        },
        "outputId": "2873d398-aa76-462f-f7cc-dd6c9c0f6090"
      },
      "source": [
        "ted_main.shape"
      ],
      "execution_count": null,
      "outputs": [
        {
          "output_type": "execute_result",
          "data": {
            "text/plain": [
              "(2550, 17)"
            ]
          },
          "metadata": {
            "tags": []
          },
          "execution_count": 48
        }
      ]
    },
    {
      "cell_type": "markdown",
      "metadata": {
        "id": "_3L_329TIz2j"
      },
      "source": [
        "## Replacing missing values"
      ]
    },
    {
      "cell_type": "code",
      "metadata": {
        "id": "LOOXqixVIaNK",
        "colab": {
          "base_uri": "https://localhost:8080/",
          "height": 35
        },
        "outputId": "f7c859b1-4c1d-44c0-8e07-c8ae2e474b07"
      },
      "source": [
        "temp = ted_main.fillna('Not specified')\n",
        "temp2 = temp[temp['speaker_occupation'] == 'Not specified']\n",
        "len(temp2)"
      ],
      "execution_count": null,
      "outputs": [
        {
          "output_type": "execute_result",
          "data": {
            "text/plain": [
              "6"
            ]
          },
          "metadata": {
            "tags": []
          },
          "execution_count": 49
        }
      ]
    },
    {
      "cell_type": "markdown",
      "metadata": {
        "id": "IGj1JsK9I6Nc"
      },
      "source": [
        "## Dropping rows with missing values"
      ]
    },
    {
      "cell_type": "code",
      "metadata": {
        "id": "9IsPXTUoYmgZ"
      },
      "source": [
        "ted_main.dropna(how='any', inplace=True)"
      ],
      "execution_count": null,
      "outputs": []
    },
    {
      "cell_type": "code",
      "metadata": {
        "id": "wvySuxptYxSI",
        "colab": {
          "base_uri": "https://localhost:8080/",
          "height": 35
        },
        "outputId": "288697bb-afc8-4c09-ded3-79ee2f74231d"
      },
      "source": [
        "ted_main.shape"
      ],
      "execution_count": null,
      "outputs": [
        {
          "output_type": "execute_result",
          "data": {
            "text/plain": [
              "(2544, 17)"
            ]
          },
          "metadata": {
            "tags": []
          },
          "execution_count": 51
        }
      ]
    },
    {
      "cell_type": "markdown",
      "metadata": {
        "id": "UBp5A-PiAX6M"
      },
      "source": [
        "## Let's convert ratings, related talks and tags to proper datatypes!"
      ]
    },
    {
      "cell_type": "code",
      "metadata": {
        "id": "uhoPZGfg_qEp",
        "colab": {
          "base_uri": "https://localhost:8080/",
          "height": 105
        },
        "outputId": "605d4a3f-c1bb-49f3-f4e7-bb4eed09212b"
      },
      "source": [
        "ted_main['ratings'].iloc[0]"
      ],
      "execution_count": null,
      "outputs": [
        {
          "output_type": "execute_result",
          "data": {
            "application/vnd.google.colaboratory.intrinsic+json": {
              "type": "string"
            },
            "text/plain": [
              "\"[{'id': 7, 'name': 'Funny', 'count': 19645}, {'id': 1, 'name': 'Beautiful', 'count': 4573}, {'id': 9, 'name': 'Ingenious', 'count': 6073}, {'id': 3, 'name': 'Courageous', 'count': 3253}, {'id': 11, 'name': 'Longwinded', 'count': 387}, {'id': 2, 'name': 'Confusing', 'count': 242}, {'id': 8, 'name': 'Informative', 'count': 7346}, {'id': 22, 'name': 'Fascinating', 'count': 10581}, {'id': 21, 'name': 'Unconvincing', 'count': 300}, {'id': 24, 'name': 'Persuasive', 'count': 10704}, {'id': 23, 'name': 'Jaw-dropping', 'count': 4439}, {'id': 25, 'name': 'OK', 'count': 1174}, {'id': 26, 'name': 'Obnoxious', 'count': 209}, {'id': 10, 'name': 'Inspiring', 'count': 24924}]\""
            ]
          },
          "metadata": {
            "tags": []
          },
          "execution_count": 52
        }
      ]
    },
    {
      "cell_type": "code",
      "metadata": {
        "id": "nfCbQFxGTO3B",
        "colab": {
          "base_uri": "https://localhost:8080/",
          "height": 35
        },
        "outputId": "00a75433-60cf-46a7-bd9b-c7e4bf6b2ff5"
      },
      "source": [
        "ted_main['film_date'].iloc[0]"
      ],
      "execution_count": null,
      "outputs": [
        {
          "output_type": "execute_result",
          "data": {
            "text/plain": [
              "1140825600"
            ]
          },
          "metadata": {
            "tags": []
          },
          "execution_count": 53
        }
      ]
    },
    {
      "cell_type": "code",
      "metadata": {
        "id": "BE763DthTUE0",
        "colab": {
          "base_uri": "https://localhost:8080/",
          "height": 35
        },
        "outputId": "a21de85a-c1cb-444f-a18b-d83751e7f8cc"
      },
      "source": [
        "ted_main['published_date'].iloc[0]"
      ],
      "execution_count": null,
      "outputs": [
        {
          "output_type": "execute_result",
          "data": {
            "text/plain": [
              "1151367060"
            ]
          },
          "metadata": {
            "tags": []
          },
          "execution_count": 54
        }
      ]
    },
    {
      "cell_type": "code",
      "metadata": {
        "id": "xixST1yhS4J4"
      },
      "source": [
        "from ast import literal_eval"
      ],
      "execution_count": null,
      "outputs": []
    },
    {
      "cell_type": "code",
      "metadata": {
        "id": "yFEnA4RBAW8w"
      },
      "source": [
        "ted_main['ratings'] = ted_main['ratings'].apply(literal_eval)\n",
        "ted_main['related_talks'] = ted_main['related_talks'].apply(literal_eval)\n",
        "ted_main['tags'] = ted_main['tags'].apply(literal_eval)"
      ],
      "execution_count": null,
      "outputs": []
    },
    {
      "cell_type": "code",
      "metadata": {
        "id": "no4IKwWF8bmh",
        "colab": {
          "base_uri": "https://localhost:8080/",
          "height": 35
        },
        "outputId": "7d6663d6-39c7-40cd-c9ba-0a132f781399"
      },
      "source": [
        "ted_main['ratings'][0][0]"
      ],
      "execution_count": null,
      "outputs": [
        {
          "output_type": "execute_result",
          "data": {
            "text/plain": [
              "{'count': 19645, 'id': 7, 'name': 'Funny'}"
            ]
          },
          "metadata": {
            "tags": []
          },
          "execution_count": 57
        }
      ]
    },
    {
      "cell_type": "markdown",
      "metadata": {
        "id": "SYMj_pHsYclm"
      },
      "source": [
        "## Let's convert the dates to a proper format"
      ]
    },
    {
      "cell_type": "code",
      "metadata": {
        "id": "p8g1C_2eTdTM"
      },
      "source": [
        "pd.to_datetime?"
      ],
      "execution_count": null,
      "outputs": []
    },
    {
      "cell_type": "code",
      "metadata": {
        "id": "kHP04wCUSnK2"
      },
      "source": [
        "ted_main['film_date'] = pd.to_datetime(ted_main['film_date'], unit='s')\n",
        "ted_main['published_date'] = pd.to_datetime(ted_main['published_date'], unit='s')"
      ],
      "execution_count": null,
      "outputs": []
    },
    {
      "cell_type": "markdown",
      "metadata": {
        "id": "sMyfq1rTAmU8"
      },
      "source": [
        "## What does it look like now?"
      ]
    },
    {
      "cell_type": "code",
      "metadata": {
        "id": "eC8D744dAlSS",
        "colab": {
          "base_uri": "https://localhost:8080/",
          "height": 301
        },
        "outputId": "bc3eafe5-0c8e-41f7-cada-0a32392f7440"
      },
      "source": [
        "ted_main.head(2)"
      ],
      "execution_count": null,
      "outputs": [
        {
          "output_type": "execute_result",
          "data": {
            "text/html": [
              "<div>\n",
              "<style scoped>\n",
              "    .dataframe tbody tr th:only-of-type {\n",
              "        vertical-align: middle;\n",
              "    }\n",
              "\n",
              "    .dataframe tbody tr th {\n",
              "        vertical-align: top;\n",
              "    }\n",
              "\n",
              "    .dataframe thead th {\n",
              "        text-align: right;\n",
              "    }\n",
              "</style>\n",
              "<table border=\"1\" class=\"dataframe\">\n",
              "  <thead>\n",
              "    <tr style=\"text-align: right;\">\n",
              "      <th></th>\n",
              "      <th>comments</th>\n",
              "      <th>description</th>\n",
              "      <th>duration</th>\n",
              "      <th>event</th>\n",
              "      <th>film_date</th>\n",
              "      <th>languages</th>\n",
              "      <th>main_speaker</th>\n",
              "      <th>name</th>\n",
              "      <th>num_speaker</th>\n",
              "      <th>published_date</th>\n",
              "      <th>ratings</th>\n",
              "      <th>related_talks</th>\n",
              "      <th>speaker_occupation</th>\n",
              "      <th>tags</th>\n",
              "      <th>title</th>\n",
              "      <th>url</th>\n",
              "      <th>views</th>\n",
              "    </tr>\n",
              "  </thead>\n",
              "  <tbody>\n",
              "    <tr>\n",
              "      <th>0</th>\n",
              "      <td>4553</td>\n",
              "      <td>Sir Ken Robinson makes an entertaining and pro...</td>\n",
              "      <td>1164</td>\n",
              "      <td>TED2006</td>\n",
              "      <td>2006-02-25</td>\n",
              "      <td>60</td>\n",
              "      <td>Ken Robinson</td>\n",
              "      <td>Ken Robinson: Do schools kill creativity?</td>\n",
              "      <td>1</td>\n",
              "      <td>2006-06-27 00:11:00</td>\n",
              "      <td>[{'id': 7, 'name': 'Funny', 'count': 19645}, {...</td>\n",
              "      <td>[{'id': 865, 'hero': 'https://pe.tedcdn.com/im...</td>\n",
              "      <td>Author/educator</td>\n",
              "      <td>[children, creativity, culture, dance, educati...</td>\n",
              "      <td>Do schools kill creativity?</td>\n",
              "      <td>https://www.ted.com/talks/ken_robinson_says_sc...</td>\n",
              "      <td>47227110</td>\n",
              "    </tr>\n",
              "    <tr>\n",
              "      <th>1</th>\n",
              "      <td>265</td>\n",
              "      <td>With the same humor and humanity he exuded in ...</td>\n",
              "      <td>977</td>\n",
              "      <td>TED2006</td>\n",
              "      <td>2006-02-25</td>\n",
              "      <td>43</td>\n",
              "      <td>Al Gore</td>\n",
              "      <td>Al Gore: Averting the climate crisis</td>\n",
              "      <td>1</td>\n",
              "      <td>2006-06-27 00:11:00</td>\n",
              "      <td>[{'id': 7, 'name': 'Funny', 'count': 544}, {'i...</td>\n",
              "      <td>[{'id': 243, 'hero': 'https://pe.tedcdn.com/im...</td>\n",
              "      <td>Climate advocate</td>\n",
              "      <td>[alternative energy, cars, climate change, cul...</td>\n",
              "      <td>Averting the climate crisis</td>\n",
              "      <td>https://www.ted.com/talks/al_gore_on_averting_...</td>\n",
              "      <td>3200520</td>\n",
              "    </tr>\n",
              "  </tbody>\n",
              "</table>\n",
              "</div>"
            ],
            "text/plain": [
              "   comments  ...     views\n",
              "0      4553  ...  47227110\n",
              "1       265  ...   3200520\n",
              "\n",
              "[2 rows x 17 columns]"
            ]
          },
          "metadata": {
            "tags": []
          },
          "execution_count": 60
        }
      ]
    },
    {
      "cell_type": "code",
      "metadata": {
        "id": "WmoHCm0e7YdP",
        "colab": {
          "base_uri": "https://localhost:8080/",
          "height": 72
        },
        "outputId": "02f04a72-b214-4a41-e888-ccae4dcacfe8"
      },
      "source": [
        "# Update `languages` to 1, for rows that had `languages` set to 0\n",
        "\n",
        "ted_main.loc[(ted_main['languages']==0) & (ted_main['comments']=='whatever'),'comments'] = 1"
      ],
      "execution_count": null,
      "outputs": [
        {
          "output_type": "stream",
          "text": [
            "/usr/local/lib/python3.6/dist-packages/pandas/core/ops/array_ops.py:253: FutureWarning: elementwise comparison failed; returning scalar instead, but in the future will perform elementwise comparison\n",
            "  res_values = method(rvalues)\n"
          ],
          "name": "stderr"
        }
      ]
    },
    {
      "cell_type": "code",
      "metadata": {
        "id": "pFKW4-Dk-SL5",
        "colab": {
          "base_uri": "https://localhost:8080/",
          "height": 155
        },
        "outputId": "eef215ae-baab-4aeb-ed33-526ffd332db0"
      },
      "source": [
        "# Print `url` of the first row\n",
        "# Note the newlines at the end\n",
        "\n",
        "ted_main['url'].values"
      ],
      "execution_count": null,
      "outputs": [
        {
          "output_type": "execute_result",
          "data": {
            "text/plain": [
              "array(['https://www.ted.com/talks/ken_robinson_says_schools_kill_creativity\\n',\n",
              "       'https://www.ted.com/talks/al_gore_on_averting_climate_crisis\\n',\n",
              "       'https://www.ted.com/talks/david_pogue_says_simplicity_sells\\n',\n",
              "       ...,\n",
              "       'https://www.ted.com/talks/radhika_nagpal_what_intelligent_machines_can_learn_from_a_school_of_fish\\n',\n",
              "       'https://www.ted.com/talks/theo_e_j_wilson_a_black_man_goes_undercover_in_the_alt_right\\n',\n",
              "       'https://www.ted.com/talks/karoliina_korppoo_how_a_video_game_might_help_us_build_better_cities\\n'],\n",
              "      dtype=object)"
            ]
          },
          "metadata": {
            "tags": []
          },
          "execution_count": 62
        }
      ]
    },
    {
      "cell_type": "code",
      "metadata": {
        "id": "lj86LL1V-UN5"
      },
      "source": [
        "# Update the `url` column values after removing \n",
        "# the newline characters for each row\n",
        "\n",
        "ted_main['url'] = ted_main['url'].apply(lambda x: x.replace('\\n', ''))"
      ],
      "execution_count": null,
      "outputs": []
    },
    {
      "cell_type": "code",
      "metadata": {
        "id": "YYwB-X73-5C8",
        "colab": {
          "base_uri": "https://localhost:8080/",
          "height": 35
        },
        "outputId": "7ce052c1-bfe3-4705-84aa-2f389c026c7b"
      },
      "source": [
        "# No pesky newlines anymore \n",
        "\n",
        "ted_main['url'].iloc[0]"
      ],
      "execution_count": null,
      "outputs": [
        {
          "output_type": "execute_result",
          "data": {
            "application/vnd.google.colaboratory.intrinsic+json": {
              "type": "string"
            },
            "text/plain": [
              "'https://www.ted.com/talks/ken_robinson_says_schools_kill_creativity'"
            ]
          },
          "metadata": {
            "tags": []
          },
          "execution_count": 64
        }
      ]
    },
    {
      "cell_type": "code",
      "metadata": {
        "id": "6uWDGK4L6x2l"
      },
      "source": [
        "# For each row, `apply` the anonymous function\n",
        "# removing <main_speaker>: from the column `name`\n",
        "\n",
        "def removeSpeakerName(row):\n",
        "  return row['name'].replace(\"%s:\" % row['main_speaker'], '').strip()\n",
        "\n",
        "ted_main['name'] = ted_main.apply(removeSpeakerName, axis=1)"
      ],
      "execution_count": null,
      "outputs": []
    },
    {
      "cell_type": "code",
      "metadata": {
        "id": "-YCQ9gf66zN9",
        "colab": {
          "base_uri": "https://localhost:8080/",
          "height": 301
        },
        "outputId": "cf971d6a-263f-4266-aef7-95c87b380e3d"
      },
      "source": [
        "ted_main.head(2)"
      ],
      "execution_count": null,
      "outputs": [
        {
          "output_type": "execute_result",
          "data": {
            "text/html": [
              "<div>\n",
              "<style scoped>\n",
              "    .dataframe tbody tr th:only-of-type {\n",
              "        vertical-align: middle;\n",
              "    }\n",
              "\n",
              "    .dataframe tbody tr th {\n",
              "        vertical-align: top;\n",
              "    }\n",
              "\n",
              "    .dataframe thead th {\n",
              "        text-align: right;\n",
              "    }\n",
              "</style>\n",
              "<table border=\"1\" class=\"dataframe\">\n",
              "  <thead>\n",
              "    <tr style=\"text-align: right;\">\n",
              "      <th></th>\n",
              "      <th>comments</th>\n",
              "      <th>description</th>\n",
              "      <th>duration</th>\n",
              "      <th>event</th>\n",
              "      <th>film_date</th>\n",
              "      <th>languages</th>\n",
              "      <th>main_speaker</th>\n",
              "      <th>name</th>\n",
              "      <th>num_speaker</th>\n",
              "      <th>published_date</th>\n",
              "      <th>ratings</th>\n",
              "      <th>related_talks</th>\n",
              "      <th>speaker_occupation</th>\n",
              "      <th>tags</th>\n",
              "      <th>title</th>\n",
              "      <th>url</th>\n",
              "      <th>views</th>\n",
              "    </tr>\n",
              "  </thead>\n",
              "  <tbody>\n",
              "    <tr>\n",
              "      <th>0</th>\n",
              "      <td>4553</td>\n",
              "      <td>Sir Ken Robinson makes an entertaining and pro...</td>\n",
              "      <td>1164</td>\n",
              "      <td>TED2006</td>\n",
              "      <td>2006-02-25</td>\n",
              "      <td>60</td>\n",
              "      <td>Ken Robinson</td>\n",
              "      <td>Do schools kill creativity?</td>\n",
              "      <td>1</td>\n",
              "      <td>2006-06-27 00:11:00</td>\n",
              "      <td>[{'id': 7, 'name': 'Funny', 'count': 19645}, {...</td>\n",
              "      <td>[{'id': 865, 'hero': 'https://pe.tedcdn.com/im...</td>\n",
              "      <td>Author/educator</td>\n",
              "      <td>[children, creativity, culture, dance, educati...</td>\n",
              "      <td>Do schools kill creativity?</td>\n",
              "      <td>https://www.ted.com/talks/ken_robinson_says_sc...</td>\n",
              "      <td>47227110</td>\n",
              "    </tr>\n",
              "    <tr>\n",
              "      <th>1</th>\n",
              "      <td>265</td>\n",
              "      <td>With the same humor and humanity he exuded in ...</td>\n",
              "      <td>977</td>\n",
              "      <td>TED2006</td>\n",
              "      <td>2006-02-25</td>\n",
              "      <td>43</td>\n",
              "      <td>Al Gore</td>\n",
              "      <td>Averting the climate crisis</td>\n",
              "      <td>1</td>\n",
              "      <td>2006-06-27 00:11:00</td>\n",
              "      <td>[{'id': 7, 'name': 'Funny', 'count': 544}, {'i...</td>\n",
              "      <td>[{'id': 243, 'hero': 'https://pe.tedcdn.com/im...</td>\n",
              "      <td>Climate advocate</td>\n",
              "      <td>[alternative energy, cars, climate change, cul...</td>\n",
              "      <td>Averting the climate crisis</td>\n",
              "      <td>https://www.ted.com/talks/al_gore_on_averting_...</td>\n",
              "      <td>3200520</td>\n",
              "    </tr>\n",
              "  </tbody>\n",
              "</table>\n",
              "</div>"
            ],
            "text/plain": [
              "   comments  ...     views\n",
              "0      4553  ...  47227110\n",
              "1       265  ...   3200520\n",
              "\n",
              "[2 rows x 17 columns]"
            ]
          },
          "metadata": {
            "tags": []
          },
          "execution_count": 66
        }
      ]
    },
    {
      "cell_type": "code",
      "metadata": {
        "id": "Iy-58dgv-H9K",
        "colab": {
          "base_uri": "https://localhost:8080/",
          "height": 198
        },
        "outputId": "b333b7eb-5886-4440-c1ae-5a7291e4b6a9"
      },
      "source": [
        "# Note `(Laughter)` and `(Music..)` in the \n",
        "# first and third rows, these are\n",
        "# clearly not part of the transcript\n",
        "\n",
        "transcripts.head()"
      ],
      "execution_count": null,
      "outputs": [
        {
          "output_type": "execute_result",
          "data": {
            "text/html": [
              "<div>\n",
              "<style scoped>\n",
              "    .dataframe tbody tr th:only-of-type {\n",
              "        vertical-align: middle;\n",
              "    }\n",
              "\n",
              "    .dataframe tbody tr th {\n",
              "        vertical-align: top;\n",
              "    }\n",
              "\n",
              "    .dataframe thead th {\n",
              "        text-align: right;\n",
              "    }\n",
              "</style>\n",
              "<table border=\"1\" class=\"dataframe\">\n",
              "  <thead>\n",
              "    <tr style=\"text-align: right;\">\n",
              "      <th></th>\n",
              "      <th>transcript</th>\n",
              "      <th>url</th>\n",
              "    </tr>\n",
              "  </thead>\n",
              "  <tbody>\n",
              "    <tr>\n",
              "      <th>0</th>\n",
              "      <td>Good morning. How are you?(Laughter)It's been ...</td>\n",
              "      <td>https://www.ted.com/talks/ken_robinson_says_sc...</td>\n",
              "    </tr>\n",
              "    <tr>\n",
              "      <th>1</th>\n",
              "      <td>Thank you so much, Chris. And it's truly a gre...</td>\n",
              "      <td>https://www.ted.com/talks/al_gore_on_averting_...</td>\n",
              "    </tr>\n",
              "    <tr>\n",
              "      <th>2</th>\n",
              "      <td>(Music: \"The Sound of Silence,\" Simon &amp; Garfun...</td>\n",
              "      <td>https://www.ted.com/talks/david_pogue_says_sim...</td>\n",
              "    </tr>\n",
              "    <tr>\n",
              "      <th>3</th>\n",
              "      <td>If you're here today — and I'm very happy that...</td>\n",
              "      <td>https://www.ted.com/talks/majora_carter_s_tale...</td>\n",
              "    </tr>\n",
              "    <tr>\n",
              "      <th>4</th>\n",
              "      <td>About 10 years ago, I took on the task to teac...</td>\n",
              "      <td>https://www.ted.com/talks/hans_rosling_shows_t...</td>\n",
              "    </tr>\n",
              "  </tbody>\n",
              "</table>\n",
              "</div>"
            ],
            "text/plain": [
              "                                          transcript                                                url\n",
              "0  Good morning. How are you?(Laughter)It's been ...  https://www.ted.com/talks/ken_robinson_says_sc...\n",
              "1  Thank you so much, Chris. And it's truly a gre...  https://www.ted.com/talks/al_gore_on_averting_...\n",
              "2  (Music: \"The Sound of Silence,\" Simon & Garfun...  https://www.ted.com/talks/david_pogue_says_sim...\n",
              "3  If you're here today — and I'm very happy that...  https://www.ted.com/talks/majora_carter_s_tale...\n",
              "4  About 10 years ago, I took on the task to teac...  https://www.ted.com/talks/hans_rosling_shows_t..."
            ]
          },
          "metadata": {
            "tags": []
          },
          "execution_count": 67
        }
      ]
    },
    {
      "cell_type": "code",
      "metadata": {
        "id": "kLNHp9t4_pid"
      },
      "source": [
        "# This looks like a job for... \n",
        "# REGULAR EXPRESSIONS!\n",
        "\n",
        "import re"
      ],
      "execution_count": null,
      "outputs": []
    },
    {
      "cell_type": "code",
      "metadata": {
        "id": "xph_sfVp_NjR"
      },
      "source": [
        "transcripts['transcript'] = \\\n",
        "  transcripts['transcript'].apply(lambda x: re.sub(r'\\((.*?)\\)', ' ', x))"
      ],
      "execution_count": null,
      "outputs": []
    },
    {
      "cell_type": "code",
      "metadata": {
        "id": "Ua0qNnC8BY7n",
        "colab": {
          "base_uri": "https://localhost:8080/",
          "height": 198
        },
        "outputId": "8e3a5d99-b488-4643-8219-9303d5d00fe9"
      },
      "source": [
        "transcripts.head() # Like a boss "
      ],
      "execution_count": null,
      "outputs": [
        {
          "output_type": "execute_result",
          "data": {
            "text/html": [
              "<div>\n",
              "<style scoped>\n",
              "    .dataframe tbody tr th:only-of-type {\n",
              "        vertical-align: middle;\n",
              "    }\n",
              "\n",
              "    .dataframe tbody tr th {\n",
              "        vertical-align: top;\n",
              "    }\n",
              "\n",
              "    .dataframe thead th {\n",
              "        text-align: right;\n",
              "    }\n",
              "</style>\n",
              "<table border=\"1\" class=\"dataframe\">\n",
              "  <thead>\n",
              "    <tr style=\"text-align: right;\">\n",
              "      <th></th>\n",
              "      <th>transcript</th>\n",
              "      <th>url</th>\n",
              "    </tr>\n",
              "  </thead>\n",
              "  <tbody>\n",
              "    <tr>\n",
              "      <th>0</th>\n",
              "      <td>Good morning. How are you? It's been great, ha...</td>\n",
              "      <td>https://www.ted.com/talks/ken_robinson_says_sc...</td>\n",
              "    </tr>\n",
              "    <tr>\n",
              "      <th>1</th>\n",
              "      <td>Thank you so much, Chris. And it's truly a gre...</td>\n",
              "      <td>https://www.ted.com/talks/al_gore_on_averting_...</td>\n",
              "    </tr>\n",
              "    <tr>\n",
              "      <th>2</th>\n",
              "      <td>Hello voice mail, my old friend. I've called ...</td>\n",
              "      <td>https://www.ted.com/talks/david_pogue_says_sim...</td>\n",
              "    </tr>\n",
              "    <tr>\n",
              "      <th>3</th>\n",
              "      <td>If you're here today — and I'm very happy that...</td>\n",
              "      <td>https://www.ted.com/talks/majora_carter_s_tale...</td>\n",
              "    </tr>\n",
              "    <tr>\n",
              "      <th>4</th>\n",
              "      <td>About 10 years ago, I took on the task to teac...</td>\n",
              "      <td>https://www.ted.com/talks/hans_rosling_shows_t...</td>\n",
              "    </tr>\n",
              "  </tbody>\n",
              "</table>\n",
              "</div>"
            ],
            "text/plain": [
              "                                          transcript                                                url\n",
              "0  Good morning. How are you? It's been great, ha...  https://www.ted.com/talks/ken_robinson_says_sc...\n",
              "1  Thank you so much, Chris. And it's truly a gre...  https://www.ted.com/talks/al_gore_on_averting_...\n",
              "2   Hello voice mail, my old friend. I've called ...  https://www.ted.com/talks/david_pogue_says_sim...\n",
              "3  If you're here today — and I'm very happy that...  https://www.ted.com/talks/majora_carter_s_tale...\n",
              "4  About 10 years ago, I took on the task to teac...  https://www.ted.com/talks/hans_rosling_shows_t..."
            ]
          },
          "metadata": {
            "tags": []
          },
          "execution_count": 70
        }
      ]
    },
    {
      "cell_type": "markdown",
      "metadata": {
        "id": "tURbkZPiAuXA"
      },
      "source": [
        "# Let's visualize some distributions"
      ]
    },
    {
      "cell_type": "code",
      "metadata": {
        "id": "6x-hHqcLVZiE",
        "colab": {
          "base_uri": "https://localhost:8080/",
          "height": 294
        },
        "outputId": "dd4dfae8-5c9c-43bc-c772-df2f8451e944"
      },
      "source": [
        "hists = ted_main.hist()"
      ],
      "execution_count": null,
      "outputs": [
        {
          "output_type": "display_data",
          "data": {
            "image/png": "[encoded data removed]",
            "text/plain": [
              "<Figure size 432x288 with 6 Axes>"
            ]
          },
          "metadata": {
            "tags": [],
            "needs_background": "light"
          }
        }
      ]
    },
    {
      "cell_type": "markdown",
      "metadata": {
        "id": "xWNue7n_VhHO"
      },
      "source": [
        "### Matplotlib helps keep things cleaner!"
      ]
    },
    {
      "cell_type": "code",
      "metadata": {
        "id": "fp1xefKgVS_E"
      },
      "source": [
        "import matplotlib.pyplot as plt"
      ],
      "execution_count": null,
      "outputs": []
    },
    {
      "cell_type": "code",
      "metadata": {
        "id": "dqaPPfu_Cz77",
        "colab": {
          "base_uri": "https://localhost:8080/",
          "height": 315
        },
        "outputId": "ffb612d7-0293-4787-d728-713ecc5a3ebb"
      },
      "source": [
        "hists = ted_main.hist()\n",
        "plt.tight_layout()\n",
        "plt.show()\n",
        "plt.savefig('plot.png')"
      ],
      "execution_count": null,
      "outputs": [
        {
          "output_type": "display_data",
          "data": {
            "image/png": "[encoded data removed]",
            "text/plain": [
              "<Figure size 432x288 with 6 Axes>"
            ]
          },
          "metadata": {
            "tags": [],
            "needs_background": "light"
          }
        },
        {
          "output_type": "display_data",
          "data": {
            "text/plain": [
              "<Figure size 432x288 with 0 Axes>"
            ]
          },
          "metadata": {
            "tags": []
          }
        }
      ]
    },
    {
      "cell_type": "code",
      "metadata": {
        "id": "-ET0LkrFVojE",
        "colab": {
          "base_uri": "https://localhost:8080/",
          "height": 279
        },
        "outputId": "41db0af3-d213-432a-d8df-c356e0f0f37e"
      },
      "source": [
        "nums = [1,2,3,4]\n",
        "plt.plot(nums, [x * x for x in nums], '-o');\n",
        "plt.plot(nums, [x ** 3 for x in nums], '-o');\n",
        "plt.legend(['Square', 'Cube']);\n",
        "plt.xlabel('x');\n",
        "plt.ylabel('power(x)');"
      ],
      "execution_count": null,
      "outputs": [
        {
          "output_type": "display_data",
          "data": {
            "image/png": "[encoded data removed]",
            "text/plain": [
              "<Figure size 432x288 with 1 Axes>"
            ]
          },
          "metadata": {
            "tags": [],
            "needs_background": "light"
          }
        }
      ]
    },
    {
      "cell_type": "code",
      "metadata": {
        "id": "zIRw7_O1WdFk",
        "colab": {
          "base_uri": "https://localhost:8080/",
          "height": 295
        },
        "outputId": "69ae752b-9af3-42bd-f873-3ebc42cbce6d"
      },
      "source": [
        "nums = [1,2,3,4]\n",
        "plt.figure(figsize=(4,4))\n",
        "plt.plot(nums, [x * x for x in nums], '-s', color='Green');\n",
        "plt.plot(nums, [x * x * x for x in nums], '-.', color='Red');\n",
        "plt.legend(['Square', 'Cube'])\n",
        "plt.xlabel('x');\n",
        "plt.ylabel('power(x)');\n",
        "\n",
        "plt.xticks(nums)\n",
        "plt.title('A super boring graph')\n",
        "plt.grid(axis='y')\n",
        "# plt.show()"
      ],
      "execution_count": null,
      "outputs": [
        {
          "output_type": "display_data",
          "data": {
            "image/png": "[encoded data removed]",
            "text/plain": [
              "<Figure size 288x288 with 1 Axes>"
            ]
          },
          "metadata": {
            "tags": [],
            "needs_background": "light"
          }
        }
      ]
    },
    {
      "cell_type": "code",
      "metadata": {
        "id": "nI9rdPSGFf5D",
        "colab": {
          "base_uri": "https://localhost:8080/",
          "height": 564
        },
        "outputId": "95ff6b9b-96b3-4fcd-faa2-e4cba380ab6c"
      },
      "source": [
        "ted_main.head(5)"
      ],
      "execution_count": null,
      "outputs": [
        {
          "output_type": "execute_result",
          "data": {
            "text/html": [
              "<div>\n",
              "<style scoped>\n",
              "    .dataframe tbody tr th:only-of-type {\n",
              "        vertical-align: middle;\n",
              "    }\n",
              "\n",
              "    .dataframe tbody tr th {\n",
              "        vertical-align: top;\n",
              "    }\n",
              "\n",
              "    .dataframe thead th {\n",
              "        text-align: right;\n",
              "    }\n",
              "</style>\n",
              "<table border=\"1\" class=\"dataframe\">\n",
              "  <thead>\n",
              "    <tr style=\"text-align: right;\">\n",
              "      <th></th>\n",
              "      <th>comments</th>\n",
              "      <th>description</th>\n",
              "      <th>duration</th>\n",
              "      <th>event</th>\n",
              "      <th>film_date</th>\n",
              "      <th>languages</th>\n",
              "      <th>main_speaker</th>\n",
              "      <th>name</th>\n",
              "      <th>num_speaker</th>\n",
              "      <th>published_date</th>\n",
              "      <th>ratings</th>\n",
              "      <th>related_talks</th>\n",
              "      <th>speaker_occupation</th>\n",
              "      <th>tags</th>\n",
              "      <th>title</th>\n",
              "      <th>url</th>\n",
              "      <th>views</th>\n",
              "    </tr>\n",
              "  </thead>\n",
              "  <tbody>\n",
              "    <tr>\n",
              "      <th>0</th>\n",
              "      <td>4553</td>\n",
              "      <td>Sir Ken Robinson makes an entertaining and pro...</td>\n",
              "      <td>1164</td>\n",
              "      <td>TED2006</td>\n",
              "      <td>2006-02-25</td>\n",
              "      <td>60</td>\n",
              "      <td>Ken Robinson</td>\n",
              "      <td>Do schools kill creativity?</td>\n",
              "      <td>1</td>\n",
              "      <td>2006-06-27 00:11:00</td>\n",
              "      <td>[{'id': 7, 'name': 'Funny', 'count': 19645}, {...</td>\n",
              "      <td>[{'id': 865, 'hero': 'https://pe.tedcdn.com/im...</td>\n",
              "      <td>Author/educator</td>\n",
              "      <td>[children, creativity, culture, dance, educati...</td>\n",
              "      <td>Do schools kill creativity?</td>\n",
              "      <td>https://www.ted.com/talks/ken_robinson_says_sc...</td>\n",
              "      <td>47227110</td>\n",
              "    </tr>\n",
              "    <tr>\n",
              "      <th>1</th>\n",
              "      <td>265</td>\n",
              "      <td>With the same humor and humanity he exuded in ...</td>\n",
              "      <td>977</td>\n",
              "      <td>TED2006</td>\n",
              "      <td>2006-02-25</td>\n",
              "      <td>43</td>\n",
              "      <td>Al Gore</td>\n",
              "      <td>Averting the climate crisis</td>\n",
              "      <td>1</td>\n",
              "      <td>2006-06-27 00:11:00</td>\n",
              "      <td>[{'id': 7, 'name': 'Funny', 'count': 544}, {'i...</td>\n",
              "      <td>[{'id': 243, 'hero': 'https://pe.tedcdn.com/im...</td>\n",
              "      <td>Climate advocate</td>\n",
              "      <td>[alternative energy, cars, climate change, cul...</td>\n",
              "      <td>Averting the climate crisis</td>\n",
              "      <td>https://www.ted.com/talks/al_gore_on_averting_...</td>\n",
              "      <td>3200520</td>\n",
              "    </tr>\n",
              "    <tr>\n",
              "      <th>2</th>\n",
              "      <td>124</td>\n",
              "      <td>New York Times columnist David Pogue takes aim...</td>\n",
              "      <td>1286</td>\n",
              "      <td>TED2006</td>\n",
              "      <td>2006-02-24</td>\n",
              "      <td>26</td>\n",
              "      <td>David Pogue</td>\n",
              "      <td>Simplicity sells</td>\n",
              "      <td>1</td>\n",
              "      <td>2006-06-27 00:11:00</td>\n",
              "      <td>[{'id': 7, 'name': 'Funny', 'count': 964}, {'i...</td>\n",
              "      <td>[{'id': 1725, 'hero': 'https://pe.tedcdn.com/i...</td>\n",
              "      <td>Technology columnist</td>\n",
              "      <td>[computers, entertainment, interface design, m...</td>\n",
              "      <td>Simplicity sells</td>\n",
              "      <td>https://www.ted.com/talks/david_pogue_says_sim...</td>\n",
              "      <td>1636292</td>\n",
              "    </tr>\n",
              "    <tr>\n",
              "      <th>3</th>\n",
              "      <td>200</td>\n",
              "      <td>In an emotionally charged talk, MacArthur-winn...</td>\n",
              "      <td>1116</td>\n",
              "      <td>TED2006</td>\n",
              "      <td>2006-02-26</td>\n",
              "      <td>35</td>\n",
              "      <td>Majora Carter</td>\n",
              "      <td>Greening the ghetto</td>\n",
              "      <td>1</td>\n",
              "      <td>2006-06-27 00:11:00</td>\n",
              "      <td>[{'id': 3, 'name': 'Courageous', 'count': 760}...</td>\n",
              "      <td>[{'id': 1041, 'hero': 'https://pe.tedcdn.com/i...</td>\n",
              "      <td>Activist for environmental justice</td>\n",
              "      <td>[MacArthur grant, activism, business, cities, ...</td>\n",
              "      <td>Greening the ghetto</td>\n",
              "      <td>https://www.ted.com/talks/majora_carter_s_tale...</td>\n",
              "      <td>1697550</td>\n",
              "    </tr>\n",
              "    <tr>\n",
              "      <th>4</th>\n",
              "      <td>593</td>\n",
              "      <td>You've never seen data presented like this. Wi...</td>\n",
              "      <td>1190</td>\n",
              "      <td>TED2006</td>\n",
              "      <td>2006-02-22</td>\n",
              "      <td>48</td>\n",
              "      <td>Hans Rosling</td>\n",
              "      <td>The best stats you've ever seen</td>\n",
              "      <td>1</td>\n",
              "      <td>2006-06-27 20:38:00</td>\n",
              "      <td>[{'id': 9, 'name': 'Ingenious', 'count': 3202}...</td>\n",
              "      <td>[{'id': 2056, 'hero': 'https://pe.tedcdn.com/i...</td>\n",
              "      <td>Global health expert; data visionary</td>\n",
              "      <td>[Africa, Asia, Google, demo, economics, global...</td>\n",
              "      <td>The best stats you've ever seen</td>\n",
              "      <td>https://www.ted.com/talks/hans_rosling_shows_t...</td>\n",
              "      <td>12005869</td>\n",
              "    </tr>\n",
              "  </tbody>\n",
              "</table>\n",
              "</div>"
            ],
            "text/plain": [
              "   comments  ...     views\n",
              "0      4553  ...  47227110\n",
              "1       265  ...   3200520\n",
              "2       124  ...   1636292\n",
              "3       200  ...   1697550\n",
              "4       593  ...  12005869\n",
              "\n",
              "[5 rows x 17 columns]"
            ]
          },
          "metadata": {
            "tags": []
          },
          "execution_count": 101
        }
      ]
    },
    {
      "cell_type": "code",
      "metadata": {
        "id": "UgB_1a_dj19l",
        "colab": {
          "base_uri": "https://localhost:8080/",
          "height": 198
        },
        "outputId": "00a7337d-2cd7-4f98-a236-303a2cfdaedf"
      },
      "source": [
        "ted_main.corr()"
      ],
      "execution_count": null,
      "outputs": [
        {
          "output_type": "execute_result",
          "data": {
            "text/html": [
              "<div>\n",
              "<style scoped>\n",
              "    .dataframe tbody tr th:only-of-type {\n",
              "        vertical-align: middle;\n",
              "    }\n",
              "\n",
              "    .dataframe tbody tr th {\n",
              "        vertical-align: top;\n",
              "    }\n",
              "\n",
              "    .dataframe thead th {\n",
              "        text-align: right;\n",
              "    }\n",
              "</style>\n",
              "<table border=\"1\" class=\"dataframe\">\n",
              "  <thead>\n",
              "    <tr style=\"text-align: right;\">\n",
              "      <th></th>\n",
              "      <th>comments</th>\n",
              "      <th>duration</th>\n",
              "      <th>languages</th>\n",
              "      <th>num_speaker</th>\n",
              "      <th>views</th>\n",
              "    </tr>\n",
              "  </thead>\n",
              "  <tbody>\n",
              "    <tr>\n",
              "      <th>comments</th>\n",
              "      <td>1.000000</td>\n",
              "      <td>0.140507</td>\n",
              "      <td>0.318831</td>\n",
              "      <td>-0.035564</td>\n",
              "      <td>0.530897</td>\n",
              "    </tr>\n",
              "    <tr>\n",
              "      <th>duration</th>\n",
              "      <td>0.140507</td>\n",
              "      <td>1.000000</td>\n",
              "      <td>-0.294214</td>\n",
              "      <td>0.022001</td>\n",
              "      <td>0.048489</td>\n",
              "    </tr>\n",
              "    <tr>\n",
              "      <th>languages</th>\n",
              "      <td>0.318831</td>\n",
              "      <td>-0.294214</td>\n",
              "      <td>1.000000</td>\n",
              "      <td>-0.063085</td>\n",
              "      <td>0.378027</td>\n",
              "    </tr>\n",
              "    <tr>\n",
              "      <th>num_speaker</th>\n",
              "      <td>-0.035564</td>\n",
              "      <td>0.022001</td>\n",
              "      <td>-0.063085</td>\n",
              "      <td>1.000000</td>\n",
              "      <td>-0.026474</td>\n",
              "    </tr>\n",
              "    <tr>\n",
              "      <th>views</th>\n",
              "      <td>0.530897</td>\n",
              "      <td>0.048489</td>\n",
              "      <td>0.378027</td>\n",
              "      <td>-0.026474</td>\n",
              "      <td>1.000000</td>\n",
              "    </tr>\n",
              "  </tbody>\n",
              "</table>\n",
              "</div>"
            ],
            "text/plain": [
              "             comments  duration  languages  num_speaker     views\n",
              "comments     1.000000  0.140507   0.318831    -0.035564  0.530897\n",
              "duration     0.140507  1.000000  -0.294214     0.022001  0.048489\n",
              "languages    0.318831 -0.294214   1.000000    -0.063085  0.378027\n",
              "num_speaker -0.035564  0.022001  -0.063085     1.000000 -0.026474\n",
              "views        0.530897  0.048489   0.378027    -0.026474  1.000000"
            ]
          },
          "metadata": {
            "tags": []
          },
          "execution_count": 76
        }
      ]
    },
    {
      "cell_type": "code",
      "metadata": {
        "id": "fTblQchpjzFk"
      },
      "source": [
        "import seaborn as sns"
      ],
      "execution_count": null,
      "outputs": []
    },
    {
      "cell_type": "code",
      "metadata": {
        "id": "ubpO2nJnj-CD",
        "colab": {
          "base_uri": "https://localhost:8080/",
          "height": 326
        },
        "outputId": "5054c018-7e94-415d-c323-678d0e424bc5"
      },
      "source": [
        "sns.heatmap(ted_main.corr());"
      ],
      "execution_count": null,
      "outputs": [
        {
          "output_type": "display_data",
          "data": {
            "image/png": "[encoded data removed]",
            "text/plain": [
              "<Figure size 432x288 with 2 Axes>"
            ]
          },
          "metadata": {
            "tags": [],
            "needs_background": "light"
          }
        }
      ]
    },
    {
      "cell_type": "code",
      "metadata": {
        "id": "PMdMJNsnkCzU",
        "colab": {
          "base_uri": "https://localhost:8080/",
          "height": 326
        },
        "outputId": "36173ce1-508b-456a-f096-24c253846561"
      },
      "source": [
        "sns.heatmap(ted_main.corr(), vmin=-1, vmax=1, cmap='seismic', linewidths=0.2, annot=True);"
      ],
      "execution_count": null,
      "outputs": [
        {
          "output_type": "display_data",
          "data": {
            "image/png": "[encoded data removed]",
            "text/plain": [
              "<Figure size 432x288 with 2 Axes>"
            ]
          },
          "metadata": {
            "tags": [],
            "needs_background": "light"
          }
        }
      ]
    },
    {
      "cell_type": "markdown",
      "metadata": {
        "id": "0-VKk9QcBW9N"
      },
      "source": [
        "## Visualizing distributions"
      ]
    },
    {
      "cell_type": "code",
      "metadata": {
        "id": "fr46ApODAo0X",
        "colab": {
          "base_uri": "https://localhost:8080/",
          "height": 265
        },
        "outputId": "2fa2f73c-6d72-446d-cbcd-c2c378d7be44"
      },
      "source": [
        "ted_main['comments'].hist(bins=100);"
      ],
      "execution_count": null,
      "outputs": [
        {
          "output_type": "display_data",
          "data": {
            "image/png": "[encoded data removed]",
            "text/plain": [
              "<Figure size 432x288 with 1 Axes>"
            ]
          },
          "metadata": {
            "tags": [],
            "needs_background": "light"
          }
        }
      ]
    },
    {
      "cell_type": "code",
      "metadata": {
        "id": "Xarxj4RSXtw2"
      },
      "source": [
        "import numpy as np"
      ],
      "execution_count": null,
      "outputs": []
    },
    {
      "cell_type": "code",
      "metadata": {
        "id": "Bt9slz5TA9DX",
        "colab": {
          "base_uri": "https://localhost:8080/",
          "height": 265
        },
        "outputId": "5696bac0-34b9-4546-ebd4-9b38a4787fd9"
      },
      "source": [
        "np.log(ted_main['comments']).hist(bins=100);"
      ],
      "execution_count": null,
      "outputs": [
        {
          "output_type": "display_data",
          "data": {
            "image/png": "[encoded data removed]",
            "text/plain": [
              "<Figure size 432x288 with 1 Axes>"
            ]
          },
          "metadata": {
            "tags": [],
            "needs_background": "light"
          }
        }
      ]
    },
    {
      "cell_type": "code",
      "metadata": {
        "id": "9GTsvRtgGmCl",
        "colab": {
          "base_uri": "https://localhost:8080/",
          "height": 282
        },
        "outputId": "cbc1f20d-e518-498b-8068-f170f082e539"
      },
      "source": [
        "ted_main['comments'].hist(log=True, bins=100)"
      ],
      "execution_count": null,
      "outputs": [
        {
          "output_type": "execute_result",
          "data": {
            "text/plain": [
              "<matplotlib.axes._subplots.AxesSubplot at 0x7f3961229358>"
            ]
          },
          "metadata": {
            "tags": []
          },
          "execution_count": 108
        },
        {
          "output_type": "display_data",
          "data": {
            "image/png": "[encoded data removed]",
            "text/plain": [
              "<Figure size 432x288 with 1 Axes>"
            ]
          },
          "metadata": {
            "tags": [],
            "needs_background": "light"
          }
        }
      ]
    },
    {
      "cell_type": "markdown",
      "metadata": {
        "id": "ctYd4EMnBY8M"
      },
      "source": [
        "## Duration"
      ]
    },
    {
      "cell_type": "code",
      "metadata": {
        "id": "vo_ChGuyBDqU",
        "colab": {
          "base_uri": "https://localhost:8080/",
          "height": 265
        },
        "outputId": "02351f7b-82e9-478a-ed9b-983ca9b80645"
      },
      "source": [
        "ted_main['duration'].hist(bins=50);"
      ],
      "execution_count": null,
      "outputs": [
        {
          "output_type": "display_data",
          "data": {
            "image/png": "[encoded data removed]",
            "text/plain": [
              "<Figure size 432x288 with 1 Axes>"
            ]
          },
          "metadata": {
            "tags": [],
            "needs_background": "light"
          }
        }
      ]
    },
    {
      "cell_type": "code",
      "metadata": {
        "id": "7MzW-_xJBdpT",
        "colab": {
          "base_uri": "https://localhost:8080/",
          "height": 265
        },
        "outputId": "1d930508-7976-4df2-bb4d-fe70e8060a1b"
      },
      "source": [
        "np.log(ted_main['duration']).hist(bins=50);"
      ],
      "execution_count": null,
      "outputs": [
        {
          "output_type": "display_data",
          "data": {
            "image/png": "[encoded data removed]",
            "text/plain": [
              "<Figure size 432x288 with 1 Axes>"
            ]
          },
          "metadata": {
            "tags": [],
            "needs_background": "light"
          }
        }
      ]
    },
    {
      "cell_type": "markdown",
      "metadata": {
        "id": "MYaqjS5oBvIK"
      },
      "source": [
        "## Views"
      ]
    },
    {
      "cell_type": "code",
      "metadata": {
        "id": "ZPZVm9P2BfqX",
        "colab": {
          "base_uri": "https://localhost:8080/",
          "height": 278
        },
        "outputId": "5397f24f-8290-4869-a1ab-d76a73f2cd7d"
      },
      "source": [
        "ted_main['views'].hist(bins=50);"
      ],
      "execution_count": null,
      "outputs": [
        {
          "output_type": "display_data",
          "data": {
            "image/png": "[encoded data removed]",
            "text/plain": [
              "<Figure size 432x288 with 1 Axes>"
            ]
          },
          "metadata": {
            "tags": [],
            "needs_background": "light"
          }
        }
      ]
    },
    {
      "cell_type": "code",
      "metadata": {
        "id": "TmdCHVs7ByXV",
        "colab": {
          "base_uri": "https://localhost:8080/",
          "height": 265
        },
        "outputId": "99fe3db5-6be2-453f-cdad-5d452ab79247"
      },
      "source": [
        "np.log(ted_main['views']).hist(bins=50);"
      ],
      "execution_count": null,
      "outputs": [
        {
          "output_type": "display_data",
          "data": {
            "image/png": "[encoded data removed]",
            "text/plain": [
              "<Figure size 432x288 with 1 Axes>"
            ]
          },
          "metadata": {
            "tags": [],
            "needs_background": "light"
          }
        }
      ]
    },
    {
      "cell_type": "markdown",
      "metadata": {
        "id": "wRUPZdN2KXiM"
      },
      "source": [
        "# Predict label from Speaker's Profession"
      ]
    },
    {
      "cell_type": "code",
      "metadata": {
        "id": "DVGbPKu2G3Qp",
        "colab": {
          "base_uri": "https://localhost:8080/",
          "height": 225
        },
        "outputId": "cc000bbf-08ff-413e-980a-bd58b7a57b97"
      },
      "source": [
        "ted_main['speaker_occupation'].value_counts()"
      ],
      "execution_count": null,
      "outputs": [
        {
          "output_type": "execute_result",
          "data": {
            "text/plain": [
              "Writer                               45\n",
              "Designer                             34\n",
              "Artist                               34\n",
              "Journalist                           33\n",
              "Entrepreneur                         31\n",
              "                                     ..\n",
              "Poet and language advocate            1\n",
              "New York City Health Commissioner     1\n",
              "Education surveyor                    1\n",
              "Journalist and psychologist           1\n",
              "Design critic                         1\n",
              "Name: speaker_occupation, Length: 1458, dtype: int64"
            ]
          },
          "metadata": {
            "tags": []
          },
          "execution_count": 109
        }
      ]
    },
    {
      "cell_type": "code",
      "metadata": {
        "id": "N_uZVrvUMYKf"
      },
      "source": [
        "professions = ted_main['speaker_occupation']\n",
        "most_common_professions = list(professions.value_counts()[:50].index)\n",
        "test = ted_main['speaker_occupation'].apply(\\\n",
        "  lambda x: x if x in most_common_professions else 'Other')"
      ],
      "execution_count": null,
      "outputs": []
    },
    {
      "cell_type": "code",
      "metadata": {
        "id": "1hg9OaOMHBm0",
        "colab": {
          "base_uri": "https://localhost:8080/",
          "height": 915
        },
        "outputId": "0f5ad9c8-a0b6-4a75-d6a1-e0dfb1f99b3b"
      },
      "source": [
        "test.value_counts()"
      ],
      "execution_count": null,
      "outputs": [
        {
          "output_type": "execute_result",
          "data": {
            "text/plain": [
              "Other                                   1848\n",
              "Writer                                    45\n",
              "Artist                                    34\n",
              "Designer                                  34\n",
              "Journalist                                33\n",
              "Entrepreneur                              31\n",
              "Architect                                 30\n",
              "Inventor                                  27\n",
              "Psychologist                              26\n",
              "Photographer                              25\n",
              "Filmmaker                                 21\n",
              "Economist                                 20\n",
              "Educator                                  20\n",
              "Author                                    20\n",
              "Neuroscientist                            20\n",
              "Philosopher                               16\n",
              "Roboticist                                16\n",
              "Biologist                                 15\n",
              "Physicist                                 14\n",
              "Marine biologist                          11\n",
              "Musician                                  11\n",
              "Technologist                              10\n",
              "Global health expert; data visionary      10\n",
              "Activist                                  10\n",
              "Behavioral economist                       9\n",
              "Poet                                       9\n",
              "Oceanographer                              9\n",
              "Singer/songwriter                          9\n",
              "Historian                                  9\n",
              "Graphic designer                           9\n",
              "Philanthropist                             9\n",
              "Astronomer                                 9\n",
              "Social psychologist                        8\n",
              "Futurist                                   8\n",
              "Computer scientist                         8\n",
              "Novelist                                   8\n",
              "Engineer                                   8\n",
              "Mathematician                              7\n",
              "Astrophysicist                             7\n",
              "Evolutionary biologist                     6\n",
              "Photojournalist                            6\n",
              "Writer, activist                           6\n",
              "Techno-illusionist                         6\n",
              "Social entrepreneur                        6\n",
              "Climate advocate                           6\n",
              "Performance poet, multimedia artist        6\n",
              "Reporter                                   6\n",
              "Legal activist                             6\n",
              "Comedian                                   6\n",
              "Singer-songwriter                          6\n",
              "Musician, activist                         5\n",
              "Name: speaker_occupation, dtype: int64"
            ]
          },
          "metadata": {
            "tags": []
          },
          "execution_count": 114
        }
      ]
    },
    {
      "cell_type": "code",
      "metadata": {
        "id": "bue0jMH8-_at",
        "colab": {
          "base_uri": "https://localhost:8080/",
          "height": 121
        },
        "outputId": "3d416cdb-8800-4445-e0df-4fabf2766bc3"
      },
      "source": [
        "test.head()"
      ],
      "execution_count": null,
      "outputs": [
        {
          "output_type": "execute_result",
          "data": {
            "text/plain": [
              "0                                   Other\n",
              "1                        Climate advocate\n",
              "2                                   Other\n",
              "3                                   Other\n",
              "4    Global health expert; data visionary\n",
              "Name: speaker_occupation, dtype: object"
            ]
          },
          "metadata": {
            "tags": []
          },
          "execution_count": 115
        }
      ]
    },
    {
      "cell_type": "code",
      "metadata": {
        "id": "bidMhDG_NeOC"
      },
      "source": [
        "one_hot_vectors = pd.get_dummies(test)"
      ],
      "execution_count": null,
      "outputs": []
    },
    {
      "cell_type": "code",
      "metadata": {
        "id": "U4X53nLNHPyw",
        "colab": {
          "base_uri": "https://localhost:8080/",
          "height": 496
        },
        "outputId": "565a9388-e5bd-42a0-9f56-c300c7fd99c8"
      },
      "source": [
        "one_hot_vectors"
      ],
      "execution_count": null,
      "outputs": [
        {
          "output_type": "execute_result",
          "data": {
            "text/html": [
              "<div>\n",
              "<style scoped>\n",
              "    .dataframe tbody tr th:only-of-type {\n",
              "        vertical-align: middle;\n",
              "    }\n",
              "\n",
              "    .dataframe tbody tr th {\n",
              "        vertical-align: top;\n",
              "    }\n",
              "\n",
              "    .dataframe thead th {\n",
              "        text-align: right;\n",
              "    }\n",
              "</style>\n",
              "<table border=\"1\" class=\"dataframe\">\n",
              "  <thead>\n",
              "    <tr style=\"text-align: right;\">\n",
              "      <th></th>\n",
              "      <th>Activist</th>\n",
              "      <th>Architect</th>\n",
              "      <th>Artist</th>\n",
              "      <th>Astronomer</th>\n",
              "      <th>Astrophysicist</th>\n",
              "      <th>Author</th>\n",
              "      <th>Behavioral economist</th>\n",
              "      <th>Biologist</th>\n",
              "      <th>Climate advocate</th>\n",
              "      <th>Comedian</th>\n",
              "      <th>Computer scientist</th>\n",
              "      <th>Designer</th>\n",
              "      <th>Economist</th>\n",
              "      <th>Educator</th>\n",
              "      <th>Engineer</th>\n",
              "      <th>Entrepreneur</th>\n",
              "      <th>Evolutionary biologist</th>\n",
              "      <th>Filmmaker</th>\n",
              "      <th>Futurist</th>\n",
              "      <th>Global health expert; data visionary</th>\n",
              "      <th>Graphic designer</th>\n",
              "      <th>Historian</th>\n",
              "      <th>Inventor</th>\n",
              "      <th>Journalist</th>\n",
              "      <th>Legal activist</th>\n",
              "      <th>Marine biologist</th>\n",
              "      <th>Mathematician</th>\n",
              "      <th>Musician</th>\n",
              "      <th>Musician, activist</th>\n",
              "      <th>Neuroscientist</th>\n",
              "      <th>Novelist</th>\n",
              "      <th>Oceanographer</th>\n",
              "      <th>Other</th>\n",
              "      <th>Performance poet, multimedia artist</th>\n",
              "      <th>Philanthropist</th>\n",
              "      <th>Philosopher</th>\n",
              "      <th>Photographer</th>\n",
              "      <th>Photojournalist</th>\n",
              "      <th>Physicist</th>\n",
              "      <th>Poet</th>\n",
              "      <th>Psychologist</th>\n",
              "      <th>Reporter</th>\n",
              "      <th>Roboticist</th>\n",
              "      <th>Singer-songwriter</th>\n",
              "      <th>Singer/songwriter</th>\n",
              "      <th>Social entrepreneur</th>\n",
              "      <th>Social psychologist</th>\n",
              "      <th>Techno-illusionist</th>\n",
              "      <th>Technologist</th>\n",
              "      <th>Writer</th>\n",
              "      <th>Writer, activist</th>\n",
              "    </tr>\n",
              "  </thead>\n",
              "  <tbody>\n",
              "    <tr>\n",
              "      <th>0</th>\n",
              "      <td>0</td>\n",
              "      <td>0</td>\n",
              "      <td>0</td>\n",
              "      <td>0</td>\n",
              "      <td>0</td>\n",
              "      <td>0</td>\n",
              "      <td>0</td>\n",
              "      <td>0</td>\n",
              "      <td>0</td>\n",
              "      <td>0</td>\n",
              "      <td>0</td>\n",
              "      <td>0</td>\n",
              "      <td>0</td>\n",
              "      <td>0</td>\n",
              "      <td>0</td>\n",
              "      <td>0</td>\n",
              "      <td>0</td>\n",
              "      <td>0</td>\n",
              "      <td>0</td>\n",
              "      <td>0</td>\n",
              "      <td>0</td>\n",
              "      <td>0</td>\n",
              "      <td>0</td>\n",
              "      <td>0</td>\n",
              "      <td>0</td>\n",
              "      <td>0</td>\n",
              "      <td>0</td>\n",
              "      <td>0</td>\n",
              "      <td>0</td>\n",
              "      <td>0</td>\n",
              "      <td>0</td>\n",
              "      <td>0</td>\n",
              "      <td>1</td>\n",
              "      <td>0</td>\n",
              "      <td>0</td>\n",
              "      <td>0</td>\n",
              "      <td>0</td>\n",
              "      <td>0</td>\n",
              "      <td>0</td>\n",
              "      <td>0</td>\n",
              "      <td>0</td>\n",
              "      <td>0</td>\n",
              "      <td>0</td>\n",
              "      <td>0</td>\n",
              "      <td>0</td>\n",
              "      <td>0</td>\n",
              "      <td>0</td>\n",
              "      <td>0</td>\n",
              "      <td>0</td>\n",
              "      <td>0</td>\n",
              "      <td>0</td>\n",
              "    </tr>\n",
              "    <tr>\n",
              "      <th>1</th>\n",
              "      <td>0</td>\n",
              "      <td>0</td>\n",
              "      <td>0</td>\n",
              "      <td>0</td>\n",
              "      <td>0</td>\n",
              "      <td>0</td>\n",
              "      <td>0</td>\n",
              "      <td>0</td>\n",
              "      <td>1</td>\n",
              "      <td>0</td>\n",
              "      <td>0</td>\n",
              "      <td>0</td>\n",
              "      <td>0</td>\n",
              "      <td>0</td>\n",
              "      <td>0</td>\n",
              "      <td>0</td>\n",
              "      <td>0</td>\n",
              "      <td>0</td>\n",
              "      <td>0</td>\n",
              "      <td>0</td>\n",
              "      <td>0</td>\n",
              "      <td>0</td>\n",
              "      <td>0</td>\n",
              "      <td>0</td>\n",
              "      <td>0</td>\n",
              "      <td>0</td>\n",
              "      <td>0</td>\n",
              "      <td>0</td>\n",
              "      <td>0</td>\n",
              "      <td>0</td>\n",
              "      <td>0</td>\n",
              "      <td>0</td>\n",
              "      <td>0</td>\n",
              "      <td>0</td>\n",
              "      <td>0</td>\n",
              "      <td>0</td>\n",
              "      <td>0</td>\n",
              "      <td>0</td>\n",
              "      <td>0</td>\n",
              "      <td>0</td>\n",
              "      <td>0</td>\n",
              "      <td>0</td>\n",
              "      <td>0</td>\n",
              "      <td>0</td>\n",
              "      <td>0</td>\n",
              "      <td>0</td>\n",
              "      <td>0</td>\n",
              "      <td>0</td>\n",
              "      <td>0</td>\n",
              "      <td>0</td>\n",
              "      <td>0</td>\n",
              "    </tr>\n",
              "    <tr>\n",
              "      <th>2</th>\n",
              "      <td>0</td>\n",
              "      <td>0</td>\n",
              "      <td>0</td>\n",
              "      <td>0</td>\n",
              "      <td>0</td>\n",
              "      <td>0</td>\n",
              "      <td>0</td>\n",
              "      <td>0</td>\n",
              "      <td>0</td>\n",
              "      <td>0</td>\n",
              "      <td>0</td>\n",
              "      <td>0</td>\n",
              "      <td>0</td>\n",
              "      <td>0</td>\n",
              "      <td>0</td>\n",
              "      <td>0</td>\n",
              "      <td>0</td>\n",
              "      <td>0</td>\n",
              "      <td>0</td>\n",
              "      <td>0</td>\n",
              "      <td>0</td>\n",
              "      <td>0</td>\n",
              "      <td>0</td>\n",
              "      <td>0</td>\n",
              "      <td>0</td>\n",
              "      <td>0</td>\n",
              "      <td>0</td>\n",
              "      <td>0</td>\n",
              "      <td>0</td>\n",
              "      <td>0</td>\n",
              "      <td>0</td>\n",
              "      <td>0</td>\n",
              "      <td>1</td>\n",
              "      <td>0</td>\n",
              "      <td>0</td>\n",
              "      <td>0</td>\n",
              "      <td>0</td>\n",
              "      <td>0</td>\n",
              "      <td>0</td>\n",
              "      <td>0</td>\n",
              "      <td>0</td>\n",
              "      <td>0</td>\n",
              "      <td>0</td>\n",
              "      <td>0</td>\n",
              "      <td>0</td>\n",
              "      <td>0</td>\n",
              "      <td>0</td>\n",
              "      <td>0</td>\n",
              "      <td>0</td>\n",
              "      <td>0</td>\n",
              "      <td>0</td>\n",
              "    </tr>\n",
              "    <tr>\n",
              "      <th>3</th>\n",
              "      <td>0</td>\n",
              "      <td>0</td>\n",
              "      <td>0</td>\n",
              "      <td>0</td>\n",
              "      <td>0</td>\n",
              "      <td>0</td>\n",
              "      <td>0</td>\n",
              "      <td>0</td>\n",
              "      <td>0</td>\n",
              "      <td>0</td>\n",
              "      <td>0</td>\n",
              "      <td>0</td>\n",
              "      <td>0</td>\n",
              "      <td>0</td>\n",
              "      <td>0</td>\n",
              "      <td>0</td>\n",
              "      <td>0</td>\n",
              "      <td>0</td>\n",
              "      <td>0</td>\n",
              "      <td>0</td>\n",
              "      <td>0</td>\n",
              "      <td>0</td>\n",
              "      <td>0</td>\n",
              "      <td>0</td>\n",
              "      <td>0</td>\n",
              "      <td>0</td>\n",
              "      <td>0</td>\n",
              "      <td>0</td>\n",
              "      <td>0</td>\n",
              "      <td>0</td>\n",
              "      <td>0</td>\n",
              "      <td>0</td>\n",
              "      <td>1</td>\n",
              "      <td>0</td>\n",
              "      <td>0</td>\n",
              "      <td>0</td>\n",
              "      <td>0</td>\n",
              "      <td>0</td>\n",
              "      <td>0</td>\n",
              "      <td>0</td>\n",
              "      <td>0</td>\n",
              "      <td>0</td>\n",
              "      <td>0</td>\n",
              "      <td>0</td>\n",
              "      <td>0</td>\n",
              "      <td>0</td>\n",
              "      <td>0</td>\n",
              "      <td>0</td>\n",
              "      <td>0</td>\n",
              "      <td>0</td>\n",
              "      <td>0</td>\n",
              "    </tr>\n",
              "    <tr>\n",
              "      <th>4</th>\n",
              "      <td>0</td>\n",
              "      <td>0</td>\n",
              "      <td>0</td>\n",
              "      <td>0</td>\n",
              "      <td>0</td>\n",
              "      <td>0</td>\n",
              "      <td>0</td>\n",
              "      <td>0</td>\n",
              "      <td>0</td>\n",
              "      <td>0</td>\n",
              "      <td>0</td>\n",
              "      <td>0</td>\n",
              "      <td>0</td>\n",
              "      <td>0</td>\n",
              "      <td>0</td>\n",
              "      <td>0</td>\n",
              "      <td>0</td>\n",
              "      <td>0</td>\n",
              "      <td>0</td>\n",
              "      <td>1</td>\n",
              "      <td>0</td>\n",
              "      <td>0</td>\n",
              "      <td>0</td>\n",
              "      <td>0</td>\n",
              "      <td>0</td>\n",
              "      <td>0</td>\n",
              "      <td>0</td>\n",
              "      <td>0</td>\n",
              "      <td>0</td>\n",
              "      <td>0</td>\n",
              "      <td>0</td>\n",
              "      <td>0</td>\n",
              "      <td>0</td>\n",
              "      <td>0</td>\n",
              "      <td>0</td>\n",
              "      <td>0</td>\n",
              "      <td>0</td>\n",
              "      <td>0</td>\n",
              "      <td>0</td>\n",
              "      <td>0</td>\n",
              "      <td>0</td>\n",
              "      <td>0</td>\n",
              "      <td>0</td>\n",
              "      <td>0</td>\n",
              "      <td>0</td>\n",
              "      <td>0</td>\n",
              "      <td>0</td>\n",
              "      <td>0</td>\n",
              "      <td>0</td>\n",
              "      <td>0</td>\n",
              "      <td>0</td>\n",
              "    </tr>\n",
              "    <tr>\n",
              "      <th>...</th>\n",
              "      <td>...</td>\n",
              "      <td>...</td>\n",
              "      <td>...</td>\n",
              "      <td>...</td>\n",
              "      <td>...</td>\n",
              "      <td>...</td>\n",
              "      <td>...</td>\n",
              "      <td>...</td>\n",
              "      <td>...</td>\n",
              "      <td>...</td>\n",
              "      <td>...</td>\n",
              "      <td>...</td>\n",
              "      <td>...</td>\n",
              "      <td>...</td>\n",
              "      <td>...</td>\n",
              "      <td>...</td>\n",
              "      <td>...</td>\n",
              "      <td>...</td>\n",
              "      <td>...</td>\n",
              "      <td>...</td>\n",
              "      <td>...</td>\n",
              "      <td>...</td>\n",
              "      <td>...</td>\n",
              "      <td>...</td>\n",
              "      <td>...</td>\n",
              "      <td>...</td>\n",
              "      <td>...</td>\n",
              "      <td>...</td>\n",
              "      <td>...</td>\n",
              "      <td>...</td>\n",
              "      <td>...</td>\n",
              "      <td>...</td>\n",
              "      <td>...</td>\n",
              "      <td>...</td>\n",
              "      <td>...</td>\n",
              "      <td>...</td>\n",
              "      <td>...</td>\n",
              "      <td>...</td>\n",
              "      <td>...</td>\n",
              "      <td>...</td>\n",
              "      <td>...</td>\n",
              "      <td>...</td>\n",
              "      <td>...</td>\n",
              "      <td>...</td>\n",
              "      <td>...</td>\n",
              "      <td>...</td>\n",
              "      <td>...</td>\n",
              "      <td>...</td>\n",
              "      <td>...</td>\n",
              "      <td>...</td>\n",
              "      <td>...</td>\n",
              "    </tr>\n",
              "    <tr>\n",
              "      <th>2545</th>\n",
              "      <td>0</td>\n",
              "      <td>0</td>\n",
              "      <td>0</td>\n",
              "      <td>0</td>\n",
              "      <td>0</td>\n",
              "      <td>0</td>\n",
              "      <td>0</td>\n",
              "      <td>0</td>\n",
              "      <td>0</td>\n",
              "      <td>0</td>\n",
              "      <td>0</td>\n",
              "      <td>0</td>\n",
              "      <td>0</td>\n",
              "      <td>0</td>\n",
              "      <td>0</td>\n",
              "      <td>0</td>\n",
              "      <td>0</td>\n",
              "      <td>0</td>\n",
              "      <td>0</td>\n",
              "      <td>0</td>\n",
              "      <td>0</td>\n",
              "      <td>0</td>\n",
              "      <td>0</td>\n",
              "      <td>1</td>\n",
              "      <td>0</td>\n",
              "      <td>0</td>\n",
              "      <td>0</td>\n",
              "      <td>0</td>\n",
              "      <td>0</td>\n",
              "      <td>0</td>\n",
              "      <td>0</td>\n",
              "      <td>0</td>\n",
              "      <td>0</td>\n",
              "      <td>0</td>\n",
              "      <td>0</td>\n",
              "      <td>0</td>\n",
              "      <td>0</td>\n",
              "      <td>0</td>\n",
              "      <td>0</td>\n",
              "      <td>0</td>\n",
              "      <td>0</td>\n",
              "      <td>0</td>\n",
              "      <td>0</td>\n",
              "      <td>0</td>\n",
              "      <td>0</td>\n",
              "      <td>0</td>\n",
              "      <td>0</td>\n",
              "      <td>0</td>\n",
              "      <td>0</td>\n",
              "      <td>0</td>\n",
              "      <td>0</td>\n",
              "    </tr>\n",
              "    <tr>\n",
              "      <th>2546</th>\n",
              "      <td>0</td>\n",
              "      <td>0</td>\n",
              "      <td>0</td>\n",
              "      <td>0</td>\n",
              "      <td>0</td>\n",
              "      <td>0</td>\n",
              "      <td>0</td>\n",
              "      <td>0</td>\n",
              "      <td>0</td>\n",
              "      <td>0</td>\n",
              "      <td>0</td>\n",
              "      <td>0</td>\n",
              "      <td>0</td>\n",
              "      <td>0</td>\n",
              "      <td>0</td>\n",
              "      <td>0</td>\n",
              "      <td>0</td>\n",
              "      <td>0</td>\n",
              "      <td>0</td>\n",
              "      <td>0</td>\n",
              "      <td>0</td>\n",
              "      <td>0</td>\n",
              "      <td>0</td>\n",
              "      <td>0</td>\n",
              "      <td>0</td>\n",
              "      <td>0</td>\n",
              "      <td>0</td>\n",
              "      <td>0</td>\n",
              "      <td>0</td>\n",
              "      <td>0</td>\n",
              "      <td>0</td>\n",
              "      <td>0</td>\n",
              "      <td>1</td>\n",
              "      <td>0</td>\n",
              "      <td>0</td>\n",
              "      <td>0</td>\n",
              "      <td>0</td>\n",
              "      <td>0</td>\n",
              "      <td>0</td>\n",
              "      <td>0</td>\n",
              "      <td>0</td>\n",
              "      <td>0</td>\n",
              "      <td>0</td>\n",
              "      <td>0</td>\n",
              "      <td>0</td>\n",
              "      <td>0</td>\n",
              "      <td>0</td>\n",
              "      <td>0</td>\n",
              "      <td>0</td>\n",
              "      <td>0</td>\n",
              "      <td>0</td>\n",
              "    </tr>\n",
              "    <tr>\n",
              "      <th>2547</th>\n",
              "      <td>0</td>\n",
              "      <td>0</td>\n",
              "      <td>0</td>\n",
              "      <td>0</td>\n",
              "      <td>0</td>\n",
              "      <td>0</td>\n",
              "      <td>0</td>\n",
              "      <td>0</td>\n",
              "      <td>0</td>\n",
              "      <td>0</td>\n",
              "      <td>0</td>\n",
              "      <td>0</td>\n",
              "      <td>0</td>\n",
              "      <td>0</td>\n",
              "      <td>0</td>\n",
              "      <td>0</td>\n",
              "      <td>0</td>\n",
              "      <td>0</td>\n",
              "      <td>0</td>\n",
              "      <td>0</td>\n",
              "      <td>0</td>\n",
              "      <td>0</td>\n",
              "      <td>0</td>\n",
              "      <td>0</td>\n",
              "      <td>0</td>\n",
              "      <td>0</td>\n",
              "      <td>0</td>\n",
              "      <td>0</td>\n",
              "      <td>0</td>\n",
              "      <td>0</td>\n",
              "      <td>0</td>\n",
              "      <td>0</td>\n",
              "      <td>1</td>\n",
              "      <td>0</td>\n",
              "      <td>0</td>\n",
              "      <td>0</td>\n",
              "      <td>0</td>\n",
              "      <td>0</td>\n",
              "      <td>0</td>\n",
              "      <td>0</td>\n",
              "      <td>0</td>\n",
              "      <td>0</td>\n",
              "      <td>0</td>\n",
              "      <td>0</td>\n",
              "      <td>0</td>\n",
              "      <td>0</td>\n",
              "      <td>0</td>\n",
              "      <td>0</td>\n",
              "      <td>0</td>\n",
              "      <td>0</td>\n",
              "      <td>0</td>\n",
              "    </tr>\n",
              "    <tr>\n",
              "      <th>2548</th>\n",
              "      <td>0</td>\n",
              "      <td>0</td>\n",
              "      <td>0</td>\n",
              "      <td>0</td>\n",
              "      <td>0</td>\n",
              "      <td>0</td>\n",
              "      <td>0</td>\n",
              "      <td>0</td>\n",
              "      <td>0</td>\n",
              "      <td>0</td>\n",
              "      <td>0</td>\n",
              "      <td>0</td>\n",
              "      <td>0</td>\n",
              "      <td>0</td>\n",
              "      <td>0</td>\n",
              "      <td>0</td>\n",
              "      <td>0</td>\n",
              "      <td>0</td>\n",
              "      <td>0</td>\n",
              "      <td>0</td>\n",
              "      <td>0</td>\n",
              "      <td>0</td>\n",
              "      <td>0</td>\n",
              "      <td>0</td>\n",
              "      <td>0</td>\n",
              "      <td>0</td>\n",
              "      <td>0</td>\n",
              "      <td>0</td>\n",
              "      <td>0</td>\n",
              "      <td>0</td>\n",
              "      <td>0</td>\n",
              "      <td>0</td>\n",
              "      <td>1</td>\n",
              "      <td>0</td>\n",
              "      <td>0</td>\n",
              "      <td>0</td>\n",
              "      <td>0</td>\n",
              "      <td>0</td>\n",
              "      <td>0</td>\n",
              "      <td>0</td>\n",
              "      <td>0</td>\n",
              "      <td>0</td>\n",
              "      <td>0</td>\n",
              "      <td>0</td>\n",
              "      <td>0</td>\n",
              "      <td>0</td>\n",
              "      <td>0</td>\n",
              "      <td>0</td>\n",
              "      <td>0</td>\n",
              "      <td>0</td>\n",
              "      <td>0</td>\n",
              "    </tr>\n",
              "    <tr>\n",
              "      <th>2549</th>\n",
              "      <td>0</td>\n",
              "      <td>0</td>\n",
              "      <td>0</td>\n",
              "      <td>0</td>\n",
              "      <td>0</td>\n",
              "      <td>0</td>\n",
              "      <td>0</td>\n",
              "      <td>0</td>\n",
              "      <td>0</td>\n",
              "      <td>0</td>\n",
              "      <td>0</td>\n",
              "      <td>0</td>\n",
              "      <td>0</td>\n",
              "      <td>0</td>\n",
              "      <td>0</td>\n",
              "      <td>0</td>\n",
              "      <td>0</td>\n",
              "      <td>0</td>\n",
              "      <td>0</td>\n",
              "      <td>0</td>\n",
              "      <td>0</td>\n",
              "      <td>0</td>\n",
              "      <td>0</td>\n",
              "      <td>0</td>\n",
              "      <td>0</td>\n",
              "      <td>0</td>\n",
              "      <td>0</td>\n",
              "      <td>0</td>\n",
              "      <td>0</td>\n",
              "      <td>0</td>\n",
              "      <td>0</td>\n",
              "      <td>0</td>\n",
              "      <td>1</td>\n",
              "      <td>0</td>\n",
              "      <td>0</td>\n",
              "      <td>0</td>\n",
              "      <td>0</td>\n",
              "      <td>0</td>\n",
              "      <td>0</td>\n",
              "      <td>0</td>\n",
              "      <td>0</td>\n",
              "      <td>0</td>\n",
              "      <td>0</td>\n",
              "      <td>0</td>\n",
              "      <td>0</td>\n",
              "      <td>0</td>\n",
              "      <td>0</td>\n",
              "      <td>0</td>\n",
              "      <td>0</td>\n",
              "      <td>0</td>\n",
              "      <td>0</td>\n",
              "    </tr>\n",
              "  </tbody>\n",
              "</table>\n",
              "<p>2544 rows × 51 columns</p>\n",
              "</div>"
            ],
            "text/plain": [
              "      Activist  Architect  Artist  ...  Technologist  Writer  Writer, activist\n",
              "0            0          0       0  ...             0       0                 0\n",
              "1            0          0       0  ...             0       0                 0\n",
              "2            0          0       0  ...             0       0                 0\n",
              "3            0          0       0  ...             0       0                 0\n",
              "4            0          0       0  ...             0       0                 0\n",
              "...        ...        ...     ...  ...           ...     ...               ...\n",
              "2545         0          0       0  ...             0       0                 0\n",
              "2546         0          0       0  ...             0       0                 0\n",
              "2547         0          0       0  ...             0       0                 0\n",
              "2548         0          0       0  ...             0       0                 0\n",
              "2549         0          0       0  ...             0       0                 0\n",
              "\n",
              "[2544 rows x 51 columns]"
            ]
          },
          "metadata": {
            "tags": []
          },
          "execution_count": 117
        }
      ]
    },
    {
      "cell_type": "code",
      "metadata": {
        "id": "nB6IQJoTHpeo",
        "colab": {
          "base_uri": "https://localhost:8080/",
          "height": 225
        },
        "outputId": "ff338edc-6486-4013-9d29-79eeeaa2d6b5"
      },
      "source": [
        "ted_main['tags']"
      ],
      "execution_count": null,
      "outputs": [
        {
          "output_type": "execute_result",
          "data": {
            "text/plain": [
              "0       [children, creativity, culture, dance, educati...\n",
              "1       [alternative energy, cars, climate change, cul...\n",
              "2       [computers, entertainment, interface design, m...\n",
              "3       [MacArthur grant, activism, business, cities, ...\n",
              "4       [Africa, Asia, Google, demo, economics, global...\n",
              "                              ...                        \n",
              "2545    [TED Residency, United States, community, fami...\n",
              "2546    [Mars, South America, TED Fellows, astrobiolog...\n",
              "2547    [AI, ants, fish, future, innovation, insects, ...\n",
              "2548    [Internet, TEDx, United States, community, com...\n",
              "2549    [cities, design, future, infrastructure, play,...\n",
              "Name: tags, Length: 2544, dtype: object"
            ]
          },
          "metadata": {
            "tags": []
          },
          "execution_count": 118
        }
      ]
    },
    {
      "cell_type": "markdown",
      "metadata": {
        "id": "_mH16l09JbIR"
      },
      "source": [
        "## Splitting data into train and test sets"
      ]
    },
    {
      "cell_type": "code",
      "metadata": {
        "id": "E42MGgzXOGNf"
      },
      "source": [
        "from sklearn.metrics import accuracy_score\n",
        "from sklearn.model_selection import train_test_split\n",
        "\n",
        "X = one_hot_vectors\n",
        "y = ted_main['tags'].apply(lambda x: 'technology' in x)\n",
        "\n",
        "X_train, X_test, y_train, y_test = train_test_split(X, y, test_size=0.3)"
      ],
      "execution_count": null,
      "outputs": []
    },
    {
      "cell_type": "code",
      "metadata": {
        "id": "nJ9fq3jbH1Fw",
        "colab": {
          "base_uri": "https://localhost:8080/",
          "height": 35
        },
        "outputId": "4293e5b6-2b4f-4d9f-c7f2-965da093f8be"
      },
      "source": [
        "len(X_train), len(X_test)"
      ],
      "execution_count": null,
      "outputs": [
        {
          "output_type": "execute_result",
          "data": {
            "text/plain": [
              "(1780, 764)"
            ]
          },
          "metadata": {
            "tags": []
          },
          "execution_count": 119
        }
      ]
    },
    {
      "cell_type": "code",
      "metadata": {
        "id": "1rkm0TiAIBqu",
        "colab": {
          "base_uri": "https://localhost:8080/",
          "height": 69
        },
        "outputId": "89492734-e38a-4a1b-f6d1-0df16954f408"
      },
      "source": [
        "y.value_counts()"
      ],
      "execution_count": null,
      "outputs": [
        {
          "output_type": "execute_result",
          "data": {
            "text/plain": [
              "False    1821\n",
              "True      723\n",
              "Name: tags, dtype: int64"
            ]
          },
          "metadata": {
            "tags": []
          },
          "execution_count": 120
        }
      ]
    },
    {
      "cell_type": "markdown",
      "metadata": {
        "id": "qXJGOQXUJkCy"
      },
      "source": [
        "## Importing a logistic regression classifier and using it to predict whether the talk has the Technology tag"
      ]
    },
    {
      "cell_type": "code",
      "metadata": {
        "id": "243_tQswaMlx",
        "colab": {
          "base_uri": "https://localhost:8080/",
          "height": 121
        },
        "outputId": "bde4803b-2e4b-4e87-a9e1-dfdcdb89b9b3"
      },
      "source": [
        "from sklearn.linear_model import LogisticRegression\n",
        "\n",
        "clf = LogisticRegression(solver='lbfgs')\n",
        "clf.fit(X_train, y_train)\n",
        "preds = clf.predict(X_test)\n",
        "\n",
        "print(\"Predicting if the talk is related to Technology using a Logistic Regression classifier:\")\n",
        "print(\"\\nThe classifier's accuracy is... *drum roll*\\n\\n%s percent!\\n\" % round(100*accuracy_score(y_test, preds), 2))"
      ],
      "execution_count": null,
      "outputs": [
        {
          "output_type": "stream",
          "text": [
            "Predicting if the talk is related to Technology using a Logistic Regression classifier:\n",
            "\n",
            "The classifier's accuracy is... *drum roll*\n",
            "\n",
            "74.61 percent!\n",
            "\n"
          ],
          "name": "stdout"
        }
      ]
    },
    {
      "cell_type": "code",
      "metadata": {
        "id": "azaeJuRcIwKp"
      },
      "source": [
        "accuracy_score?"
      ],
      "execution_count": null,
      "outputs": []
    },
    {
      "cell_type": "code",
      "metadata": {
        "id": "T8PCifRN9VdE"
      },
      "source": [
        "from sklearn.metrics import classification_report"
      ],
      "execution_count": null,
      "outputs": []
    },
    {
      "cell_type": "code",
      "metadata": {
        "id": "YfeFau6V9YA1",
        "colab": {
          "base_uri": "https://localhost:8080/",
          "height": 173
        },
        "outputId": "321cd906-fc03-4d5f-cd52-1804ad4eb643"
      },
      "source": [
        "print(classification_report(y_test, preds))"
      ],
      "execution_count": null,
      "outputs": [
        {
          "output_type": "stream",
          "text": [
            "              precision    recall  f1-score   support\n",
            "\n",
            "       False       0.74      0.99      0.85       544\n",
            "        True       0.91      0.13      0.23       220\n",
            "\n",
            "    accuracy                           0.75       764\n",
            "   macro avg       0.82      0.56      0.54       764\n",
            "weighted avg       0.79      0.75      0.67       764\n",
            "\n"
          ],
          "name": "stdout"
        }
      ]
    },
    {
      "cell_type": "markdown",
      "metadata": {
        "id": "cJKRyAhFJwtx"
      },
      "source": [
        "## Importing a decision tree classifier and using it to predict whether the talk has the Technology tag"
      ]
    },
    {
      "cell_type": "code",
      "metadata": {
        "id": "O1glOTtfbDlI",
        "colab": {
          "base_uri": "https://localhost:8080/",
          "height": 121
        },
        "outputId": "4e89ca1e-1229-48d5-f33e-705af76bb8a9"
      },
      "source": [
        "from sklearn.tree import DecisionTreeClassifier\n",
        "\n",
        "clf2 = DecisionTreeClassifier()\n",
        "clf2.fit(X_train, y_train)\n",
        "preds = clf2.predict(X_test)\n",
        "\n",
        "print(\"Predicting if the talk is related to Technology using a Logistic Regression classifier:\")\n",
        "# print(classification_report(y_test, preds))\n",
        "print(\"\\nThe classifier's accuracy is... *drum roll*\\n\\n%s percent!\\n\" % round(100*accuracy_score(y_test, preds), 2))"
      ],
      "execution_count": null,
      "outputs": [
        {
          "output_type": "stream",
          "text": [
            "Predicting if the talk is related to Technology using a Logistic Regression classifier:\n",
            "\n",
            "The classifier's accuracy is... *drum roll*\n",
            "\n",
            "75.52 percent!\n",
            "\n"
          ],
          "name": "stdout"
        }
      ]
    },
    {
      "cell_type": "markdown",
      "metadata": {
        "id": "BF74iWPnQYOf"
      },
      "source": [
        ""
      ]
    },
    {
      "cell_type": "code",
      "metadata": {
        "id": "81w2Qpmc9O1B"
      },
      "source": [
        ""
      ],
      "execution_count": null,
      "outputs": []
    }
  ]
}